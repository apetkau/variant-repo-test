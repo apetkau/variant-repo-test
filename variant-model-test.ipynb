{
 "cells": [
  {
   "cell_type": "markdown",
   "metadata": {},
   "source": [
    "# Variants"
   ]
  },
  {
   "cell_type": "code",
   "execution_count": 1,
   "metadata": {},
   "outputs": [
    {
     "data": {
      "text/html": [
       "<div>\n",
       "<style scoped>\n",
       "    .dataframe tbody tr th:only-of-type {\n",
       "        vertical-align: middle;\n",
       "    }\n",
       "\n",
       "    .dataframe tbody tr th {\n",
       "        vertical-align: top;\n",
       "    }\n",
       "\n",
       "    .dataframe thead th {\n",
       "        text-align: right;\n",
       "    }\n",
       "</style>\n",
       "<table border=\"1\" class=\"dataframe\">\n",
       "  <thead>\n",
       "    <tr style=\"text-align: right;\">\n",
       "      <th></th>\n",
       "      <th>FILE</th>\n",
       "      <th>CHROM</th>\n",
       "      <th>POS</th>\n",
       "      <th>REF</th>\n",
       "      <th>ALT</th>\n",
       "      <th>DP</th>\n",
       "      <th>QUAL</th>\n",
       "      <th>RO</th>\n",
       "      <th>AO</th>\n",
       "      <th>TYPE</th>\n",
       "    </tr>\n",
       "  </thead>\n",
       "  <tbody>\n",
       "    <tr>\n",
       "      <th>0</th>\n",
       "      <td>2014C-3857.filt.vcf</td>\n",
       "      <td>JASV01000001.1</td>\n",
       "      <td>16854</td>\n",
       "      <td>T</td>\n",
       "      <td>C</td>\n",
       "      <td>38</td>\n",
       "      <td>1175.580</td>\n",
       "      <td>0</td>\n",
       "      <td>38</td>\n",
       "      <td>snp</td>\n",
       "    </tr>\n",
       "    <tr>\n",
       "      <th>1</th>\n",
       "      <td>2014C-3857.filt.vcf</td>\n",
       "      <td>JASV01000001.1</td>\n",
       "      <td>16871</td>\n",
       "      <td>C</td>\n",
       "      <td>C</td>\n",
       "      <td>29</td>\n",
       "      <td>832.403</td>\n",
       "      <td>0</td>\n",
       "      <td>28</td>\n",
       "      <td>del</td>\n",
       "    </tr>\n",
       "    <tr>\n",
       "      <th>2</th>\n",
       "      <td>2014C-3857.filt.vcf</td>\n",
       "      <td>JASV01000001.1</td>\n",
       "      <td>16897</td>\n",
       "      <td>G</td>\n",
       "      <td>C</td>\n",
       "      <td>25</td>\n",
       "      <td>735.848</td>\n",
       "      <td>0</td>\n",
       "      <td>25</td>\n",
       "      <td>snp</td>\n",
       "    </tr>\n",
       "    <tr>\n",
       "      <th>3</th>\n",
       "      <td>2014C-3857.filt.vcf</td>\n",
       "      <td>JASV01000001.1</td>\n",
       "      <td>17327</td>\n",
       "      <td>T</td>\n",
       "      <td>TA</td>\n",
       "      <td>11</td>\n",
       "      <td>258.368</td>\n",
       "      <td>0</td>\n",
       "      <td>11</td>\n",
       "      <td>ins</td>\n",
       "    </tr>\n",
       "    <tr>\n",
       "      <th>4</th>\n",
       "      <td>2014C-3857.filt.vcf</td>\n",
       "      <td>JASV01000001.1</td>\n",
       "      <td>17335</td>\n",
       "      <td>G</td>\n",
       "      <td>G</td>\n",
       "      <td>13</td>\n",
       "      <td>292.065</td>\n",
       "      <td>0</td>\n",
       "      <td>13</td>\n",
       "      <td>del</td>\n",
       "    </tr>\n",
       "    <tr>\n",
       "      <th>...</th>\n",
       "      <td>...</td>\n",
       "      <td>...</td>\n",
       "      <td>...</td>\n",
       "      <td>...</td>\n",
       "      <td>...</td>\n",
       "      <td>...</td>\n",
       "      <td>...</td>\n",
       "      <td>...</td>\n",
       "      <td>...</td>\n",
       "      <td>...</td>\n",
       "    </tr>\n",
       "    <tr>\n",
       "      <th>125</th>\n",
       "      <td>2014C-3600.filt.vcf</td>\n",
       "      <td>JASV01000007.1</td>\n",
       "      <td>767386</td>\n",
       "      <td>A</td>\n",
       "      <td>G</td>\n",
       "      <td>87</td>\n",
       "      <td>2684.540</td>\n",
       "      <td>0</td>\n",
       "      <td>87</td>\n",
       "      <td>snp</td>\n",
       "    </tr>\n",
       "    <tr>\n",
       "      <th>126</th>\n",
       "      <td>2014C-3600.filt.vcf</td>\n",
       "      <td>JASV01000007.1</td>\n",
       "      <td>890046</td>\n",
       "      <td>T</td>\n",
       "      <td>C</td>\n",
       "      <td>96</td>\n",
       "      <td>3115.580</td>\n",
       "      <td>0</td>\n",
       "      <td>96</td>\n",
       "      <td>snp</td>\n",
       "    </tr>\n",
       "    <tr>\n",
       "      <th>127</th>\n",
       "      <td>2014C-3600.filt.vcf</td>\n",
       "      <td>JASV01000007.1</td>\n",
       "      <td>958303</td>\n",
       "      <td>T</td>\n",
       "      <td>G</td>\n",
       "      <td>93</td>\n",
       "      <td>3115.200</td>\n",
       "      <td>0</td>\n",
       "      <td>93</td>\n",
       "      <td>snp</td>\n",
       "    </tr>\n",
       "    <tr>\n",
       "      <th>128</th>\n",
       "      <td>2014C-3600.filt.vcf</td>\n",
       "      <td>JASV01000007.1</td>\n",
       "      <td>963356</td>\n",
       "      <td>A</td>\n",
       "      <td>G</td>\n",
       "      <td>23</td>\n",
       "      <td>692.768</td>\n",
       "      <td>0</td>\n",
       "      <td>23</td>\n",
       "      <td>snp</td>\n",
       "    </tr>\n",
       "    <tr>\n",
       "      <th>129</th>\n",
       "      <td>2014C-3600.filt.vcf</td>\n",
       "      <td>JASV01000007.1</td>\n",
       "      <td>1014501</td>\n",
       "      <td>A</td>\n",
       "      <td>G</td>\n",
       "      <td>148</td>\n",
       "      <td>4451.050</td>\n",
       "      <td>1</td>\n",
       "      <td>145</td>\n",
       "      <td>snp</td>\n",
       "    </tr>\n",
       "  </tbody>\n",
       "</table>\n",
       "<p>1353 rows × 10 columns</p>\n",
       "</div>"
      ],
      "text/plain": [
       "                    FILE           CHROM      POS REF ALT   DP      QUAL  RO  \\\n",
       "0    2014C-3857.filt.vcf  JASV01000001.1    16854   T   C   38  1175.580   0   \n",
       "1    2014C-3857.filt.vcf  JASV01000001.1    16871   C   C   29   832.403   0   \n",
       "2    2014C-3857.filt.vcf  JASV01000001.1    16897   G   C   25   735.848   0   \n",
       "3    2014C-3857.filt.vcf  JASV01000001.1    17327   T  TA   11   258.368   0   \n",
       "4    2014C-3857.filt.vcf  JASV01000001.1    17335   G   G   13   292.065   0   \n",
       "..                   ...             ...      ...  ..  ..  ...       ...  ..   \n",
       "125  2014C-3600.filt.vcf  JASV01000007.1   767386   A   G   87  2684.540   0   \n",
       "126  2014C-3600.filt.vcf  JASV01000007.1   890046   T   C   96  3115.580   0   \n",
       "127  2014C-3600.filt.vcf  JASV01000007.1   958303   T   G   93  3115.200   0   \n",
       "128  2014C-3600.filt.vcf  JASV01000007.1   963356   A   G   23   692.768   0   \n",
       "129  2014C-3600.filt.vcf  JASV01000007.1  1014501   A   G  148  4451.050   1   \n",
       "\n",
       "      AO TYPE  \n",
       "0     38  snp  \n",
       "1     28  del  \n",
       "2     25  snp  \n",
       "3     11  ins  \n",
       "4     13  del  \n",
       "..   ...  ...  \n",
       "125   87  snp  \n",
       "126   96  snp  \n",
       "127   93  snp  \n",
       "128   23  snp  \n",
       "129  145  snp  \n",
       "\n",
       "[1353 rows x 10 columns]"
      ]
     },
     "execution_count": 1,
     "metadata": {},
     "output_type": "execute_result"
    }
   ],
   "source": [
    "from typing import List\n",
    "import vcf\n",
    "import pandas as pd\n",
    "import re\n",
    "import os\n",
    "\n",
    "class VariantsReader:\n",
    "    \n",
    "    def __init__(self):\n",
    "        pass\n",
    "\n",
    "    def read_vcf(self, file: str) -> pd.DataFrame:\n",
    "        reader = vcf.Reader(open(file, 'r'))\n",
    "        df = pd.DataFrame([vars(r) for r in reader])\n",
    "        out = df.merge(pd.DataFrame(df.INFO.tolist()),\n",
    "                       left_index=True, right_index=True)\n",
    "        out = out[['CHROM', 'POS', 'REF', 'ALT', 'DP', 'QUAL', 'RO', 'AO', 'INFO']]\n",
    "        out['TYPE'] = out['INFO'].map(lambda x: x['TYPE'][0])\n",
    "        out = out.drop('INFO', axis='columns')\n",
    "        out['ALT'] = out['ALT'].map(lambda x: str(x[0]))\n",
    "        out['REF'] = out['REF'].map(lambda x: str(x[0]))\n",
    "        out['AO'] = out['AO'].map(lambda x: x[0])\n",
    "        cols = out.columns.tolist()\n",
    "        out['FILE'] = os.path.basename(file)\n",
    "        out = out.reindex(columns=['FILE'] + cols)\n",
    "        return out\n",
    "\n",
    "    def read_vcfs(self, files: List[str]) -> pd.DataFrame:\n",
    "        frames = [self.read_vcf(f) for f in files]\n",
    "        return pd.concat(frames)\n",
    "\n",
    "directory = 'data/snps-vcf'\n",
    "files = [os.path.join(directory, f) for f in os.listdir('data/snps-vcf')]\n",
    "files = [f for f in files if f.endswith('.vcf')]\n",
    "\n",
    "vr = VariantsReader()\n",
    "df = vr.read_vcfs(files)\n",
    "df"
   ]
  },
  {
   "cell_type": "code",
   "execution_count": 2,
   "metadata": {},
   "outputs": [
    {
     "data": {
      "text/plain": [
       "['2014C-3907',\n",
       " '2014C-3840',\n",
       " '2014C-3656',\n",
       " '2014C-3655',\n",
       " '2014C-3857',\n",
       " '2014C-3600',\n",
       " '2014C-3850',\n",
       " '2014C-3599',\n",
       " '2014C-3598']"
      ]
     },
     "execution_count": 2,
     "metadata": {},
     "output_type": "execute_result"
    }
   ],
   "source": [
    "import re\n",
    "\n",
    "sample_names = df.FILE.value_counts().index.tolist()\n",
    "sample_names = [re.sub('\\.filt\\.vcf$', '', n) for n in sample_names]\n",
    "sample_names"
   ]
  },
  {
   "cell_type": "markdown",
   "metadata": {},
   "source": [
    "# DB model"
   ]
  },
  {
   "cell_type": "code",
   "execution_count": 3,
   "metadata": {},
   "outputs": [
    {
     "data": {
      "text/plain": [
       "0.5714285714285714"
      ]
     },
     "execution_count": 3,
     "metadata": {},
     "output_type": "execute_result"
    }
   ],
   "source": [
    "from bitarray import bitarray\n",
    "import Bio.Seq\n",
    "\n",
    "class CoreBitMask:\n",
    "    \n",
    "    def __init__(self, sequence: Bio.Seq.Seq = None, existing_bitmask: bitarray = None):\n",
    "        if existing_bitmask is not None and sequence is not None:\n",
    "            raise Exception(f'Cannot set both existing_bitmask={existing_bitmask} and sequence={sequence}')\n",
    "            \n",
    "        if existing_bitmask:\n",
    "            self._core_bitmask = existing_bitmask\n",
    "        elif sequence:\n",
    "            self._core_bitmask = bitarray(len(sequence))\n",
    "            self._core_bitmask.setall(True)\n",
    "            self._add_sequence(sequence)\n",
    "        else:\n",
    "            raise Exception('If no existing_bitmask set then sequence must be defined')\n",
    "            \n",
    "    def _add_sequence(self, sequence: Bio.Seq.Seq) -> float:\n",
    "        for idx, char in enumerate(sequence):\n",
    "            if char.upper() == 'N' or char == '-':\n",
    "                self._core_bitmask[idx] = False\n",
    "                \n",
    "    def get_bytes(self):\n",
    "        return self._core_bitmask.tobytes()\n",
    "    \n",
    "    def core_length(self) -> int:\n",
    "        return self._core_bitmask.count()\n",
    "    \n",
    "    def core_proportion(self) -> float:\n",
    "        return self.core_length()/len(self)\n",
    "    \n",
    "    def __len__(self) -> int:\n",
    "        return len(self._core_bitmask)\n",
    "    \n",
    "    def __getitem__(self, index: int) -> bool:\n",
    "        return self._core_bitmask[index]\n",
    "    \n",
    "s = Bio.Seq.Seq('ATCG-NN')\n",
    "mask = CoreBitMask(sequence=s)\n",
    "mask.core_proportion()"
   ]
  },
  {
   "cell_type": "code",
   "execution_count": 4,
   "metadata": {},
   "outputs": [],
   "source": [
    "from typing import List, Any\n",
    "\n",
    "from sqlalchemy.ext.declarative import declarative_base\n",
    "from sqlalchemy.orm import relationship\n",
    "\n",
    "from bitarray import bitarray\n",
    "\n",
    "Base = declarative_base()\n",
    "Base\n",
    "\n",
    "from sqlalchemy import Column, Integer, String, Sequence, BigInteger, ForeignKey, Table, LargeBinary\n",
    "    \n",
    "association_table = Table('sample_variation_allele', Base.metadata,\n",
    "    Column('sample_id', Integer, ForeignKey('sample.id')),\n",
    "    Column('variantion_allele_id', String, ForeignKey('variation_allele.id')),\n",
    ")\n",
    "\n",
    "class VariationAllele(Base):\n",
    "    __tablename__ = 'variation_allele'\n",
    "    id = Column(String, primary_key=True)\n",
    "    sequence_name = Column(String, ForeignKey('reference_sequence.id'))\n",
    "    position = Column(Integer, primary_key=True)\n",
    "    ref = Column(String(255), primary_key=True)\n",
    "    alt = Column(String(255), primary_key=True)\n",
    "    var_type = Column(String(255))\n",
    "    \n",
    "    samples = relationship('Sample', secondary=association_table)\n",
    "    sequence = relationship('ReferenceSequence', back_populates='variants')\n",
    "    \n",
    "    def __init__(self, sequence_name: str = None, position: int = -1, ref: str = None, alt: str = None,\n",
    "                 var_type: str = None):\n",
    "        self.sequence_name = sequence_name\n",
    "        self.position = position\n",
    "        self.ref = ref\n",
    "        self.alt = alt\n",
    "        self.var_type = var_type\n",
    "        \n",
    "        self.id = self.to_spdi()\n",
    "    \n",
    "    def to_spdi(self):\n",
    "        return f'{self.sequence_name}:{self.position}:{self.ref}:{self.alt}'\n",
    "    \n",
    "    def __repr__(self):\n",
    "        return (f'<VariationAllele(sequence_name={self.sequence_name}'\n",
    "                f', position={self.position}, ref={self.ref}, alt={self.alt}, var_type={self.var_type})>')\n",
    "\n",
    "class Reference(Base):\n",
    "    __tablename__ = 'reference'\n",
    "    id = Column(Integer, primary_key=True)\n",
    "    name = Column(String(255))\n",
    "    length = Column(Integer)\n",
    "    sequences = relationship('ReferenceSequence')\n",
    "    \n",
    "    def __repr__(self):\n",
    "        return f'<Reference(id={self.id}, name={self.name}, length={self.length})>'\n",
    "    \n",
    "    \n",
    "class SampleSequence(Base):\n",
    "    __tablename__ = 'sample_sequence'\n",
    "    sample_id = Column(Integer, ForeignKey('sample.id'), primary_key=True)\n",
    "    sequence_id = Column(Integer, ForeignKey('reference_sequence.id'), primary_key=True)\n",
    "    core_mask = Column(LargeBinary)\n",
    "    flag = Column(String(255))\n",
    "    \n",
    "    sequence = relationship('ReferenceSequence')\n",
    "    sample = relationship('Sample', back_populates='sample_sequences')\n",
    "    \n",
    "    def get_core_mask(self):\n",
    "        if self.core_mask is None:\n",
    "            raise Exception('core_mask is not set')\n",
    "        else:\n",
    "            barray = bitarray(self.sequence.sequence_length)\n",
    "            barray.frombytes(self.core_mask)\n",
    "            return CoreBitMask(existing_bitmask=barray)\n",
    "        \n",
    "    def set_core_mask(self, core_mask: CoreBitMask) -> None:\n",
    "        if core_mask is None:\n",
    "            raise Exception('Cannot set core_mask to None')\n",
    "        else:\n",
    "            self.core_mask = core_mask.get_bytes()\n",
    "    \n",
    "    def __repr__(self):\n",
    "        return f'<SampleSequence(sample_id={self.sample_id}, sequence_id={self.sequence_id}, flag={self.flag})>'\n",
    "    \n",
    "    \n",
    "class ReferenceSequence(Base):\n",
    "    __tablename__ = 'reference_sequence'\n",
    "    id = Column(Integer, primary_key=True)\n",
    "    reference_id = Column(Integer, ForeignKey('reference.id'))\n",
    "    sequence_name = Column(String(255))\n",
    "    sequence_length = Column(Integer)\n",
    "    variants = relationship('VariationAllele', back_populates='sequence')\n",
    "    \n",
    "    def __repr__(self):\n",
    "        return (f'<ReferenceSequence(id={self.id}, sequence_name={self.sequence_name},'\n",
    "                f'sequence_length={self.sequence_length}, reference_id={self.reference_id})>')\n",
    "    \n",
    "    \n",
    "class Sample(Base):\n",
    "    __tablename__ = 'sample'\n",
    "    id = Column(Integer, primary_key=True)\n",
    "    name = Column(String(255))\n",
    "    \n",
    "    variants = relationship('VariationAllele', secondary=association_table)\n",
    "    sample_sequences = relationship('SampleSequence', back_populates='sample')\n",
    "    \n",
    "    def __repr__(self):\n",
    "        return f'<Sample(id={self.id}, name={self.name})>'"
   ]
  },
  {
   "cell_type": "markdown",
   "metadata": {},
   "source": [
    "# Create some data"
   ]
  },
  {
   "cell_type": "code",
   "execution_count": 5,
   "metadata": {},
   "outputs": [
    {
     "data": {
      "text/plain": [
       "{'JASV01000001.1': <ReferenceSequence(id=None, sequence_name=JASV01000001.1,sequence_length=521264, reference_id=None)>,\n",
       " 'JASV01000002.1': <ReferenceSequence(id=None, sequence_name=JASV01000002.1,sequence_length=6598, reference_id=None)>,\n",
       " 'JASV01000003.1': <ReferenceSequence(id=None, sequence_name=JASV01000003.1,sequence_length=225424, reference_id=None)>,\n",
       " 'JASV01000004.1': <ReferenceSequence(id=None, sequence_name=JASV01000004.1,sequence_length=3051854, reference_id=None)>,\n",
       " 'JASV01000005.1': <ReferenceSequence(id=None, sequence_name=JASV01000005.1,sequence_length=49092, reference_id=None)>,\n",
       " 'JASV01000006.1': <ReferenceSequence(id=None, sequence_name=JASV01000006.1,sequence_length=506004, reference_id=None)>,\n",
       " 'JASV01000007.1': <ReferenceSequence(id=None, sequence_name=JASV01000007.1,sequence_length=1052450, reference_id=None)>}"
      ]
     },
     "execution_count": 5,
     "metadata": {},
     "output_type": "execute_result"
    }
   ],
   "source": [
    "from Bio import SeqIO\n",
    "\n",
    "ref_name = '2011C-3609.fasta'\n",
    "ref_length = 0\n",
    "ref_contigs = {}\n",
    "for record in SeqIO.parse(f\"reference/{ref_name}\", \"fasta\"):\n",
    "    ref_contigs[record.id] = ReferenceSequence(sequence_name=record.id, sequence_length=len(record.seq))\n",
    "    ref_length += len(record.seq)\n",
    "\n",
    "reference = Reference(name = ref_name, length = ref_length, sequences=list(ref_contigs.values()))\n",
    "ref_contigs"
   ]
  },
  {
   "cell_type": "code",
   "execution_count": 6,
   "metadata": {},
   "outputs": [],
   "source": [
    "from typing import Dict, List\n",
    "import logging\n",
    "import pandas as pd\n",
    "import re\n",
    "\n",
    "logger = logging.getLogger('VariationService')\n",
    "logger.setLevel(logging.DEBUG)\n",
    "#logging.basicConfig(level=logging.DEBUG)\n",
    "\n",
    "class VariationService:\n",
    "    \n",
    "    def __init__(self, session):\n",
    "        self._session = session\n",
    "        \n",
    "    def _create_file_variants(self, var_df: pd.DataFrame) -> Dict[str, List[VariationAllele]]:\n",
    "        variant_table = {}\n",
    "        file_variants = {}\n",
    "        sample_sequences = {}\n",
    "        for row in var_df.iterrows():\n",
    "            sample_name = re.sub('\\.filt\\.vcf$', '', row[1]['FILE'])\n",
    "\n",
    "            variant = VariationAllele(sequence_name=row[1]['CHROM'], position=row[1]['POS'],\n",
    "                                     ref=row[1]['REF'], alt=row[1]['ALT'], var_type=row[1]['TYPE'])\n",
    "            if variant.id not in variant_table:\n",
    "                variant_table[variant.id] = variant\n",
    "            else:    \n",
    "                variant = variant_table[variant.id]\n",
    "\n",
    "            if sample_name not in file_variants:\n",
    "                file_variants[sample_name] = []\n",
    "\n",
    "            file_variants[sample_name].append(variant)\n",
    "\n",
    "        return file_variants\n",
    "    \n",
    "    def insert_variants(self, var_df: pd.DataFrame, ref_contigs: Dict[str, ReferenceSequence]) -> None:\n",
    "        file_variants = self._create_file_variants(var_df)\n",
    "        \n",
    "        for s in file_variants:\n",
    "            ref_objects = {ref_contigs[v.sequence_name] for v in file_variants[s]}\n",
    "            sample_sequences = [SampleSequence(sequence=r) for r in ref_objects]\n",
    "            sample = Sample(name=s, variants=file_variants[s], sample_sequences=sample_sequences)\n",
    "            self._session.add(sample)\n",
    "            \n",
    "        self._session.commit()\n",
    "        \n",
    "    def pairwise_distance(self, samples: List[str], var_type = 'all', distance_type = 'jaccard') -> pd.DataFrame:\n",
    "        sample_objs = self._session.query(Sample).filter(Sample.name.in_(samples)).all()\n",
    "        \n",
    "        if var_type == 'all':\n",
    "            sample_variants = {s.name: {v.to_spdi() for v in s.variants} for s in sample_objs}\n",
    "        else:\n",
    "            sample_variants = {s.name: {v.to_spdi() for v in s.variants if v.var_type == var_type} for s in sample_objs}\n",
    "        \n",
    "        names = sample_variants.keys()\n",
    "        distances = []\n",
    "        for name1 in names:\n",
    "            row = []\n",
    "            for name2 in names:\n",
    "                if name1 == name2:\n",
    "                    row.append(0)\n",
    "                else:\n",
    "                    if distance_type == 'jaccard':\n",
    "                        logger.debug(f'variants1=[{sample_variants[name1]}]')\n",
    "                        logger.debug(f'variants2=[{sample_variants[name2]}]')\n",
    "                        intersection = sample_variants[name1].intersection(sample_variants[name2])\n",
    "                        union = sample_variants[name1].union(sample_variants[name2])\n",
    "                        \n",
    "#                         print(f'unique_variants1=[{sample_variants[name1] - sample_variants[name2]}]')\n",
    "#                         print(f'unique_variants2=[{sample_variants[name2] - sample_variants[name1]}]')\n",
    "                        \n",
    "                        row.append(1 - (len(intersection)/len(union)))\n",
    "                    else:\n",
    "                        raise Exception(f'Unsupported distance_type=[{distance_type}]')\n",
    "            distances.append(row)\n",
    "            \n",
    "        return pd.DataFrame(distances, columns=names, index=names)"
   ]
  },
  {
   "cell_type": "markdown",
   "metadata": {},
   "source": [
    "# Insert into database"
   ]
  },
  {
   "cell_type": "code",
   "execution_count": 7,
   "metadata": {},
   "outputs": [
    {
     "name": "stdout",
     "output_type": "stream",
     "text": [
      "2020-12-30 17:04:26,353 INFO sqlalchemy.engine.base.Engine SELECT CAST('test plain returns' AS VARCHAR(60)) AS anon_1\n",
      "2020-12-30 17:04:26,355 INFO sqlalchemy.engine.base.Engine ()\n",
      "2020-12-30 17:04:26,357 INFO sqlalchemy.engine.base.Engine SELECT CAST('test unicode returns' AS VARCHAR(60)) AS anon_1\n",
      "2020-12-30 17:04:26,358 INFO sqlalchemy.engine.base.Engine ()\n",
      "2020-12-30 17:04:26,363 INFO sqlalchemy.engine.base.Engine PRAGMA main.table_info(\"sample_variation_allele\")\n",
      "2020-12-30 17:04:26,365 INFO sqlalchemy.engine.base.Engine ()\n",
      "2020-12-30 17:04:26,368 INFO sqlalchemy.engine.base.Engine PRAGMA temp.table_info(\"sample_variation_allele\")\n",
      "2020-12-30 17:04:26,369 INFO sqlalchemy.engine.base.Engine ()\n",
      "2020-12-30 17:04:26,373 INFO sqlalchemy.engine.base.Engine PRAGMA main.table_info(\"variation_allele\")\n",
      "2020-12-30 17:04:26,375 INFO sqlalchemy.engine.base.Engine ()\n",
      "2020-12-30 17:04:26,377 INFO sqlalchemy.engine.base.Engine PRAGMA temp.table_info(\"variation_allele\")\n",
      "2020-12-30 17:04:26,379 INFO sqlalchemy.engine.base.Engine ()\n",
      "2020-12-30 17:04:26,384 INFO sqlalchemy.engine.base.Engine PRAGMA main.table_info(\"reference\")\n",
      "2020-12-30 17:04:26,386 INFO sqlalchemy.engine.base.Engine ()\n",
      "2020-12-30 17:04:26,389 INFO sqlalchemy.engine.base.Engine PRAGMA temp.table_info(\"reference\")\n",
      "2020-12-30 17:04:26,391 INFO sqlalchemy.engine.base.Engine ()\n",
      "2020-12-30 17:04:26,393 INFO sqlalchemy.engine.base.Engine PRAGMA main.table_info(\"sample_sequence\")\n",
      "2020-12-30 17:04:26,396 INFO sqlalchemy.engine.base.Engine ()\n",
      "2020-12-30 17:04:26,400 INFO sqlalchemy.engine.base.Engine PRAGMA temp.table_info(\"sample_sequence\")\n",
      "2020-12-30 17:04:26,401 INFO sqlalchemy.engine.base.Engine ()\n",
      "2020-12-30 17:04:26,407 INFO sqlalchemy.engine.base.Engine PRAGMA main.table_info(\"reference_sequence\")\n",
      "2020-12-30 17:04:26,409 INFO sqlalchemy.engine.base.Engine ()\n",
      "2020-12-30 17:04:26,412 INFO sqlalchemy.engine.base.Engine PRAGMA temp.table_info(\"reference_sequence\")\n",
      "2020-12-30 17:04:26,413 INFO sqlalchemy.engine.base.Engine ()\n",
      "2020-12-30 17:04:26,416 INFO sqlalchemy.engine.base.Engine PRAGMA main.table_info(\"sample\")\n",
      "2020-12-30 17:04:26,418 INFO sqlalchemy.engine.base.Engine ()\n",
      "2020-12-30 17:04:26,421 INFO sqlalchemy.engine.base.Engine PRAGMA temp.table_info(\"sample\")\n",
      "2020-12-30 17:04:26,422 INFO sqlalchemy.engine.base.Engine ()\n",
      "2020-12-30 17:04:26,425 INFO sqlalchemy.engine.base.Engine \n",
      "CREATE TABLE reference (\n",
      "\tid INTEGER NOT NULL, \n",
      "\tname VARCHAR(255), \n",
      "\tlength INTEGER, \n",
      "\tPRIMARY KEY (id)\n",
      ")\n",
      "\n",
      "\n",
      "2020-12-30 17:04:26,426 INFO sqlalchemy.engine.base.Engine ()\n",
      "2020-12-30 17:04:26,429 INFO sqlalchemy.engine.base.Engine COMMIT\n",
      "2020-12-30 17:04:26,431 INFO sqlalchemy.engine.base.Engine \n",
      "CREATE TABLE sample (\n",
      "\tid INTEGER NOT NULL, \n",
      "\tname VARCHAR(255), \n",
      "\tPRIMARY KEY (id)\n",
      ")\n",
      "\n",
      "\n",
      "2020-12-30 17:04:26,432 INFO sqlalchemy.engine.base.Engine ()\n",
      "2020-12-30 17:04:26,435 INFO sqlalchemy.engine.base.Engine COMMIT\n",
      "2020-12-30 17:04:26,437 INFO sqlalchemy.engine.base.Engine \n",
      "CREATE TABLE reference_sequence (\n",
      "\tid INTEGER NOT NULL, \n",
      "\treference_id INTEGER, \n",
      "\tsequence_name VARCHAR(255), \n",
      "\tsequence_length INTEGER, \n",
      "\tPRIMARY KEY (id), \n",
      "\tFOREIGN KEY(reference_id) REFERENCES reference (id)\n",
      ")\n",
      "\n",
      "\n",
      "2020-12-30 17:04:26,438 INFO sqlalchemy.engine.base.Engine ()\n",
      "2020-12-30 17:04:26,439 INFO sqlalchemy.engine.base.Engine COMMIT\n",
      "2020-12-30 17:04:26,441 INFO sqlalchemy.engine.base.Engine \n",
      "CREATE TABLE variation_allele (\n",
      "\tid VARCHAR NOT NULL, \n",
      "\tsequence_name VARCHAR, \n",
      "\tposition INTEGER NOT NULL, \n",
      "\tref VARCHAR(255) NOT NULL, \n",
      "\talt VARCHAR(255) NOT NULL, \n",
      "\tvar_type VARCHAR(255), \n",
      "\tPRIMARY KEY (id, position, ref, alt), \n",
      "\tFOREIGN KEY(sequence_name) REFERENCES reference_sequence (id)\n",
      ")\n",
      "\n",
      "\n",
      "2020-12-30 17:04:26,442 INFO sqlalchemy.engine.base.Engine ()\n",
      "2020-12-30 17:04:26,444 INFO sqlalchemy.engine.base.Engine COMMIT\n",
      "2020-12-30 17:04:26,445 INFO sqlalchemy.engine.base.Engine \n",
      "CREATE TABLE sample_sequence (\n",
      "\tsample_id INTEGER NOT NULL, \n",
      "\tsequence_id INTEGER NOT NULL, \n",
      "\tcore_mask BLOB, \n",
      "\tflag VARCHAR(255), \n",
      "\tPRIMARY KEY (sample_id, sequence_id), \n",
      "\tFOREIGN KEY(sample_id) REFERENCES sample (id), \n",
      "\tFOREIGN KEY(sequence_id) REFERENCES reference_sequence (id)\n",
      ")\n",
      "\n",
      "\n",
      "2020-12-30 17:04:26,447 INFO sqlalchemy.engine.base.Engine ()\n",
      "2020-12-30 17:04:26,449 INFO sqlalchemy.engine.base.Engine COMMIT\n",
      "2020-12-30 17:04:26,450 INFO sqlalchemy.engine.base.Engine \n",
      "CREATE TABLE sample_variation_allele (\n",
      "\tsample_id INTEGER, \n",
      "\tvariantion_allele_id VARCHAR, \n",
      "\tFOREIGN KEY(sample_id) REFERENCES sample (id), \n",
      "\tFOREIGN KEY(variantion_allele_id) REFERENCES variation_allele (id)\n",
      ")\n",
      "\n",
      "\n",
      "2020-12-30 17:04:26,451 INFO sqlalchemy.engine.base.Engine ()\n",
      "2020-12-30 17:04:26,453 INFO sqlalchemy.engine.base.Engine COMMIT\n"
     ]
    }
   ],
   "source": [
    "from sqlalchemy import create_engine\n",
    "from sqlalchemy.orm import sessionmaker\n",
    "\n",
    "engine = create_engine('sqlite:///:memory:', echo=True)\n",
    "\n",
    "Session = sessionmaker(bind=engine)\n",
    "session = Session()\n",
    "session\n",
    "\n",
    "Base.metadata.create_all(engine)"
   ]
  },
  {
   "cell_type": "code",
   "execution_count": 8,
   "metadata": {},
   "outputs": [
    {
     "name": "stdout",
     "output_type": "stream",
     "text": [
      "2020-12-30 17:04:26,498 INFO sqlalchemy.engine.base.Engine BEGIN (implicit)\n",
      "2020-12-30 17:04:26,500 INFO sqlalchemy.engine.base.Engine INSERT INTO reference (name, length) VALUES (?, ?)\n",
      "2020-12-30 17:04:26,501 INFO sqlalchemy.engine.base.Engine ('2011C-3609.fasta', 5412686)\n",
      "2020-12-30 17:04:26,503 INFO sqlalchemy.engine.base.Engine INSERT INTO reference_sequence (reference_id, sequence_name, sequence_length) VALUES (?, ?, ?)\n",
      "2020-12-30 17:04:26,504 INFO sqlalchemy.engine.base.Engine (1, 'JASV01000001.1', 521264)\n",
      "2020-12-30 17:04:26,505 INFO sqlalchemy.engine.base.Engine INSERT INTO reference_sequence (reference_id, sequence_name, sequence_length) VALUES (?, ?, ?)\n",
      "2020-12-30 17:04:26,506 INFO sqlalchemy.engine.base.Engine (1, 'JASV01000002.1', 6598)\n",
      "2020-12-30 17:04:26,507 INFO sqlalchemy.engine.base.Engine INSERT INTO reference_sequence (reference_id, sequence_name, sequence_length) VALUES (?, ?, ?)\n",
      "2020-12-30 17:04:26,508 INFO sqlalchemy.engine.base.Engine (1, 'JASV01000003.1', 225424)\n",
      "2020-12-30 17:04:26,512 INFO sqlalchemy.engine.base.Engine INSERT INTO reference_sequence (reference_id, sequence_name, sequence_length) VALUES (?, ?, ?)\n",
      "2020-12-30 17:04:26,514 INFO sqlalchemy.engine.base.Engine (1, 'JASV01000004.1', 3051854)\n",
      "2020-12-30 17:04:26,516 INFO sqlalchemy.engine.base.Engine INSERT INTO reference_sequence (reference_id, sequence_name, sequence_length) VALUES (?, ?, ?)\n",
      "2020-12-30 17:04:26,518 INFO sqlalchemy.engine.base.Engine (1, 'JASV01000005.1', 49092)\n",
      "2020-12-30 17:04:26,520 INFO sqlalchemy.engine.base.Engine INSERT INTO reference_sequence (reference_id, sequence_name, sequence_length) VALUES (?, ?, ?)\n",
      "2020-12-30 17:04:26,521 INFO sqlalchemy.engine.base.Engine (1, 'JASV01000006.1', 506004)\n",
      "2020-12-30 17:04:26,522 INFO sqlalchemy.engine.base.Engine INSERT INTO reference_sequence (reference_id, sequence_name, sequence_length) VALUES (?, ?, ?)\n",
      "2020-12-30 17:04:26,523 INFO sqlalchemy.engine.base.Engine (1, 'JASV01000007.1', 1052450)\n",
      "2020-12-30 17:04:26,524 INFO sqlalchemy.engine.base.Engine COMMIT\n"
     ]
    }
   ],
   "source": [
    "session.add(reference)\n",
    "session.commit()"
   ]
  },
  {
   "cell_type": "code",
   "execution_count": 9,
   "metadata": {},
   "outputs": [
    {
     "name": "stdout",
     "output_type": "stream",
     "text": [
      "2020-12-30 17:04:26,670 INFO sqlalchemy.engine.base.Engine BEGIN (implicit)\n",
      "2020-12-30 17:04:26,674 INFO sqlalchemy.engine.base.Engine SELECT reference.id AS reference_id, reference.name AS reference_name, reference.length AS reference_length \n",
      "FROM reference \n",
      "WHERE reference.id = ?\n",
      " LIMIT ? OFFSET ?\n",
      "2020-12-30 17:04:26,676 INFO sqlalchemy.engine.base.Engine (1, 1, 0)\n",
      "2020-12-30 17:04:26,683 INFO sqlalchemy.engine.base.Engine SELECT reference_sequence.id AS reference_sequence_id, reference_sequence.reference_id AS reference_sequence_reference_id, reference_sequence.sequence_name AS reference_sequence_sequence_name, reference_sequence.sequence_length AS reference_sequence_sequence_length \n",
      "FROM reference_sequence \n",
      "WHERE ? = reference_sequence.reference_id\n",
      "2020-12-30 17:04:26,689 INFO sqlalchemy.engine.base.Engine (1,)\n"
     ]
    },
    {
     "data": {
      "text/plain": [
       "{'JASV01000001.1': <ReferenceSequence(id=1, sequence_name=JASV01000001.1,sequence_length=521264, reference_id=1)>,\n",
       " 'JASV01000002.1': <ReferenceSequence(id=2, sequence_name=JASV01000002.1,sequence_length=6598, reference_id=1)>,\n",
       " 'JASV01000003.1': <ReferenceSequence(id=3, sequence_name=JASV01000003.1,sequence_length=225424, reference_id=1)>,\n",
       " 'JASV01000004.1': <ReferenceSequence(id=4, sequence_name=JASV01000004.1,sequence_length=3051854, reference_id=1)>,\n",
       " 'JASV01000005.1': <ReferenceSequence(id=5, sequence_name=JASV01000005.1,sequence_length=49092, reference_id=1)>,\n",
       " 'JASV01000006.1': <ReferenceSequence(id=6, sequence_name=JASV01000006.1,sequence_length=506004, reference_id=1)>,\n",
       " 'JASV01000007.1': <ReferenceSequence(id=7, sequence_name=JASV01000007.1,sequence_length=1052450, reference_id=1)>}"
      ]
     },
     "execution_count": 9,
     "metadata": {},
     "output_type": "execute_result"
    }
   ],
   "source": [
    "ref = session.query(Reference).filter_by(id = 1).first()\n",
    "ref_contigs = {c.sequence_name: c for c in ref.sequences}\n",
    "ref_contigs"
   ]
  },
  {
   "cell_type": "code",
   "execution_count": 10,
   "metadata": {},
   "outputs": [
    {
     "name": "stdout",
     "output_type": "stream",
     "text": [
      "2020-12-30 17:04:27,071 INFO sqlalchemy.engine.base.Engine INSERT INTO variation_allele (id, sequence_name, position, ref, alt, var_type) VALUES (?, ?, ?, ?, ?, ?)\n",
      "2020-12-30 17:04:27,072 INFO sqlalchemy.engine.base.Engine (('JASV01000001.1:16854:T:C', 'JASV01000001.1', 16854, 'T', 'C', 'snp'), ('JASV01000001.1:16871:C:C', 'JASV01000001.1', 16871, 'C', 'C', 'del'), ('JASV01000001.1:16897:G:C', 'JASV01000001.1', 16897, 'G', 'C', 'snp'), ('JASV01000001.1:17327:T:TA', 'JASV01000001.1', 17327, 'T', 'TA', 'ins'), ('JASV01000001.1:17335:G:G', 'JASV01000001.1', 17335, 'G', 'G', 'del'), ('JASV01000001.1:17347:C:C', 'JASV01000001.1', 17347, 'C', 'C', 'del'), ('JASV01000001.1:17360:T:A', 'JASV01000001.1', 17360, 'T', 'A', 'snp'), ('JASV01000001.1:17468:T:C', 'JASV01000001.1', 17468, 'T', 'C', 'snp')  ... displaying 10 of 601 total bound parameter sets ...  ('JASV01000007.1:13994:C:A', 'JASV01000007.1', 13994, 'C', 'A', 'snp'), ('JASV01000007.1:963356:A:G', 'JASV01000007.1', 963356, 'A', 'G', 'snp'))\n",
      "2020-12-30 17:04:27,076 INFO sqlalchemy.engine.base.Engine INSERT INTO sample (name) VALUES (?)\n",
      "2020-12-30 17:04:27,077 INFO sqlalchemy.engine.base.Engine ('2014C-3857',)\n",
      "2020-12-30 17:04:27,079 INFO sqlalchemy.engine.base.Engine INSERT INTO sample (name) VALUES (?)\n",
      "2020-12-30 17:04:27,079 INFO sqlalchemy.engine.base.Engine ('2014C-3655',)\n",
      "2020-12-30 17:04:27,081 INFO sqlalchemy.engine.base.Engine INSERT INTO sample (name) VALUES (?)\n",
      "2020-12-30 17:04:27,083 INFO sqlalchemy.engine.base.Engine ('2014C-3598',)\n",
      "2020-12-30 17:04:27,084 INFO sqlalchemy.engine.base.Engine INSERT INTO sample (name) VALUES (?)\n",
      "2020-12-30 17:04:27,085 INFO sqlalchemy.engine.base.Engine ('2014C-3840',)\n",
      "2020-12-30 17:04:27,086 INFO sqlalchemy.engine.base.Engine INSERT INTO sample (name) VALUES (?)\n",
      "2020-12-30 17:04:27,087 INFO sqlalchemy.engine.base.Engine ('2014C-3599',)\n",
      "2020-12-30 17:04:27,088 INFO sqlalchemy.engine.base.Engine INSERT INTO sample (name) VALUES (?)\n",
      "2020-12-30 17:04:27,089 INFO sqlalchemy.engine.base.Engine ('2014C-3907',)\n",
      "2020-12-30 17:04:27,090 INFO sqlalchemy.engine.base.Engine INSERT INTO sample (name) VALUES (?)\n",
      "2020-12-30 17:04:27,090 INFO sqlalchemy.engine.base.Engine ('2014C-3656',)\n",
      "2020-12-30 17:04:27,091 INFO sqlalchemy.engine.base.Engine INSERT INTO sample (name) VALUES (?)\n",
      "2020-12-30 17:04:27,092 INFO sqlalchemy.engine.base.Engine ('2014C-3850',)\n",
      "2020-12-30 17:04:27,092 INFO sqlalchemy.engine.base.Engine INSERT INTO sample (name) VALUES (?)\n",
      "2020-12-30 17:04:27,093 INFO sqlalchemy.engine.base.Engine ('2014C-3600',)\n",
      "2020-12-30 17:04:27,106 INFO sqlalchemy.engine.base.Engine INSERT INTO sample_variation_allele (sample_id, variantion_allele_id) VALUES (?, ?)\n",
      "2020-12-30 17:04:27,107 INFO sqlalchemy.engine.base.Engine ((8, 'JASV01000001.1:16854:T:C'), (8, 'JASV01000001.1:16871:C:C'), (8, 'JASV01000001.1:16897:G:C'), (8, 'JASV01000001.1:17085:A:G'), (8, 'JASV01000001.1:17137:C:C'), (8, 'JASV01000001.1:17327:T:TA'), (8, 'JASV01000001.1:17335:G:G'), (8, 'JASV01000001.1:17347:C:C')  ... displaying 10 of 1353 total bound parameter sets ...  (7, 'JASV01000007.1:990647:G:A'), (7, 'JASV01000007.1:1014501:A:G'))\n",
      "2020-12-30 17:04:27,114 INFO sqlalchemy.engine.base.Engine INSERT INTO sample_sequence (sample_id, sequence_id, core_mask, flag) VALUES (?, ?, ?, ?)\n",
      "2020-12-30 17:04:27,115 INFO sqlalchemy.engine.base.Engine ((1, 3, None, None), (1, 5, None, None), (1, 1, None, None), (1, 6, None, None), (1, 7, None, None), (1, 4, None, None), (2, 3, None, None), (2, 5, None, None)  ... displaying 10 of 55 total bound parameter sets ...  (9, 7, None, None), (9, 4, None, None))\n",
      "2020-12-30 17:04:27,122 INFO sqlalchemy.engine.base.Engine COMMIT\n"
     ]
    }
   ],
   "source": [
    "variation_service = VariationService(session)\n",
    "\n",
    "variation_service.insert_variants(df, ref_contigs)"
   ]
  },
  {
   "cell_type": "code",
   "execution_count": 11,
   "metadata": {},
   "outputs": [
    {
     "name": "stdout",
     "output_type": "stream",
     "text": [
      "2020-12-30 17:04:27,136 INFO sqlalchemy.engine.base.Engine BEGIN (implicit)\n",
      "2020-12-30 17:04:27,139 INFO sqlalchemy.engine.base.Engine SELECT sample.id AS sample_id, sample.name AS sample_name \n",
      "FROM sample \n",
      "WHERE sample.name IN (?, ?)\n",
      "2020-12-30 17:04:27,140 INFO sqlalchemy.engine.base.Engine ('2014C-3857', '2014C-3600')\n",
      "2020-12-30 17:04:27,147 INFO sqlalchemy.engine.base.Engine SELECT variation_allele.id AS variation_allele_id, variation_allele.sequence_name AS variation_allele_sequence_name, variation_allele.position AS variation_allele_position, variation_allele.ref AS variation_allele_ref, variation_allele.alt AS variation_allele_alt, variation_allele.var_type AS variation_allele_var_type \n",
      "FROM variation_allele, sample_variation_allele \n",
      "WHERE ? = sample_variation_allele.sample_id AND variation_allele.id = sample_variation_allele.variantion_allele_id\n",
      "2020-12-30 17:04:27,149 INFO sqlalchemy.engine.base.Engine (1,)\n",
      "2020-12-30 17:04:27,154 INFO sqlalchemy.engine.base.Engine SELECT variation_allele.id AS variation_allele_id, variation_allele.sequence_name AS variation_allele_sequence_name, variation_allele.position AS variation_allele_position, variation_allele.ref AS variation_allele_ref, variation_allele.alt AS variation_allele_alt, variation_allele.var_type AS variation_allele_var_type \n",
      "FROM variation_allele, sample_variation_allele \n",
      "WHERE ? = sample_variation_allele.sample_id AND variation_allele.id = sample_variation_allele.variantion_allele_id\n",
      "2020-12-30 17:04:27,155 INFO sqlalchemy.engine.base.Engine (9,)\n"
     ]
    },
    {
     "data": {
      "text/html": [
       "<div>\n",
       "<style scoped>\n",
       "    .dataframe tbody tr th:only-of-type {\n",
       "        vertical-align: middle;\n",
       "    }\n",
       "\n",
       "    .dataframe tbody tr th {\n",
       "        vertical-align: top;\n",
       "    }\n",
       "\n",
       "    .dataframe thead th {\n",
       "        text-align: right;\n",
       "    }\n",
       "</style>\n",
       "<table border=\"1\" class=\"dataframe\">\n",
       "  <thead>\n",
       "    <tr style=\"text-align: right;\">\n",
       "      <th></th>\n",
       "      <th>2014C-3857</th>\n",
       "      <th>2014C-3600</th>\n",
       "    </tr>\n",
       "  </thead>\n",
       "  <tbody>\n",
       "    <tr>\n",
       "      <th>2014C-3857</th>\n",
       "      <td>0.000000</td>\n",
       "      <td>0.722543</td>\n",
       "    </tr>\n",
       "    <tr>\n",
       "      <th>2014C-3600</th>\n",
       "      <td>0.722543</td>\n",
       "      <td>0.000000</td>\n",
       "    </tr>\n",
       "  </tbody>\n",
       "</table>\n",
       "</div>"
      ],
      "text/plain": [
       "            2014C-3857  2014C-3600\n",
       "2014C-3857    0.000000    0.722543\n",
       "2014C-3600    0.722543    0.000000"
      ]
     },
     "execution_count": 11,
     "metadata": {},
     "output_type": "execute_result"
    }
   ],
   "source": [
    "variation_service.pairwise_distance(['2014C-3857', '2014C-3600'], var_type='snp')\n",
    "#variation_service.pairwise_distance(sample_names, var_type='snp')"
   ]
  },
  {
   "cell_type": "code",
   "execution_count": 12,
   "metadata": {},
   "outputs": [
    {
     "name": "stdout",
     "output_type": "stream",
     "text": [
      "2020-12-30 17:04:27,203 INFO sqlalchemy.engine.base.Engine SELECT variation_allele.id AS variation_allele_id, variation_allele.sequence_name AS variation_allele_sequence_name, variation_allele.position AS variation_allele_position, variation_allele.ref AS variation_allele_ref, variation_allele.alt AS variation_allele_alt, variation_allele.var_type AS variation_allele_var_type \n",
      "FROM variation_allele \n",
      "WHERE variation_allele.position = ?\n",
      "2020-12-30 17:04:27,204 INFO sqlalchemy.engine.base.Engine (16854,)\n"
     ]
    },
    {
     "data": {
      "text/plain": [
       "[<VariationAllele(sequence_name=JASV01000001.1, position=16854, ref=T, alt=C, var_type=snp)>]"
      ]
     },
     "execution_count": 12,
     "metadata": {},
     "output_type": "execute_result"
    }
   ],
   "source": [
    "v = session.query(VariationAllele).filter_by(position = 16854).all()\n",
    "v"
   ]
  },
  {
   "cell_type": "code",
   "execution_count": 13,
   "metadata": {},
   "outputs": [
    {
     "name": "stdout",
     "output_type": "stream",
     "text": [
      "2020-12-30 17:04:27,369 INFO sqlalchemy.engine.base.Engine SELECT reference_sequence.id AS reference_sequence_id, reference_sequence.reference_id AS reference_sequence_reference_id, reference_sequence.sequence_name AS reference_sequence_sequence_name, reference_sequence.sequence_length AS reference_sequence_sequence_length \n",
      "FROM reference_sequence \n",
      "WHERE reference_sequence.id = ?\n",
      "2020-12-30 17:04:27,370 INFO sqlalchemy.engine.base.Engine ('JASV01000001.1',)\n"
     ]
    }
   ],
   "source": [
    "v[0].sequence"
   ]
  },
  {
   "cell_type": "code",
   "execution_count": 14,
   "metadata": {},
   "outputs": [
    {
     "name": "stdout",
     "output_type": "stream",
     "text": [
      "2020-12-30 17:04:27,553 INFO sqlalchemy.engine.base.Engine SELECT reference_sequence.id AS reference_sequence_id, reference_sequence.reference_id AS reference_sequence_reference_id, reference_sequence.sequence_name AS reference_sequence_sequence_name, reference_sequence.sequence_length AS reference_sequence_sequence_length \n",
      "FROM reference_sequence \n",
      "WHERE reference_sequence.sequence_name = ?\n",
      " LIMIT ? OFFSET ?\n",
      "2020-12-30 17:04:27,554 INFO sqlalchemy.engine.base.Engine ('JASV01000003.1', 1, 0)\n"
     ]
    },
    {
     "data": {
      "text/plain": [
       "<ReferenceSequence(id=3, sequence_name=JASV01000003.1,sequence_length=225424, reference_id=1)>"
      ]
     },
     "execution_count": 14,
     "metadata": {},
     "output_type": "execute_result"
    }
   ],
   "source": [
    "r = session.query(ReferenceSequence).filter_by(sequence_name = 'JASV01000003.1').first()\n",
    "r"
   ]
  },
  {
   "cell_type": "code",
   "execution_count": 15,
   "metadata": {},
   "outputs": [
    {
     "name": "stdout",
     "output_type": "stream",
     "text": [
      "2020-12-30 17:04:27,730 INFO sqlalchemy.engine.base.Engine SELECT variation_allele.id AS variation_allele_id, variation_allele.sequence_name AS variation_allele_sequence_name, variation_allele.position AS variation_allele_position, variation_allele.ref AS variation_allele_ref, variation_allele.alt AS variation_allele_alt, variation_allele.var_type AS variation_allele_var_type \n",
      "FROM variation_allele \n",
      "WHERE ? = variation_allele.sequence_name\n",
      "2020-12-30 17:04:27,731 INFO sqlalchemy.engine.base.Engine (3,)\n"
     ]
    },
    {
     "data": {
      "text/plain": [
       "[]"
      ]
     },
     "execution_count": 15,
     "metadata": {},
     "output_type": "execute_result"
    }
   ],
   "source": [
    "r.variants"
   ]
  },
  {
   "cell_type": "code",
   "execution_count": 16,
   "metadata": {},
   "outputs": [
    {
     "name": "stdout",
     "output_type": "stream",
     "text": [
      "2020-12-30 17:04:27,913 INFO sqlalchemy.engine.base.Engine SELECT sample.id AS sample_id, sample.name AS sample_name \n",
      "FROM sample \n",
      "WHERE sample.name = ?\n",
      " LIMIT ? OFFSET ?\n",
      "2020-12-30 17:04:27,914 INFO sqlalchemy.engine.base.Engine ('2014C-3857', 1, 0)\n"
     ]
    },
    {
     "data": {
      "text/plain": [
       "<Sample(id=1, name=2014C-3857)>"
      ]
     },
     "execution_count": 16,
     "metadata": {},
     "output_type": "execute_result"
    }
   ],
   "source": [
    "s = session.query(Sample).filter_by(name='2014C-3857').first()\n",
    "s"
   ]
  },
  {
   "cell_type": "code",
   "execution_count": 17,
   "metadata": {},
   "outputs": [
    {
     "name": "stdout",
     "output_type": "stream",
     "text": [
      "2020-12-30 17:04:28,082 INFO sqlalchemy.engine.base.Engine SELECT sample_sequence.sample_id AS sample_sequence_sample_id, sample_sequence.sequence_id AS sample_sequence_sequence_id, sample_sequence.core_mask AS sample_sequence_core_mask, sample_sequence.flag AS sample_sequence_flag \n",
      "FROM sample_sequence \n",
      "WHERE ? = sample_sequence.sample_id\n",
      "2020-12-30 17:04:28,084 INFO sqlalchemy.engine.base.Engine (1,)\n"
     ]
    },
    {
     "data": {
      "text/plain": [
       "[<SampleSequence(sample_id=1, sequence_id=1, flag=None)>,\n",
       " <SampleSequence(sample_id=1, sequence_id=3, flag=None)>,\n",
       " <SampleSequence(sample_id=1, sequence_id=4, flag=None)>,\n",
       " <SampleSequence(sample_id=1, sequence_id=5, flag=None)>,\n",
       " <SampleSequence(sample_id=1, sequence_id=6, flag=None)>,\n",
       " <SampleSequence(sample_id=1, sequence_id=7, flag=None)>]"
      ]
     },
     "execution_count": 17,
     "metadata": {},
     "output_type": "execute_result"
    }
   ],
   "source": [
    "s.sample_sequences"
   ]
  },
  {
   "cell_type": "code",
   "execution_count": 18,
   "metadata": {},
   "outputs": [
    {
     "name": "stdout",
     "output_type": "stream",
     "text": [
      "2020-12-30 17:04:28,259 INFO sqlalchemy.engine.base.Engine SELECT variation_allele.id AS variation_allele_id, variation_allele.sequence_name AS variation_allele_sequence_name, variation_allele.position AS variation_allele_position, variation_allele.ref AS variation_allele_ref, variation_allele.alt AS variation_allele_alt, variation_allele.var_type AS variation_allele_var_type \n",
      "FROM variation_allele, sample_variation_allele \n",
      "WHERE ? = sample_variation_allele.sample_id AND variation_allele.id = sample_variation_allele.variantion_allele_id\n",
      "2020-12-30 17:04:28,261 INFO sqlalchemy.engine.base.Engine (1,)\n"
     ]
    },
    {
     "data": {
      "text/plain": [
       "'JASV01000001.1:16854:T:C'"
      ]
     },
     "execution_count": 18,
     "metadata": {},
     "output_type": "execute_result"
    }
   ],
   "source": [
    "s.variants[0].id"
   ]
  },
  {
   "cell_type": "code",
   "execution_count": 19,
   "metadata": {},
   "outputs": [
    {
     "name": "stdout",
     "output_type": "stream",
     "text": [
      "2020-12-30 17:04:28,450 INFO sqlalchemy.engine.base.Engine SELECT variation_allele.id AS variation_allele_id, variation_allele.sequence_name AS variation_allele_sequence_name, variation_allele.position AS variation_allele_position, variation_allele.ref AS variation_allele_ref, variation_allele.alt AS variation_allele_alt, variation_allele.var_type AS variation_allele_var_type \n",
      "FROM variation_allele \n",
      "WHERE variation_allele.id = ?\n",
      " LIMIT ? OFFSET ?\n",
      "2020-12-30 17:04:28,452 INFO sqlalchemy.engine.base.Engine ('JASV01000001.1:16854:T:C', 1, 0)\n",
      "2020-12-30 17:04:28,455 INFO sqlalchemy.engine.base.Engine SELECT sample.id AS sample_id, sample.name AS sample_name \n",
      "FROM sample, sample_variation_allele \n",
      "WHERE ? = sample_variation_allele.variantion_allele_id AND sample.id = sample_variation_allele.sample_id\n",
      "2020-12-30 17:04:28,456 INFO sqlalchemy.engine.base.Engine ('JASV01000001.1:16854:T:C',)\n"
     ]
    },
    {
     "data": {
      "text/plain": [
       "[<Sample(id=8, name=2014C-3850)>,\n",
       " <Sample(id=9, name=2014C-3600)>,\n",
       " <Sample(id=6, name=2014C-3907)>,\n",
       " <Sample(id=1, name=2014C-3857)>,\n",
       " <Sample(id=4, name=2014C-3840)>,\n",
       " <Sample(id=3, name=2014C-3598)>,\n",
       " <Sample(id=2, name=2014C-3655)>,\n",
       " <Sample(id=5, name=2014C-3599)>,\n",
       " <Sample(id=7, name=2014C-3656)>]"
      ]
     },
     "execution_count": 19,
     "metadata": {},
     "output_type": "execute_result"
    }
   ],
   "source": [
    "v = session.query(VariationAllele).filter_by(id='JASV01000001.1:16854:T:C').first()\n",
    "v.samples"
   ]
  },
  {
   "cell_type": "code",
   "execution_count": 20,
   "metadata": {},
   "outputs": [
    {
     "name": "stdout",
     "output_type": "stream",
     "text": [
      "2020-12-30 17:04:28,649 INFO sqlalchemy.engine.base.Engine SELECT sample_sequence.sample_id AS sample_sequence_sample_id, sample_sequence.sequence_id AS sample_sequence_sequence_id, sample_sequence.core_mask AS sample_sequence_core_mask, sample_sequence.flag AS sample_sequence_flag \n",
      "FROM sample_sequence\n",
      " LIMIT ? OFFSET ?\n",
      "2020-12-30 17:04:28,650 INFO sqlalchemy.engine.base.Engine (1, 0)\n"
     ]
    },
    {
     "data": {
      "text/plain": [
       "<SampleSequence(sample_id=1, sequence_id=3, flag=None)>"
      ]
     },
     "execution_count": 20,
     "metadata": {},
     "output_type": "execute_result"
    }
   ],
   "source": [
    "ss = session.query(SampleSequence).first()\n",
    "ss"
   ]
  },
  {
   "cell_type": "code",
   "execution_count": 21,
   "metadata": {},
   "outputs": [
    {
     "data": {
      "text/plain": [
       "0.5714285714285714"
      ]
     },
     "execution_count": 21,
     "metadata": {},
     "output_type": "execute_result"
    }
   ],
   "source": [
    "s = Bio.Seq.Seq('ATCG-NN')\n",
    "mask = CoreBitMask(sequence=s)\n",
    "mask.core_proportion()"
   ]
  },
  {
   "cell_type": "code",
   "execution_count": 22,
   "metadata": {},
   "outputs": [
    {
     "name": "stdout",
     "output_type": "stream",
     "text": [
      "2020-12-30 17:04:29,134 INFO sqlalchemy.engine.base.Engine UPDATE sample_sequence SET core_mask=? WHERE sample_sequence.sample_id = ? AND sample_sequence.sequence_id = ?\n",
      "2020-12-30 17:04:29,137 INFO sqlalchemy.engine.base.Engine (<memory at 0x7f53e72aa040>, 1, 3)\n",
      "2020-12-30 17:04:29,144 INFO sqlalchemy.engine.base.Engine COMMIT\n"
     ]
    }
   ],
   "source": [
    "ss.set_core_mask(mask)\n",
    "session.commit()"
   ]
  },
  {
   "cell_type": "code",
   "execution_count": 23,
   "metadata": {},
   "outputs": [
    {
     "name": "stdout",
     "output_type": "stream",
     "text": [
      "2020-12-30 17:04:29,610 INFO sqlalchemy.engine.base.Engine BEGIN (implicit)\n",
      "2020-12-30 17:04:29,614 INFO sqlalchemy.engine.base.Engine SELECT sample_sequence.sample_id AS sample_sequence_sample_id, sample_sequence.sequence_id AS sample_sequence_sequence_id, sample_sequence.core_mask AS sample_sequence_core_mask, sample_sequence.flag AS sample_sequence_flag \n",
      "FROM sample_sequence\n",
      " LIMIT ? OFFSET ?\n",
      "2020-12-30 17:04:29,619 INFO sqlalchemy.engine.base.Engine (1, 0)\n"
     ]
    },
    {
     "data": {
      "text/plain": [
       "<SampleSequence(sample_id=1, sequence_id=3, flag=None)>"
      ]
     },
     "execution_count": 23,
     "metadata": {},
     "output_type": "execute_result"
    }
   ],
   "source": [
    "ss = session.query(SampleSequence).first()\n",
    "ss"
   ]
  },
  {
   "cell_type": "code",
   "execution_count": 31,
   "metadata": {},
   "outputs": [
    {
     "data": {
      "text/plain": [
       "95631"
      ]
     },
     "execution_count": 31,
     "metadata": {},
     "output_type": "execute_result"
    }
   ],
   "source": [
    "ss.get_core_mask().core_length()"
   ]
  },
  {
   "cell_type": "code",
   "execution_count": 25,
   "metadata": {},
   "outputs": [
    {
     "data": {
      "text/plain": [
       "<ReferenceSequence(id=3, sequence_name=JASV01000003.1,sequence_length=225424, reference_id=1)>"
      ]
     },
     "execution_count": 25,
     "metadata": {},
     "output_type": "execute_result"
    }
   ],
   "source": [
    "ss.sequence"
   ]
  },
  {
   "cell_type": "code",
   "execution_count": null,
   "metadata": {},
   "outputs": [],
   "source": []
  }
 ],
 "metadata": {
  "kernelspec": {
   "display_name": "Python 3",
   "language": "python",
   "name": "python3"
  },
  "language_info": {
   "codemirror_mode": {
    "name": "ipython",
    "version": 3
   },
   "file_extension": ".py",
   "mimetype": "text/x-python",
   "name": "python",
   "nbconvert_exporter": "python",
   "pygments_lexer": "ipython3",
   "version": "3.8.6"
  }
 },
 "nbformat": 4,
 "nbformat_minor": 4
}
