{
 "cells": [
  {
   "cell_type": "markdown",
   "metadata": {},
   "source": [
    "# Variants"
   ]
  },
  {
   "cell_type": "code",
   "execution_count": 1,
   "metadata": {},
   "outputs": [
    {
     "data": {
      "text/plain": [
       "0.5714285714285714"
      ]
     },
     "execution_count": 1,
     "metadata": {},
     "output_type": "execute_result"
    }
   ],
   "source": [
    "from __future__ import annotations\n",
    "\n",
    "from bitarray import bitarray\n",
    "import Bio.Seq\n",
    "\n",
    "class CoreBitMask:\n",
    "    \n",
    "    def __init__(self, sequence: Bio.Seq.Seq = None, existing_bitmask: bitarray = None):\n",
    "        if existing_bitmask is not None and sequence is not None:\n",
    "            raise Exception(f'Cannot set both existing_bitmask={existing_bitmask} and sequence={sequence}')\n",
    "            \n",
    "        if existing_bitmask:\n",
    "            self._core_bitmask = existing_bitmask\n",
    "        elif sequence:\n",
    "            self._core_bitmask = bitarray(len(sequence))\n",
    "            self._core_bitmask.setall(True)\n",
    "            self._add_sequence(sequence)\n",
    "        else:\n",
    "            raise Exception('If no existing_bitmask set then sequence must be defined')\n",
    "            \n",
    "    def append_bitmask(self, bitmask: CoreBitMask) -> CoreBitMask:\n",
    "        if bitmask is None:\n",
    "            return self\n",
    "        else:\n",
    "            combined_array = self._core_bitmask & bitmask._core_bitmask\n",
    "            return CoreBitMask(existing_bitmask=combined_array)\n",
    "            \n",
    "    def _add_sequence(self, sequence: Bio.Seq.Seq) -> float:\n",
    "        for idx, char in enumerate(sequence):\n",
    "            if char.upper() == 'N' or char == '-':\n",
    "                self._core_bitmask[idx] = False\n",
    "                \n",
    "    def get_bytes(self):\n",
    "        return self._core_bitmask.tobytes()\n",
    "    \n",
    "    def core_length(self) -> int:\n",
    "        return self._core_bitmask.count()\n",
    "    \n",
    "    def core_proportion(self) -> float:\n",
    "        return self.core_length()/len(self)\n",
    "    \n",
    "    def __len__(self) -> int:\n",
    "        return len(self._core_bitmask)\n",
    "    \n",
    "    def __getitem__(self, index: int) -> bool:\n",
    "        return self._core_bitmask[index]\n",
    "    \n",
    "s = Bio.Seq.Seq('ATCG-NN')\n",
    "mask = CoreBitMask(sequence=s)\n",
    "mask.core_proportion()"
   ]
  },
  {
   "cell_type": "code",
   "execution_count": 2,
   "metadata": {},
   "outputs": [
    {
     "name": "stdout",
     "output_type": "stream",
     "text": [
      "2014C-3598:JASV01000007.1 -> 0.943984037246425\n",
      "2014C-3598:JASV01000001.1 -> 0.910258525430492\n",
      "2014C-3598:JASV01000003.1 -> 0.8528861168287316\n",
      "2014C-3598:JASV01000002.1 -> 0.1842982722036981\n",
      "2014C-3598:JASV01000005.1 -> 0.6508188706917624\n",
      "2014C-3598:JASV01000004.1 -> 0.9328083846737099\n",
      "2014C-3598:JASV01000006.1 -> 0.9060560786080742\n",
      "2014C-3907:JASV01000005.1 -> 0.6121160270512507\n",
      "2014C-3907:JASV01000003.1 -> 0.8220553268507346\n",
      "2014C-3907:JASV01000004.1 -> 0.9416741429963557\n",
      "2014C-3907:JASV01000007.1 -> 0.946977053541736\n",
      "2014C-3907:JASV01000006.1 -> 0.9025521537379151\n",
      "2014C-3907:JASV01000001.1 -> 0.9108589889192424\n",
      "2014C-3907:JASV01000002.1 -> 0.13913307062746286\n",
      "2014C-3656:JASV01000003.1 -> 0.8393294414081908\n",
      "2014C-3656:JASV01000001.1 -> 0.9175676816354094\n",
      "2014C-3656:JASV01000005.1 -> 0.6313044895298623\n",
      "2014C-3656:JASV01000006.1 -> 0.910575805724856\n",
      "2014C-3656:JASV01000007.1 -> 0.9484089505439688\n",
      "2014C-3656:JASV01000004.1 -> 0.9405430272876749\n",
      "2014C-3656:JASV01000002.1 -> 0.20006062443164596\n",
      "2014C-3655:JASV01000006.1 -> 0.90203239500083\n",
      "2014C-3655:JASV01000003.1 -> 0.8290909574845624\n",
      "2014C-3655:JASV01000001.1 -> 0.9095218545688941\n",
      "2014C-3655:JASV01000005.1 -> 0.6072883565550395\n",
      "2014C-3655:JASV01000002.1 -> 0.1442861473173689\n",
      "2014C-3655:JASV01000004.1 -> 0.9354569386346792\n",
      "2014C-3655:JASV01000007.1 -> 0.9450881277020285\n",
      "2014C-3599:JASV01000006.1 -> 0.9099433996569197\n",
      "2014C-3599:JASV01000005.1 -> 0.6618389961704555\n",
      "2014C-3599:JASV01000003.1 -> 0.8537378451274044\n",
      "2014C-3599:JASV01000004.1 -> 0.9393231130978087\n",
      "2014C-3599:JASV01000007.1 -> 0.9523492802508433\n",
      "2014C-3599:JASV01000002.1 -> 0.18066080630494089\n",
      "2014C-3599:JASV01000001.1 -> 0.916305365419442\n",
      "2014C-3857:JASV01000002.1 -> 0.14383146408002426\n",
      "2014C-3857:JASV01000001.1 -> 0.9144099726817889\n",
      "2014C-3857:JASV01000006.1 -> 0.9075283989849883\n",
      "2014C-3857:JASV01000005.1 -> 0.6347470056220973\n",
      "2014C-3857:JASV01000004.1 -> 0.9388545454664607\n",
      "2014C-3857:JASV01000007.1 -> 0.9505202147370422\n",
      "2014C-3857:JASV01000003.1 -> 0.8356652352899425\n",
      "2014C-3600:JASV01000001.1 -> 0.9250437398324074\n",
      "2014C-3600:JASV01000003.1 -> 0.8631955781105827\n",
      "2014C-3600:JASV01000005.1 -> 0.6761794182351504\n",
      "2014C-3600:JASV01000004.1 -> 0.9458958390538997\n",
      "2014C-3600:JASV01000006.1 -> 0.9183959020086798\n",
      "2014C-3600:JASV01000002.1 -> 0.19536223097908456\n",
      "2014C-3600:JASV01000007.1 -> 0.958379970544919\n",
      "2014C-3850:JASV01000004.1 -> 0.9396452123856515\n",
      "2014C-3850:JASV01000006.1 -> 0.9085244385419878\n",
      "2014C-3850:JASV01000005.1 -> 0.6305915424101687\n",
      "2014C-3850:JASV01000002.1 -> 0.13140345559260383\n",
      "2014C-3850:JASV01000007.1 -> 0.9517354743693287\n",
      "2014C-3850:JASV01000003.1 -> 0.837537263113067\n",
      "2014C-3850:JASV01000001.1 -> 0.9154766107001443\n",
      "2014C-3840:JASV01000005.1 -> 0.6291045384176648\n",
      "2014C-3840:JASV01000003.1 -> 0.8354478671303854\n",
      "2014C-3840:JASV01000001.1 -> 0.913970655944013\n",
      "2014C-3840:JASV01000007.1 -> 0.9498332462349756\n",
      "2014C-3840:JASV01000004.1 -> 0.9403421657785727\n",
      "2014C-3840:JASV01000002.1 -> 0.1679296756592907\n",
      "2014C-3840:JASV01000006.1 -> 0.9079177239705615\n"
     ]
    },
    {
     "data": {
      "text/html": [
       "<div>\n",
       "<style scoped>\n",
       "    .dataframe tbody tr th:only-of-type {\n",
       "        vertical-align: middle;\n",
       "    }\n",
       "\n",
       "    .dataframe tbody tr th {\n",
       "        vertical-align: top;\n",
       "    }\n",
       "\n",
       "    .dataframe thead th {\n",
       "        text-align: right;\n",
       "    }\n",
       "</style>\n",
       "<table border=\"1\" class=\"dataframe\">\n",
       "  <thead>\n",
       "    <tr style=\"text-align: right;\">\n",
       "      <th></th>\n",
       "      <th>FILE</th>\n",
       "      <th>CHROM</th>\n",
       "      <th>POS</th>\n",
       "      <th>REF</th>\n",
       "      <th>ALT</th>\n",
       "      <th>DP</th>\n",
       "      <th>QUAL</th>\n",
       "      <th>RO</th>\n",
       "      <th>AO</th>\n",
       "      <th>TYPE</th>\n",
       "    </tr>\n",
       "  </thead>\n",
       "  <tbody>\n",
       "    <tr>\n",
       "      <th>0</th>\n",
       "      <td>2014C-3857.filt.vcf</td>\n",
       "      <td>JASV01000001.1</td>\n",
       "      <td>16854</td>\n",
       "      <td>T</td>\n",
       "      <td>C</td>\n",
       "      <td>38</td>\n",
       "      <td>1175.580</td>\n",
       "      <td>0</td>\n",
       "      <td>38</td>\n",
       "      <td>snp</td>\n",
       "    </tr>\n",
       "    <tr>\n",
       "      <th>1</th>\n",
       "      <td>2014C-3857.filt.vcf</td>\n",
       "      <td>JASV01000001.1</td>\n",
       "      <td>16871</td>\n",
       "      <td>C</td>\n",
       "      <td>C</td>\n",
       "      <td>29</td>\n",
       "      <td>832.403</td>\n",
       "      <td>0</td>\n",
       "      <td>28</td>\n",
       "      <td>del</td>\n",
       "    </tr>\n",
       "    <tr>\n",
       "      <th>2</th>\n",
       "      <td>2014C-3857.filt.vcf</td>\n",
       "      <td>JASV01000001.1</td>\n",
       "      <td>16897</td>\n",
       "      <td>G</td>\n",
       "      <td>C</td>\n",
       "      <td>25</td>\n",
       "      <td>735.848</td>\n",
       "      <td>0</td>\n",
       "      <td>25</td>\n",
       "      <td>snp</td>\n",
       "    </tr>\n",
       "    <tr>\n",
       "      <th>3</th>\n",
       "      <td>2014C-3857.filt.vcf</td>\n",
       "      <td>JASV01000001.1</td>\n",
       "      <td>17327</td>\n",
       "      <td>T</td>\n",
       "      <td>TA</td>\n",
       "      <td>11</td>\n",
       "      <td>258.368</td>\n",
       "      <td>0</td>\n",
       "      <td>11</td>\n",
       "      <td>ins</td>\n",
       "    </tr>\n",
       "    <tr>\n",
       "      <th>4</th>\n",
       "      <td>2014C-3857.filt.vcf</td>\n",
       "      <td>JASV01000001.1</td>\n",
       "      <td>17335</td>\n",
       "      <td>G</td>\n",
       "      <td>G</td>\n",
       "      <td>13</td>\n",
       "      <td>292.065</td>\n",
       "      <td>0</td>\n",
       "      <td>13</td>\n",
       "      <td>del</td>\n",
       "    </tr>\n",
       "    <tr>\n",
       "      <th>...</th>\n",
       "      <td>...</td>\n",
       "      <td>...</td>\n",
       "      <td>...</td>\n",
       "      <td>...</td>\n",
       "      <td>...</td>\n",
       "      <td>...</td>\n",
       "      <td>...</td>\n",
       "      <td>...</td>\n",
       "      <td>...</td>\n",
       "      <td>...</td>\n",
       "    </tr>\n",
       "    <tr>\n",
       "      <th>125</th>\n",
       "      <td>2014C-3600.filt.vcf</td>\n",
       "      <td>JASV01000007.1</td>\n",
       "      <td>767386</td>\n",
       "      <td>A</td>\n",
       "      <td>G</td>\n",
       "      <td>87</td>\n",
       "      <td>2684.540</td>\n",
       "      <td>0</td>\n",
       "      <td>87</td>\n",
       "      <td>snp</td>\n",
       "    </tr>\n",
       "    <tr>\n",
       "      <th>126</th>\n",
       "      <td>2014C-3600.filt.vcf</td>\n",
       "      <td>JASV01000007.1</td>\n",
       "      <td>890046</td>\n",
       "      <td>T</td>\n",
       "      <td>C</td>\n",
       "      <td>96</td>\n",
       "      <td>3115.580</td>\n",
       "      <td>0</td>\n",
       "      <td>96</td>\n",
       "      <td>snp</td>\n",
       "    </tr>\n",
       "    <tr>\n",
       "      <th>127</th>\n",
       "      <td>2014C-3600.filt.vcf</td>\n",
       "      <td>JASV01000007.1</td>\n",
       "      <td>958303</td>\n",
       "      <td>T</td>\n",
       "      <td>G</td>\n",
       "      <td>93</td>\n",
       "      <td>3115.200</td>\n",
       "      <td>0</td>\n",
       "      <td>93</td>\n",
       "      <td>snp</td>\n",
       "    </tr>\n",
       "    <tr>\n",
       "      <th>128</th>\n",
       "      <td>2014C-3600.filt.vcf</td>\n",
       "      <td>JASV01000007.1</td>\n",
       "      <td>963356</td>\n",
       "      <td>A</td>\n",
       "      <td>G</td>\n",
       "      <td>23</td>\n",
       "      <td>692.768</td>\n",
       "      <td>0</td>\n",
       "      <td>23</td>\n",
       "      <td>snp</td>\n",
       "    </tr>\n",
       "    <tr>\n",
       "      <th>129</th>\n",
       "      <td>2014C-3600.filt.vcf</td>\n",
       "      <td>JASV01000007.1</td>\n",
       "      <td>1014501</td>\n",
       "      <td>A</td>\n",
       "      <td>G</td>\n",
       "      <td>148</td>\n",
       "      <td>4451.050</td>\n",
       "      <td>1</td>\n",
       "      <td>145</td>\n",
       "      <td>snp</td>\n",
       "    </tr>\n",
       "  </tbody>\n",
       "</table>\n",
       "<p>1353 rows × 10 columns</p>\n",
       "</div>"
      ],
      "text/plain": [
       "                    FILE           CHROM      POS REF ALT   DP      QUAL  RO  \\\n",
       "0    2014C-3857.filt.vcf  JASV01000001.1    16854   T   C   38  1175.580   0   \n",
       "1    2014C-3857.filt.vcf  JASV01000001.1    16871   C   C   29   832.403   0   \n",
       "2    2014C-3857.filt.vcf  JASV01000001.1    16897   G   C   25   735.848   0   \n",
       "3    2014C-3857.filt.vcf  JASV01000001.1    17327   T  TA   11   258.368   0   \n",
       "4    2014C-3857.filt.vcf  JASV01000001.1    17335   G   G   13   292.065   0   \n",
       "..                   ...             ...      ...  ..  ..  ...       ...  ..   \n",
       "125  2014C-3600.filt.vcf  JASV01000007.1   767386   A   G   87  2684.540   0   \n",
       "126  2014C-3600.filt.vcf  JASV01000007.1   890046   T   C   96  3115.580   0   \n",
       "127  2014C-3600.filt.vcf  JASV01000007.1   958303   T   G   93  3115.200   0   \n",
       "128  2014C-3600.filt.vcf  JASV01000007.1   963356   A   G   23   692.768   0   \n",
       "129  2014C-3600.filt.vcf  JASV01000007.1  1014501   A   G  148  4451.050   1   \n",
       "\n",
       "      AO TYPE  \n",
       "0     38  snp  \n",
       "1     28  del  \n",
       "2     25  snp  \n",
       "3     11  ins  \n",
       "4     13  del  \n",
       "..   ...  ...  \n",
       "125   87  snp  \n",
       "126   96  snp  \n",
       "127   93  snp  \n",
       "128   23  snp  \n",
       "129  145  snp  \n",
       "\n",
       "[1353 rows x 10 columns]"
      ]
     },
     "execution_count": 2,
     "metadata": {},
     "output_type": "execute_result"
    }
   ],
   "source": [
    "from typing import List, Dict\n",
    "import vcf\n",
    "import Bio.Seq\n",
    "from Bio import SeqIO\n",
    "import pandas as pd\n",
    "import re\n",
    "import os\n",
    "\n",
    "class VariantsReader:\n",
    "    \n",
    "    def __init__(self):\n",
    "        pass\n",
    "\n",
    "    def read_vcf(self, file: str) -> pd.DataFrame:\n",
    "        reader = vcf.Reader(open(file, 'r'))\n",
    "        df = pd.DataFrame([vars(r) for r in reader])\n",
    "        out = df.merge(pd.DataFrame(df.INFO.tolist()),\n",
    "                       left_index=True, right_index=True)\n",
    "        out = out[['CHROM', 'POS', 'REF', 'ALT', 'DP', 'QUAL', 'RO', 'AO', 'INFO']]\n",
    "        out['TYPE'] = out['INFO'].map(lambda x: x['TYPE'][0])\n",
    "        out = out.drop('INFO', axis='columns')\n",
    "        out['ALT'] = out['ALT'].map(lambda x: str(x[0]))\n",
    "        out['REF'] = out['REF'].map(lambda x: str(x[0]))\n",
    "        out['AO'] = out['AO'].map(lambda x: x[0])\n",
    "        cols = out.columns.tolist()\n",
    "        out['FILE'] = os.path.basename(file)\n",
    "        out = out.reindex(columns=['FILE'] + cols)\n",
    "        return out\n",
    "\n",
    "    def read_vcfs(self, files: List[str]) -> pd.DataFrame:\n",
    "        frames = [self.read_vcf(f) for f in files]\n",
    "        return pd.concat(frames)\n",
    "    \n",
    "    def read_core_masks(self, bit_mask_files_dir: str) -> Dict[str, Dict[str, CoreBitMask]]:\n",
    "        files = [os.path.join(bit_mask_files_dir, f) for f in os.listdir(bit_mask_files_dir) if f.endswith('.fa')]\n",
    "        core_masks = {}\n",
    "        for file in files:\n",
    "            name = re.sub('\\.aligned\\.fa$', '', os.path.basename(file))\n",
    "            core_masks[name] = {}\n",
    "            for record in SeqIO.parse(file, 'fasta'):\n",
    "                if record.id not in core_masks[name]:\n",
    "                    core_masks[name][record.id] = CoreBitMask(sequence=record.seq)\n",
    "                    print(f'{name}:{record.id} -> {core_masks[name][record.id].core_proportion()}')\n",
    "                    \n",
    "        return core_masks\n",
    "\n",
    "directory = 'data/snps-vcf'\n",
    "files = [os.path.join(directory, f) for f in os.listdir('data/snps-vcf')]\n",
    "files = [f for f in files if f.endswith('.vcf')]\n",
    "\n",
    "vr = VariantsReader()\n",
    "core_masks = vr.read_core_masks('data/snps-aligned')\n",
    "df = vr.read_vcfs(files)\n",
    "df"
   ]
  },
  {
   "cell_type": "code",
   "execution_count": 3,
   "metadata": {},
   "outputs": [
    {
     "data": {
      "text/plain": [
       "['2014C-3907',\n",
       " '2014C-3840',\n",
       " '2014C-3656',\n",
       " '2014C-3655',\n",
       " '2014C-3857',\n",
       " '2014C-3600',\n",
       " '2014C-3850',\n",
       " '2014C-3599',\n",
       " '2014C-3598']"
      ]
     },
     "execution_count": 3,
     "metadata": {},
     "output_type": "execute_result"
    }
   ],
   "source": [
    "import re\n",
    "\n",
    "sample_names = df.FILE.value_counts().index.tolist()\n",
    "sample_names = [re.sub('\\.filt\\.vcf$', '', n) for n in sample_names]\n",
    "sample_names"
   ]
  },
  {
   "cell_type": "markdown",
   "metadata": {},
   "source": [
    "# DB model"
   ]
  },
  {
   "cell_type": "code",
   "execution_count": 4,
   "metadata": {},
   "outputs": [],
   "source": [
    "from typing import List, Any\n",
    "\n",
    "from sqlalchemy.ext.declarative import declarative_base\n",
    "from sqlalchemy.orm import relationship\n",
    "\n",
    "from bitarray import bitarray\n",
    "\n",
    "Base = declarative_base()\n",
    "Base\n",
    "\n",
    "from sqlalchemy import Column, Integer, String, Sequence, BigInteger, ForeignKey, Table, LargeBinary\n",
    "    \n",
    "association_table = Table('sample_variation_allele', Base.metadata,\n",
    "    Column('sample_id', Integer, ForeignKey('sample.id')),\n",
    "    Column('variantion_allele_id', String, ForeignKey('variation_allele.id')),\n",
    ")\n",
    "\n",
    "class VariationAllele(Base):\n",
    "    __tablename__ = 'variation_allele'\n",
    "    id = Column(String, primary_key=True)\n",
    "    sequence_id = Column(String, ForeignKey('reference_sequence.id'))\n",
    "    position = Column(Integer, primary_key=True)\n",
    "    ref = Column(String(255), primary_key=True)\n",
    "    alt = Column(String(255), primary_key=True)\n",
    "    var_type = Column(String(255))\n",
    "    \n",
    "    samples = relationship('Sample', secondary=association_table, back_populates='variants')\n",
    "    sequence = relationship('ReferenceSequence', back_populates='variants')\n",
    "    \n",
    "    def __init__(self, sequence = None, position: int = -1, ref: str = None, alt: str = None,\n",
    "                 var_type: str = None):\n",
    "        self.sequence = sequence\n",
    "        self.position = position\n",
    "        self.ref = ref\n",
    "        self.alt = alt\n",
    "        self.var_type = var_type\n",
    "        \n",
    "        self.id = self.to_spdi()\n",
    "    \n",
    "    def to_spdi(self):\n",
    "        return VariationAllele.spdi(sequence_name=self.sequence.sequence_name,\n",
    "                                   position=self.position,\n",
    "                                   ref=self.ref,\n",
    "                                   alt=self.alt)\n",
    "            \n",
    "    @classmethod\n",
    "    def spdi(cls, sequence_name: str, position: int, ref: str, alt: str) -> str:\n",
    "        return f'{sequence_name}:{position}:{ref}:{alt}'\n",
    "    \n",
    "    def __repr__(self):\n",
    "        return (f'<VariationAllele(sequence_name={self.sequence.sequence_name}'\n",
    "                f', position={self.position}, ref={self.ref}, alt={self.alt}, var_type={self.var_type})>')\n",
    "\n",
    "class Reference(Base):\n",
    "    __tablename__ = 'reference'\n",
    "    id = Column(Integer, primary_key=True)\n",
    "    name = Column(String(255))\n",
    "    length = Column(Integer)\n",
    "    sequences = relationship('ReferenceSequence')\n",
    "    \n",
    "    def __repr__(self):\n",
    "        return f'<Reference(id={self.id}, name={self.name}, length={self.length})>'\n",
    "    \n",
    "    \n",
    "class SampleSequence(Base):\n",
    "    __tablename__ = 'sample_sequence'\n",
    "    sample_id = Column(Integer, ForeignKey('sample.id'), primary_key=True)\n",
    "    sequence_id = Column(Integer, ForeignKey('reference_sequence.id'), primary_key=True)\n",
    "    core_mask = Column(LargeBinary)\n",
    "    flag = Column(String(255))\n",
    "    \n",
    "    sequence = relationship('ReferenceSequence', back_populates='sample_sequences')\n",
    "    sample = relationship('Sample', back_populates='sample_sequences')\n",
    "    \n",
    "    def get_core_mask(self):\n",
    "        if self.core_mask is None:\n",
    "            raise Exception('core_mask is not set')\n",
    "        else:\n",
    "            barray = bitarray()\n",
    "            barray.frombytes(self.core_mask)\n",
    "            \n",
    "            # Since I'm decoding a bitarray from bytes, the bytes must always be a multiple of 8\n",
    "            # But the sequence length can be a non-multiple of 8\n",
    "            # So I have to remove (slice) the few additional elements from this array that got added\n",
    "            # When decoding from bytes\n",
    "            barray = barray[:self.sequence.sequence_length]\n",
    "            return CoreBitMask(existing_bitmask=barray)\n",
    "        \n",
    "    def set_core_mask(self, core_mask: CoreBitMask) -> None:\n",
    "        if core_mask is None:\n",
    "            raise Exception('Cannot set core_mask to None')\n",
    "        else:\n",
    "            self.core_mask = core_mask.get_bytes()\n",
    "    \n",
    "    def __repr__(self):\n",
    "        return f'<SampleSequence(sample_id={self.sample_id}, sequence_id={self.sequence_id}, flag={self.flag})>'\n",
    "    \n",
    "    \n",
    "class ReferenceSequence(Base):\n",
    "    __tablename__ = 'reference_sequence'\n",
    "    id = Column(Integer, primary_key=True)\n",
    "    reference_id = Column(Integer, ForeignKey('reference.id'))\n",
    "    sequence_name = Column(String(255))\n",
    "    sequence_length = Column(Integer)\n",
    "    \n",
    "    variants = relationship('VariationAllele', back_populates='sequence')\n",
    "    sample_sequences = relationship('SampleSequence', back_populates='sequence')\n",
    "    \n",
    "    def __repr__(self):\n",
    "        return (f'<ReferenceSequence(id={self.id}, sequence_name={self.sequence_name},'\n",
    "                f'sequence_length={self.sequence_length}, reference_id={self.reference_id})>')\n",
    "    \n",
    "    \n",
    "class Sample(Base):\n",
    "    __tablename__ = 'sample'\n",
    "    id = Column(Integer, primary_key=True)\n",
    "    name = Column(String(255))\n",
    "    \n",
    "    variants = relationship('VariationAllele', secondary=association_table, back_populates='samples')\n",
    "    sample_sequences = relationship('SampleSequence', back_populates='sample')\n",
    "    \n",
    "    def __repr__(self):\n",
    "        return f'<Sample(id={self.id}, name={self.name})>'"
   ]
  },
  {
   "cell_type": "markdown",
   "metadata": {},
   "source": [
    "# Create some data"
   ]
  },
  {
   "cell_type": "code",
   "execution_count": 5,
   "metadata": {},
   "outputs": [
    {
     "data": {
      "text/plain": [
       "{'JASV01000001.1': <ReferenceSequence(id=None, sequence_name=JASV01000001.1,sequence_length=521264, reference_id=None)>,\n",
       " 'JASV01000002.1': <ReferenceSequence(id=None, sequence_name=JASV01000002.1,sequence_length=6598, reference_id=None)>,\n",
       " 'JASV01000003.1': <ReferenceSequence(id=None, sequence_name=JASV01000003.1,sequence_length=225424, reference_id=None)>,\n",
       " 'JASV01000004.1': <ReferenceSequence(id=None, sequence_name=JASV01000004.1,sequence_length=3051854, reference_id=None)>,\n",
       " 'JASV01000005.1': <ReferenceSequence(id=None, sequence_name=JASV01000005.1,sequence_length=49092, reference_id=None)>,\n",
       " 'JASV01000006.1': <ReferenceSequence(id=None, sequence_name=JASV01000006.1,sequence_length=506004, reference_id=None)>,\n",
       " 'JASV01000007.1': <ReferenceSequence(id=None, sequence_name=JASV01000007.1,sequence_length=1052450, reference_id=None)>}"
      ]
     },
     "execution_count": 5,
     "metadata": {},
     "output_type": "execute_result"
    }
   ],
   "source": [
    "from Bio import SeqIO\n",
    "\n",
    "ref_name = '2011C-3609.fasta'\n",
    "ref_length = 0\n",
    "ref_contigs = {}\n",
    "for record in SeqIO.parse(f\"reference/{ref_name}\", \"fasta\"):\n",
    "    ref_contigs[record.id] = ReferenceSequence(sequence_name=record.id, sequence_length=len(record.seq))\n",
    "    ref_length += len(record.seq)\n",
    "\n",
    "reference = Reference(name = ref_name, length = ref_length, sequences=list(ref_contigs.values()))\n",
    "ref_contigs"
   ]
  },
  {
   "cell_type": "code",
   "execution_count": 6,
   "metadata": {},
   "outputs": [],
   "source": [
    "from typing import Dict, List\n",
    "import logging\n",
    "import pandas as pd\n",
    "import re\n",
    "\n",
    "logger = logging.getLogger('VariationService')\n",
    "logger.setLevel(logging.DEBUG)\n",
    "\n",
    "class VariationService:\n",
    "    \n",
    "    def __init__(self, session):\n",
    "        self._session = session\n",
    "        \n",
    "    def _create_file_variants(self, var_df: pd.DataFrame, ref_contigs: Dict[str, ReferenceSequence]) -> Dict[str, List[VariationAllele]]:\n",
    "        variant_table = {}\n",
    "        file_variants = {}\n",
    "        sample_sequences = {}\n",
    "        for row in var_df.iterrows():\n",
    "            sample_name = re.sub('\\.filt\\.vcf$', '', row[1]['FILE'])\n",
    "\n",
    "            ref_contig = ref_contigs[row[1]['CHROM']]\n",
    "            variant_id = VariationAllele.spdi(sequence_name=ref_contig.sequence_name,\n",
    "                                               position=row[1]['POS'],\n",
    "                                               ref=row[1]['REF'],\n",
    "                                               alt=row[1]['ALT']\n",
    "                                              )\n",
    "\n",
    "            if variant_id not in variant_table:\n",
    "                variant = VariationAllele(sequence=ref_contig, position=row[1]['POS'],\n",
    "                         ref=row[1]['REF'], alt=row[1]['ALT'], var_type=row[1]['TYPE'])\n",
    "                variant_table[variant.id] = variant\n",
    "            else:    \n",
    "                variant = variant_table[variant_id]\n",
    "\n",
    "            if sample_name not in file_variants:\n",
    "                file_variants[sample_name] = []\n",
    "\n",
    "            file_variants[sample_name].append(variant)\n",
    "\n",
    "        return file_variants\n",
    "    \n",
    "    def insert_variants(self, var_df: pd.DataFrame, ref_contigs: Dict[str, ReferenceSequence],\n",
    "                       core_masks: Dict[str, Dict[str, CoreBitMask]]) -> None:\n",
    "        file_variants = self._create_file_variants(var_df, ref_contigs)\n",
    "        \n",
    "        for s in file_variants:\n",
    "            ref_objects = {ref_contigs[v.sequence.sequence_name] for v in file_variants[s]}\n",
    "            sample_core_masks = core_masks[s]\n",
    "            sample_sequences = []\n",
    "            for r in ref_objects:\n",
    "                sample_sequence = SampleSequence(sequence=r)\n",
    "                sample_sequence.set_core_mask(sample_core_masks[r.sequence_name])\n",
    "                sample_sequences.append(sample_sequence)\n",
    "            sample = Sample(name=s, variants=file_variants[s], sample_sequences=sample_sequences)\n",
    "            self._session.add(sample)\n",
    "            \n",
    "        self._session.commit()\n",
    "        \n",
    "    def pairwise_distance(self, samples: List[str], var_type = 'all', distance_type = 'jaccard') -> pd.DataFrame:\n",
    "        sample_objs = self._session.query(Sample).filter(Sample.name.in_(samples)).all()\n",
    "        \n",
    "        if var_type == 'all':\n",
    "            sample_variants = {s.name: {v.to_spdi() for v in s.variants} for s in sample_objs}\n",
    "        else:\n",
    "            sample_variants = {s.name: {v.to_spdi() for v in s.variants if v.var_type == var_type} for s in sample_objs}\n",
    "        \n",
    "        names = sample_variants.keys()\n",
    "        distances = []\n",
    "        for name1 in names:\n",
    "            row = []\n",
    "            for name2 in names:\n",
    "                if name1 == name2:\n",
    "                    row.append(0)\n",
    "                else:\n",
    "                    if distance_type == 'jaccard':\n",
    "                        logger.debug(f'variants1=[{sample_variants[name1]}]')\n",
    "                        logger.debug(f'variants2=[{sample_variants[name2]}]')\n",
    "                        intersection = sample_variants[name1].intersection(sample_variants[name2])\n",
    "                        union = sample_variants[name1].union(sample_variants[name2])\n",
    "                        \n",
    "                        row.append(1 - (len(intersection)/len(union)))\n",
    "                    else:\n",
    "                        raise Exception(f'Unsupported distance_type=[{distance_type}]')\n",
    "            distances.append(row)\n",
    "            \n",
    "        return pd.DataFrame(distances, columns=names, index=names)"
   ]
  },
  {
   "cell_type": "markdown",
   "metadata": {},
   "source": [
    "# Insert into database"
   ]
  },
  {
   "cell_type": "code",
   "execution_count": 7,
   "metadata": {},
   "outputs": [],
   "source": [
    "from sqlalchemy import create_engine\n",
    "from sqlalchemy.orm import sessionmaker\n",
    "\n",
    "engine = create_engine('sqlite:///:memory:', echo=False)\n",
    "\n",
    "Session = sessionmaker(bind=engine)\n",
    "session = Session()\n",
    "session\n",
    "\n",
    "Base.metadata.create_all(engine)"
   ]
  },
  {
   "cell_type": "code",
   "execution_count": 8,
   "metadata": {},
   "outputs": [],
   "source": [
    "session.add(reference)\n",
    "session.commit()"
   ]
  },
  {
   "cell_type": "code",
   "execution_count": 9,
   "metadata": {},
   "outputs": [
    {
     "data": {
      "text/plain": [
       "{'JASV01000001.1': <ReferenceSequence(id=1, sequence_name=JASV01000001.1,sequence_length=521264, reference_id=1)>,\n",
       " 'JASV01000002.1': <ReferenceSequence(id=2, sequence_name=JASV01000002.1,sequence_length=6598, reference_id=1)>,\n",
       " 'JASV01000003.1': <ReferenceSequence(id=3, sequence_name=JASV01000003.1,sequence_length=225424, reference_id=1)>,\n",
       " 'JASV01000004.1': <ReferenceSequence(id=4, sequence_name=JASV01000004.1,sequence_length=3051854, reference_id=1)>,\n",
       " 'JASV01000005.1': <ReferenceSequence(id=5, sequence_name=JASV01000005.1,sequence_length=49092, reference_id=1)>,\n",
       " 'JASV01000006.1': <ReferenceSequence(id=6, sequence_name=JASV01000006.1,sequence_length=506004, reference_id=1)>,\n",
       " 'JASV01000007.1': <ReferenceSequence(id=7, sequence_name=JASV01000007.1,sequence_length=1052450, reference_id=1)>}"
      ]
     },
     "execution_count": 9,
     "metadata": {},
     "output_type": "execute_result"
    }
   ],
   "source": [
    "ref = session.query(Reference).filter_by(id = 1).first()\n",
    "ref_contigs = {c.sequence_name: c for c in ref.sequences}\n",
    "ref_contigs"
   ]
  },
  {
   "cell_type": "code",
   "execution_count": 10,
   "metadata": {},
   "outputs": [],
   "source": [
    "variation_service = VariationService(session)\n",
    "\n",
    "variation_service.insert_variants(df, ref_contigs, core_masks)"
   ]
  },
  {
   "cell_type": "code",
   "execution_count": 11,
   "metadata": {},
   "outputs": [
    {
     "data": {
      "text/plain": [
       "<Sample(id=1, name=2014C-3857)>"
      ]
     },
     "execution_count": 11,
     "metadata": {},
     "output_type": "execute_result"
    }
   ],
   "source": [
    "s = session.query(Sample).first()\n",
    "s"
   ]
  },
  {
   "cell_type": "code",
   "execution_count": 12,
   "metadata": {},
   "outputs": [
    {
     "data": {
      "text/plain": [
       "0.8356652352899425"
      ]
     },
     "execution_count": 12,
     "metadata": {},
     "output_type": "execute_result"
    }
   ],
   "source": [
    "s.sample_sequences[1].get_core_mask().core_proportion()"
   ]
  },
  {
   "cell_type": "code",
   "execution_count": 13,
   "metadata": {},
   "outputs": [],
   "source": [
    "#variation_service.pairwise_distance(['2014C-3857', '2014C-3600'], var_type='snp')\n",
    "#variation_service.pairwise_distance(sample_names, var_type='snp')"
   ]
  },
  {
   "cell_type": "code",
   "execution_count": 14,
   "metadata": {},
   "outputs": [
    {
     "data": {
      "text/plain": [
       "[<VariationAllele(sequence_name=JASV01000001.1, position=16854, ref=T, alt=C, var_type=snp)>]"
      ]
     },
     "execution_count": 14,
     "metadata": {},
     "output_type": "execute_result"
    }
   ],
   "source": [
    "v = session.query(VariationAllele).filter_by(position = 16854).all()\n",
    "v"
   ]
  },
  {
   "cell_type": "code",
   "execution_count": 15,
   "metadata": {},
   "outputs": [
    {
     "data": {
      "text/plain": [
       "<ReferenceSequence(id=1, sequence_name=JASV01000001.1,sequence_length=521264, reference_id=1)>"
      ]
     },
     "execution_count": 15,
     "metadata": {},
     "output_type": "execute_result"
    }
   ],
   "source": [
    "v[0].sequence"
   ]
  },
  {
   "cell_type": "code",
   "execution_count": 16,
   "metadata": {},
   "outputs": [
    {
     "data": {
      "text/plain": [
       "<ReferenceSequence(id=3, sequence_name=JASV01000003.1,sequence_length=225424, reference_id=1)>"
      ]
     },
     "execution_count": 16,
     "metadata": {},
     "output_type": "execute_result"
    }
   ],
   "source": [
    "r = session.query(ReferenceSequence).filter_by(sequence_name = 'JASV01000003.1').first()\n",
    "r"
   ]
  },
  {
   "cell_type": "code",
   "execution_count": 17,
   "metadata": {},
   "outputs": [
    {
     "data": {
      "text/plain": [
       "[<VariationAllele(sequence_name=JASV01000003.1, position=5707, ref=C, alt=T, var_type=snp)>,\n",
       " <VariationAllele(sequence_name=JASV01000003.1, position=45994, ref=G, alt=A, var_type=snp)>,\n",
       " <VariationAllele(sequence_name=JASV01000003.1, position=61267, ref=C, alt=G, var_type=snp)>,\n",
       " <VariationAllele(sequence_name=JASV01000003.1, position=195762, ref=G, alt=A, var_type=snp)>,\n",
       " <VariationAllele(sequence_name=JASV01000003.1, position=58901, ref=G, alt=G, var_type=del)>,\n",
       " <VariationAllele(sequence_name=JASV01000003.1, position=128740, ref=T, alt=A, var_type=snp)>,\n",
       " <VariationAllele(sequence_name=JASV01000003.1, position=153954, ref=G, alt=A, var_type=snp)>,\n",
       " <VariationAllele(sequence_name=JASV01000003.1, position=221906, ref=G, alt=A, var_type=snp)>,\n",
       " <VariationAllele(sequence_name=JASV01000003.1, position=31056, ref=T, alt=T, var_type=del)>,\n",
       " <VariationAllele(sequence_name=JASV01000003.1, position=56439, ref=G, alt=A, var_type=snp)>,\n",
       " <VariationAllele(sequence_name=JASV01000003.1, position=90915, ref=G, alt=A, var_type=snp)>,\n",
       " <VariationAllele(sequence_name=JASV01000003.1, position=95742, ref=G, alt=A, var_type=snp)>,\n",
       " <VariationAllele(sequence_name=JASV01000003.1, position=145995, ref=T, alt=A, var_type=snp)>,\n",
       " <VariationAllele(sequence_name=JASV01000003.1, position=167383, ref=T, alt=A, var_type=snp)>,\n",
       " <VariationAllele(sequence_name=JASV01000003.1, position=16201, ref=G, alt=T, var_type=snp)>,\n",
       " <VariationAllele(sequence_name=JASV01000003.1, position=83283, ref=A, alt=G, var_type=snp)>,\n",
       " <VariationAllele(sequence_name=JASV01000003.1, position=148435, ref=C, alt=T, var_type=snp)>,\n",
       " <VariationAllele(sequence_name=JASV01000003.1, position=7365, ref=G, alt=A, var_type=snp)>,\n",
       " <VariationAllele(sequence_name=JASV01000003.1, position=58489, ref=C, alt=CA, var_type=ins)>,\n",
       " <VariationAllele(sequence_name=JASV01000003.1, position=112947, ref=A, alt=C, var_type=snp)>,\n",
       " <VariationAllele(sequence_name=JASV01000003.1, position=128570, ref=A, alt=G, var_type=snp)>,\n",
       " <VariationAllele(sequence_name=JASV01000003.1, position=203919, ref=C, alt=T, var_type=snp)>,\n",
       " <VariationAllele(sequence_name=JASV01000003.1, position=213803, ref=T, alt=C, var_type=snp)>,\n",
       " <VariationAllele(sequence_name=JASV01000003.1, position=22380, ref=G, alt=A, var_type=snp)>,\n",
       " <VariationAllele(sequence_name=JASV01000003.1, position=32838, ref=G, alt=A, var_type=snp)>,\n",
       " <VariationAllele(sequence_name=JASV01000003.1, position=123890, ref=G, alt=A, var_type=snp)>,\n",
       " <VariationAllele(sequence_name=JASV01000003.1, position=130955, ref=T, alt=A, var_type=snp)>]"
      ]
     },
     "execution_count": 17,
     "metadata": {},
     "output_type": "execute_result"
    }
   ],
   "source": [
    "r.variants"
   ]
  },
  {
   "cell_type": "code",
   "execution_count": 18,
   "metadata": {},
   "outputs": [
    {
     "data": {
      "text/plain": [
       "<Sample(id=1, name=2014C-3857)>"
      ]
     },
     "execution_count": 18,
     "metadata": {},
     "output_type": "execute_result"
    }
   ],
   "source": [
    "s = session.query(Sample).filter_by(name='2014C-3857').first()\n",
    "s"
   ]
  },
  {
   "cell_type": "code",
   "execution_count": 19,
   "metadata": {},
   "outputs": [
    {
     "data": {
      "text/plain": [
       "[<SampleSequence(sample_id=1, sequence_id=1, flag=None)>,\n",
       " <SampleSequence(sample_id=1, sequence_id=3, flag=None)>,\n",
       " <SampleSequence(sample_id=1, sequence_id=4, flag=None)>,\n",
       " <SampleSequence(sample_id=1, sequence_id=5, flag=None)>,\n",
       " <SampleSequence(sample_id=1, sequence_id=6, flag=None)>,\n",
       " <SampleSequence(sample_id=1, sequence_id=7, flag=None)>]"
      ]
     },
     "execution_count": 19,
     "metadata": {},
     "output_type": "execute_result"
    }
   ],
   "source": [
    "s.sample_sequences"
   ]
  },
  {
   "cell_type": "code",
   "execution_count": 20,
   "metadata": {},
   "outputs": [
    {
     "data": {
      "text/plain": [
       "'JASV01000006.1:200423:A:G'"
      ]
     },
     "execution_count": 20,
     "metadata": {},
     "output_type": "execute_result"
    }
   ],
   "source": [
    "s.variants[0].id"
   ]
  },
  {
   "cell_type": "code",
   "execution_count": 21,
   "metadata": {},
   "outputs": [
    {
     "data": {
      "text/plain": [
       "[<Sample(id=1, name=2014C-3857)>,\n",
       " <Sample(id=2, name=2014C-3655)>,\n",
       " <Sample(id=3, name=2014C-3598)>,\n",
       " <Sample(id=4, name=2014C-3840)>,\n",
       " <Sample(id=5, name=2014C-3599)>,\n",
       " <Sample(id=6, name=2014C-3907)>,\n",
       " <Sample(id=7, name=2014C-3656)>,\n",
       " <Sample(id=8, name=2014C-3850)>,\n",
       " <Sample(id=9, name=2014C-3600)>]"
      ]
     },
     "execution_count": 21,
     "metadata": {},
     "output_type": "execute_result"
    }
   ],
   "source": [
    "v = session.query(VariationAllele).filter_by(id='JASV01000001.1:16854:T:C').first()\n",
    "v.samples"
   ]
  },
  {
   "cell_type": "code",
   "execution_count": 22,
   "metadata": {},
   "outputs": [
    {
     "data": {
      "text/plain": [
       "<SampleSequence(sample_id=1, sequence_id=3, flag=None)>"
      ]
     },
     "execution_count": 22,
     "metadata": {},
     "output_type": "execute_result"
    }
   ],
   "source": [
    "ss = session.query(SampleSequence).first()\n",
    "ss"
   ]
  },
  {
   "cell_type": "code",
   "execution_count": 23,
   "metadata": {},
   "outputs": [
    {
     "data": {
      "text/plain": [
       "188379"
      ]
     },
     "execution_count": 23,
     "metadata": {},
     "output_type": "execute_result"
    }
   ],
   "source": [
    "ss.get_core_mask().core_length()"
   ]
  },
  {
   "cell_type": "code",
   "execution_count": 24,
   "metadata": {},
   "outputs": [
    {
     "data": {
      "text/plain": [
       "0.8356652352899425"
      ]
     },
     "execution_count": 24,
     "metadata": {},
     "output_type": "execute_result"
    }
   ],
   "source": [
    "ss.get_core_mask().core_proportion()"
   ]
  },
  {
   "cell_type": "code",
   "execution_count": 25,
   "metadata": {},
   "outputs": [
    {
     "name": "stdout",
     "output_type": "stream",
     "text": [
      "<ReferenceSequence(id=3, sequence_name=JASV01000003.1,sequence_length=225424, reference_id=1)>\n",
      "<Sample(id=1, name=2014C-3857)>\n"
     ]
    }
   ],
   "source": [
    "print(ss.sequence)\n",
    "print(ss.sample)"
   ]
  },
  {
   "cell_type": "code",
   "execution_count": 26,
   "metadata": {},
   "outputs": [
    {
     "data": {
      "text/plain": [
       "225424"
      ]
     },
     "execution_count": 26,
     "metadata": {},
     "output_type": "execute_result"
    }
   ],
   "source": [
    "len(ss.get_core_mask())"
   ]
  },
  {
   "cell_type": "markdown",
   "metadata": {},
   "source": [
    "# References"
   ]
  },
  {
   "cell_type": "code",
   "execution_count": 27,
   "metadata": {},
   "outputs": [
    {
     "data": {
      "text/plain": [
       "'GTTTTACTGA'"
      ]
     },
     "execution_count": 27,
     "metadata": {},
     "output_type": "execute_result"
    }
   ],
   "source": [
    "from biocommons.seqrepo import SeqRepo\n",
    "import ga4gh.vrs.dataproxy as dataproxy\n",
    "\n",
    "sr = SeqRepo(\"data/references\")\n",
    "ref_proxy = dataproxy.SeqRepoDataProxy(sr)\n",
    "ref_proxy.get_sequence('NCBI:JASV01000002.1', 0, 10)"
   ]
  },
  {
   "cell_type": "markdown",
   "metadata": {},
   "source": [
    "# Construct alignment"
   ]
  },
  {
   "cell_type": "code",
   "execution_count": 28,
   "metadata": {},
   "outputs": [
    {
     "data": {
      "text/plain": [
       "[<SampleSequence(sample_id=1, sequence_id=1, flag=None)>,\n",
       " <SampleSequence(sample_id=2, sequence_id=1, flag=None)>,\n",
       " <SampleSequence(sample_id=3, sequence_id=1, flag=None)>,\n",
       " <SampleSequence(sample_id=4, sequence_id=1, flag=None)>,\n",
       " <SampleSequence(sample_id=5, sequence_id=1, flag=None)>,\n",
       " <SampleSequence(sample_id=6, sequence_id=1, flag=None)>,\n",
       " <SampleSequence(sample_id=7, sequence_id=1, flag=None)>,\n",
       " <SampleSequence(sample_id=8, sequence_id=1, flag=None)>,\n",
       " <SampleSequence(sample_id=9, sequence_id=1, flag=None)>]"
      ]
     },
     "execution_count": 28,
     "metadata": {},
     "output_type": "execute_result"
    }
   ],
   "source": [
    "reference = session.query(Reference).filter(Reference.name == '2011C-3609.fasta').one()\n",
    "reference.sequences[0].sample_sequences"
   ]
  },
  {
   "cell_type": "code",
   "execution_count": 29,
   "metadata": {},
   "outputs": [
    {
     "data": {
      "text/plain": [
       "{'JASV01000003.1': [<SampleSequence(sample_id=3, sequence_id=3, flag=None)>,\n",
       "  <SampleSequence(sample_id=4, sequence_id=3, flag=None)>],\n",
       " 'JASV01000005.1': [<SampleSequence(sample_id=3, sequence_id=5, flag=None)>,\n",
       "  <SampleSequence(sample_id=4, sequence_id=5, flag=None)>],\n",
       " 'JASV01000004.1': [<SampleSequence(sample_id=3, sequence_id=4, flag=None)>,\n",
       "  <SampleSequence(sample_id=4, sequence_id=4, flag=None)>],\n",
       " 'JASV01000007.1': [<SampleSequence(sample_id=3, sequence_id=7, flag=None)>,\n",
       "  <SampleSequence(sample_id=4, sequence_id=7, flag=None)>],\n",
       " 'JASV01000006.1': [<SampleSequence(sample_id=3, sequence_id=6, flag=None)>,\n",
       "  <SampleSequence(sample_id=4, sequence_id=6, flag=None)>],\n",
       " 'JASV01000001.1': [<SampleSequence(sample_id=3, sequence_id=1, flag=None)>,\n",
       "  <SampleSequence(sample_id=4, sequence_id=1, flag=None)>]}"
      ]
     },
     "execution_count": 29,
     "metadata": {},
     "output_type": "execute_result"
    }
   ],
   "source": [
    "samples_list = ['2014C-3598', '2014C-3840']\n",
    "reference_name = '2011C-3609.fasta'\n",
    "\n",
    "sample_sequences = session.query(SampleSequence)\\\n",
    "    .join(Sample)\\\n",
    "    .join(ReferenceSequence)\\\n",
    "    .join(Reference)\\\n",
    "    .filter(Sample.name.in_(samples_list))\\\n",
    "    .filter(Reference.name == reference_name)\\\n",
    "    .all()\n",
    "\n",
    "sample_sequences_map = {}\n",
    "for ss in sample_sequences:\n",
    "    if ss.sequence.sequence_name in sample_sequences_map:\n",
    "        sample_sequences_map[ss.sequence.sequence_name].append(ss)\n",
    "    else:\n",
    "        sample_sequences_map[ss.sequence.sequence_name] = [ss]\n",
    "sample_sequences_map"
   ]
  },
  {
   "cell_type": "code",
   "execution_count": 30,
   "metadata": {},
   "outputs": [
    {
     "name": "stdout",
     "output_type": "stream",
     "text": [
      "[<Sample(id=1, name=2014C-3857)>, <Sample(id=2, name=2014C-3655)>, <Sample(id=3, name=2014C-3598)>, <Sample(id=4, name=2014C-3840)>, <Sample(id=5, name=2014C-3599)>, <Sample(id=6, name=2014C-3907)>, <Sample(id=7, name=2014C-3656)>, <Sample(id=8, name=2014C-3850)>, <Sample(id=9, name=2014C-3600)>]\n"
     ]
    }
   ],
   "source": [
    "#for sequence_name in sample_sequences_map:\n",
    "for sequence_name in ['JASV01000005.1']:\n",
    "    variants = session.query(VariationAllele)\\\n",
    "        .join(ReferenceSequence)\\\n",
    "        .filter(ReferenceSequence.sequence_name == sequence_name)\\\n",
    "        .all()\n",
    "    print(variants[0].samples)"
   ]
  },
  {
   "cell_type": "code",
   "execution_count": 31,
   "metadata": {},
   "outputs": [
    {
     "data": {
      "text/plain": [
       "[<Sample(id=3, name=2014C-3598)>, <Sample(id=4, name=2014C-3840)>]"
      ]
     },
     "execution_count": 31,
     "metadata": {},
     "output_type": "execute_result"
    }
   ],
   "source": [
    "samples_list = ['2014C-3598', '2014C-3840']\n",
    "samples = session.query(Sample).filter(Sample.name.in_(samples_list)).all()\n",
    "samples"
   ]
  },
  {
   "cell_type": "code",
   "execution_count": 32,
   "metadata": {},
   "outputs": [
    {
     "data": {
      "text/plain": [
       "<Reference(id=1, name=2011C-3609.fasta, length=5412686)>"
      ]
     },
     "execution_count": 32,
     "metadata": {},
     "output_type": "execute_result"
    }
   ],
   "source": [
    "reference = session.query(Reference).first()\n",
    "reference"
   ]
  },
  {
   "cell_type": "code",
   "execution_count": 33,
   "metadata": {},
   "outputs": [
    {
     "data": {
      "text/plain": [
       "'JASV01000001.1'"
      ]
     },
     "execution_count": 33,
     "metadata": {},
     "output_type": "execute_result"
    }
   ],
   "source": [
    "sequence = reference.sequences[0]\n",
    "sequence.sequence_name"
   ]
  },
  {
   "cell_type": "code",
   "execution_count": 34,
   "metadata": {},
   "outputs": [
    {
     "data": {
      "text/plain": [
       "[<SampleSequence(sample_id=1, sequence_id=1, flag=None)>,\n",
       " <SampleSequence(sample_id=2, sequence_id=1, flag=None)>,\n",
       " <SampleSequence(sample_id=3, sequence_id=1, flag=None)>,\n",
       " <SampleSequence(sample_id=4, sequence_id=1, flag=None)>,\n",
       " <SampleSequence(sample_id=5, sequence_id=1, flag=None)>,\n",
       " <SampleSequence(sample_id=6, sequence_id=1, flag=None)>,\n",
       " <SampleSequence(sample_id=7, sequence_id=1, flag=None)>,\n",
       " <SampleSequence(sample_id=8, sequence_id=1, flag=None)>,\n",
       " <SampleSequence(sample_id=9, sequence_id=1, flag=None)>]"
      ]
     },
     "execution_count": 34,
     "metadata": {},
     "output_type": "execute_result"
    }
   ],
   "source": [
    "sample_sequences = session.query(SampleSequence).filter(SampleSequence.sequence_id == sequence.id).all()\n",
    "sample_sequences"
   ]
  },
  {
   "cell_type": "code",
   "execution_count": 35,
   "metadata": {},
   "outputs": [
    {
     "data": {
      "text/plain": [
       "<Sample(id=1, name=2014C-3857)>"
      ]
     },
     "execution_count": 35,
     "metadata": {},
     "output_type": "execute_result"
    }
   ],
   "source": [
    "sample_sequences[0].sample"
   ]
  },
  {
   "cell_type": "code",
   "execution_count": 36,
   "metadata": {},
   "outputs": [
    {
     "data": {
      "text/plain": [
       "<sqlalchemy.orm.query.Query at 0x7f6b88332c70>"
      ]
     },
     "execution_count": 36,
     "metadata": {},
     "output_type": "execute_result"
    }
   ],
   "source": [
    "session.query()"
   ]
  },
  {
   "cell_type": "code",
   "execution_count": 37,
   "metadata": {},
   "outputs": [
    {
     "data": {
      "text/plain": [
       "[<VariationAllele(sequence_name=JASV01000002.1, position=2950, ref=T, alt=A, var_type=snp)>]"
      ]
     },
     "execution_count": 37,
     "metadata": {},
     "output_type": "execute_result"
    }
   ],
   "source": [
    "reference.sequences[1].variants"
   ]
  },
  {
   "cell_type": "code",
   "execution_count": 38,
   "metadata": {},
   "outputs": [
    {
     "data": {
      "text/plain": [
       "[<Sample(id=1, name=2014C-3857)>]"
      ]
     },
     "execution_count": 38,
     "metadata": {},
     "output_type": "execute_result"
    }
   ],
   "source": [
    "samples = [session.query(Sample).first()]\n",
    "samples"
   ]
  },
  {
   "cell_type": "code",
   "execution_count": 39,
   "metadata": {},
   "outputs": [
    {
     "data": {
      "text/plain": [
       "<ReferenceSequence(id=6, sequence_name=JASV01000006.1,sequence_length=506004, reference_id=1)>"
      ]
     },
     "execution_count": 39,
     "metadata": {},
     "output_type": "execute_result"
    }
   ],
   "source": [
    "samples[0].variants[0].sequence"
   ]
  },
  {
   "cell_type": "code",
   "execution_count": 60,
   "metadata": {},
   "outputs": [
    {
     "name": "stdout",
     "output_type": "stream",
     "text": [
      "Alignment with 4 rows and 201 columns\n",
      "TACACGGCATTGCGGACTTGAGGGTCATAGAGTGGCCGGCGTGC...ACC 2014C-3598\n",
      "CGTCATGTACAATAAGTCAAAAGACTTAGAAGCGATCGTTTGGC...CAT 2014C-3840\n",
      "TACACGGCATTGCGGACTTGAGGGTCATAGAGTGGCCGGCGTGC...ACC 2014C-3600\n",
      "CGTCCGACGCTGTAGACCTGCGAGCCATAGGATAGCTTGCGTAT...CCC reference\n"
     ]
    }
   ],
   "source": [
    "from typing import List, Dict\n",
    "\n",
    "import Bio\n",
    "import pandas as pd\n",
    "import ga4gh.vrs.dataproxy as dataproxy\n",
    "import sqlalchemy\n",
    "\n",
    "class CoreAlignmentConstructor:\n",
    "    \n",
    "    def __init__(self, session: sqlalchemy.orm.session.Session, reference_data_proxy: dataproxy.SeqRepoDataProxy):\n",
    "        self._session = session\n",
    "        self._ref_proxy = reference_data_proxy\n",
    "        \n",
    "    def _sample_sequence(self, reference_name: str, samples: List[str]) -> Dict[str, List[SampleSequence]]:\n",
    "        sample_sequences = self._session.query(SampleSequence)\\\n",
    "            .join(Sample)\\\n",
    "            .join(ReferenceSequence)\\\n",
    "            .join(Reference)\\\n",
    "            .filter(Sample.name.in_(samples_list))\\\n",
    "            .filter(Reference.name == reference_name)\\\n",
    "            .all()\n",
    "\n",
    "        sample_sequences_map = {}\n",
    "        for ss in sample_sequences:\n",
    "            if ss.sequence.sequence_name in sample_sequences_map:\n",
    "                sample_sequences_map[ss.sequence.sequence_name].append(ss)\n",
    "            else:\n",
    "                sample_sequences_map[ss.sequence.sequence_name] = [ss]\n",
    "        \n",
    "        return sample_sequences_map\n",
    "    \n",
    "    def _get_variants(self, sequence_name: str) -> Dict[int, Dict[str, VariationAllele]]:\n",
    "        variants = self._session.query(VariationAllele)\\\n",
    "            .join(ReferenceSequence)\\\n",
    "            .filter(ReferenceSequence.sequence_name == sequence_name)\\\n",
    "            .filter(VariationAllele.var_type == 'snp')\\\n",
    "            .order_by(VariationAllele.position)\\\n",
    "            .all()\n",
    "        \n",
    "        variants_dict = {}\n",
    "        \n",
    "        for variant in variants:\n",
    "            if variant.position not in variants_dict:\n",
    "                variants_dict[variant.position] = {}\n",
    "            for sample in variant.samples:\n",
    "                variants_dict[variant.position][sample.name] = variant\n",
    "        \n",
    "        return variants_dict\n",
    "    \n",
    "    def _create_core_mask(self, sequences: List[SampleSequence]) -> CoreBitMask:\n",
    "        if sequences is None or len(sequences) == 0:\n",
    "            raise Exception('Cannot create bitmask of empty sequences')\n",
    "        else:\n",
    "            core_mask = sequences[0].get_core_mask()\n",
    "            for i in range(1,len(sequences)):\n",
    "                sequence = sequences[i]\n",
    "                core_mask = core_mask.append_bitmask(sequence.get_core_mask())\n",
    "                \n",
    "            return core_mask\n",
    "        \n",
    "    def construct_alignment(self, reference_name: str, samples: List[str], include_reference: bool = True) -> Bio.Align.MultipleSeqAlignment:\n",
    "        sample_sequences = self._sample_sequence(reference_name, samples)\n",
    "        \n",
    "        sample_seqs = {}\n",
    "        seq_alignments = {}\n",
    "\n",
    "        for sequence_name in sample_sequences:\n",
    "            seq = Bio.Seq.Seq(self._ref_proxy.get_sequence(f'NCBI:{sequence_name}'))\n",
    "            core_mask = self._create_core_mask(sample_sequences[sequence_name])\n",
    "            \n",
    "            variants_dict = self._get_variants(sequence_name)\n",
    "            \n",
    "            for position in variants_dict:\n",
    "                ref = seq[position-1:position]\n",
    "\n",
    "                # if in core\n",
    "                if core_mask[position]:\n",
    "                    variant_samples = variants_dict[position]\n",
    "                    if len(set(samples).intersection(set(variant_samples.keys()))) == 0:\n",
    "                        continue\n",
    "                    \n",
    "                    for sample in samples:\n",
    "                        if sequence_name not in sample_seqs:\n",
    "                            sample_seqs[sequence_name] = {}\n",
    "                        if sample not in sample_seqs[sequence_name]:\n",
    "                            sample_seqs[sequence_name][sample] = Bio.Seq.Seq(data='')\n",
    "\n",
    "                        if sample in variant_samples:\n",
    "                            sample_seqs[sequence_name][sample] += variant_samples[sample].alt\n",
    "                        else:\n",
    "                            sample_seqs[sequence_name][sample] += ref\n",
    "\n",
    "                    if include_reference:\n",
    "                        # Add the reference sequence in\n",
    "                        if 'reference' not in sample_seqs[sequence_name]:\n",
    "                            sample_seqs[sequence_name]['reference'] = Bio.Seq.Seq(data='')\n",
    "\n",
    "                        sample_seqs[sequence_name]['reference'] += ref\n",
    "\n",
    "        for sequence_name in sample_seqs:\n",
    "            seq_records = [Bio.SeqRecord.SeqRecord(sample_seqs[sequence_name][sample], id=sample) for sample in sample_seqs[sequence_name]]\n",
    "            seq_alignments[sequence_name] = Bio.Align.MultipleSeqAlignment(seq_records)\n",
    "                \n",
    "        sequence_names = sorted(seq_alignments.keys())\n",
    "        seq1 = sequence_names.pop()\n",
    "        core_snv_align = seq_alignments[seq1]\n",
    "\n",
    "        for sequence_name in sequence_names:\n",
    "            core_snv_align += seq_alignments[sequence_name]\n",
    "                \n",
    "        return core_snv_align\n",
    "        \n",
    "align_constructor = CoreAlignmentConstructor(session, ref_proxy)\n",
    "#align_constructor._get_variants('JASV01000004.1')\n",
    "# x = align_constructor._sample_sequence(reference_name='2011C-3609.fasta', samples=['2014C-3598', '2014C-3840'])\n",
    "# m = align_constructor._create_core_mask(x['JASV01000005.1'])\n",
    "alignment = align_constructor.construct_alignment(reference_name='2011C-3609.fasta', samples=['2014C-3598', '2014C-3840', '2014C-3600'])\n",
    "print(alignment)"
   ]
  }
 ],
 "metadata": {
  "kernelspec": {
   "display_name": "Python 3",
   "language": "python",
   "name": "python3"
  },
  "language_info": {
   "codemirror_mode": {
    "name": "ipython",
    "version": 3
   },
   "file_extension": ".py",
   "mimetype": "text/x-python",
   "name": "python",
   "nbconvert_exporter": "python",
   "pygments_lexer": "ipython3",
   "version": "3.8.6"
  }
 },
 "nbformat": 4,
 "nbformat_minor": 4
}
