{
 "cells": [
  {
   "cell_type": "markdown",
   "metadata": {},
   "source": [
    "# Variants"
   ]
  },
  {
   "cell_type": "code",
   "execution_count": null,
   "metadata": {},
   "outputs": [],
   "source": [
    "from bitarray import bitarray\n",
    "import Bio.Seq\n",
    "\n",
    "class CoreBitMask:\n",
    "    \n",
    "    def __init__(self, sequence: Bio.Seq.Seq = None, existing_bitmask: bitarray = None):\n",
    "        if existing_bitmask is not None and sequence is not None:\n",
    "            raise Exception(f'Cannot set both existing_bitmask={existing_bitmask} and sequence={sequence}')\n",
    "            \n",
    "        if existing_bitmask:\n",
    "            self._core_bitmask = existing_bitmask\n",
    "        elif sequence:\n",
    "            self._core_bitmask = bitarray(len(sequence))\n",
    "            self._core_bitmask.setall(True)\n",
    "            self._add_sequence(sequence)\n",
    "        else:\n",
    "            raise Exception('If no existing_bitmask set then sequence must be defined')\n",
    "            \n",
    "    def _add_sequence(self, sequence: Bio.Seq.Seq) -> float:\n",
    "        for idx, char in enumerate(sequence):\n",
    "            if char.upper() == 'N' or char == '-':\n",
    "                self._core_bitmask[idx] = False\n",
    "                \n",
    "    def get_bytes(self):\n",
    "        return self._core_bitmask.tobytes()\n",
    "    \n",
    "    def core_length(self) -> int:\n",
    "        return self._core_bitmask.count()\n",
    "    \n",
    "    def core_proportion(self) -> float:\n",
    "        return self.core_length()/len(self)\n",
    "    \n",
    "    def __len__(self) -> int:\n",
    "        return len(self._core_bitmask)\n",
    "    \n",
    "    def __getitem__(self, index: int) -> bool:\n",
    "        return self._core_bitmask[index]\n",
    "    \n",
    "s = Bio.Seq.Seq('ATCG-NN')\n",
    "mask = CoreBitMask(sequence=s)\n",
    "mask.core_proportion()"
   ]
  },
  {
   "cell_type": "code",
   "execution_count": null,
   "metadata": {},
   "outputs": [],
   "source": [
    "from typing import List, Dict\n",
    "import vcf\n",
    "import Bio.Seq\n",
    "from Bio import SeqIO\n",
    "import pandas as pd\n",
    "import re\n",
    "import os\n",
    "\n",
    "class VariantsReader:\n",
    "    \n",
    "    def __init__(self):\n",
    "        pass\n",
    "\n",
    "    def read_vcf(self, file: str) -> pd.DataFrame:\n",
    "        reader = vcf.Reader(open(file, 'r'))\n",
    "        df = pd.DataFrame([vars(r) for r in reader])\n",
    "        out = df.merge(pd.DataFrame(df.INFO.tolist()),\n",
    "                       left_index=True, right_index=True)\n",
    "        out = out[['CHROM', 'POS', 'REF', 'ALT', 'DP', 'QUAL', 'RO', 'AO', 'INFO']]\n",
    "        out['TYPE'] = out['INFO'].map(lambda x: x['TYPE'][0])\n",
    "        out = out.drop('INFO', axis='columns')\n",
    "        out['ALT'] = out['ALT'].map(lambda x: str(x[0]))\n",
    "        out['REF'] = out['REF'].map(lambda x: str(x[0]))\n",
    "        out['AO'] = out['AO'].map(lambda x: x[0])\n",
    "        cols = out.columns.tolist()\n",
    "        out['FILE'] = os.path.basename(file)\n",
    "        out = out.reindex(columns=['FILE'] + cols)\n",
    "        return out\n",
    "\n",
    "    def read_vcfs(self, files: List[str]) -> pd.DataFrame:\n",
    "        frames = [self.read_vcf(f) for f in files]\n",
    "        return pd.concat(frames)\n",
    "    \n",
    "    def read_core_masks(self, bit_mask_files_dir: str) -> Dict[str, Dict[str, CoreBitMask]]:\n",
    "        files = [os.path.join(bit_mask_files_dir, f) for f in os.listdir(bit_mask_files_dir) if f.endswith('.fa')]\n",
    "        core_masks = {}\n",
    "        for file in files:\n",
    "            name = re.sub('\\.aligned\\.fa$', '', os.path.basename(file))\n",
    "            core_masks[name] = {}\n",
    "            for record in SeqIO.parse(file, 'fasta'):\n",
    "                if record.id not in core_masks[name]:\n",
    "                    core_masks[name][record.id] = CoreBitMask(sequence=record.seq)\n",
    "                    print(f'{name}:{record.id} -> {core_masks[name][record.id].core_proportion()}')\n",
    "                    \n",
    "        return core_masks\n",
    "\n",
    "directory = 'data/snps-vcf'\n",
    "files = [os.path.join(directory, f) for f in os.listdir('data/snps-vcf')]\n",
    "files = [f for f in files if f.endswith('.vcf')]\n",
    "\n",
    "vr = VariantsReader()\n",
    "core_masks = vr.read_core_masks('data/snps-aligned')\n",
    "df = vr.read_vcfs(files)\n",
    "df"
   ]
  },
  {
   "cell_type": "code",
   "execution_count": null,
   "metadata": {},
   "outputs": [],
   "source": [
    "import re\n",
    "\n",
    "sample_names = df.FILE.value_counts().index.tolist()\n",
    "sample_names = [re.sub('\\.filt\\.vcf$', '', n) for n in sample_names]\n",
    "sample_names"
   ]
  },
  {
   "cell_type": "markdown",
   "metadata": {},
   "source": [
    "# DB model"
   ]
  },
  {
   "cell_type": "code",
   "execution_count": null,
   "metadata": {},
   "outputs": [],
   "source": [
    "from typing import List, Any\n",
    "\n",
    "from sqlalchemy.ext.declarative import declarative_base\n",
    "from sqlalchemy.orm import relationship\n",
    "\n",
    "from bitarray import bitarray\n",
    "\n",
    "Base = declarative_base()\n",
    "Base\n",
    "\n",
    "from sqlalchemy import Column, Integer, String, Sequence, BigInteger, ForeignKey, Table, LargeBinary\n",
    "    \n",
    "association_table = Table('sample_variation_allele', Base.metadata,\n",
    "    Column('sample_id', Integer, ForeignKey('sample.id')),\n",
    "    Column('variantion_allele_id', String, ForeignKey('variation_allele.id')),\n",
    ")\n",
    "\n",
    "class VariationAllele(Base):\n",
    "    __tablename__ = 'variation_allele'\n",
    "    id = Column(String, primary_key=True)\n",
    "    sequence_id = Column(String, ForeignKey('reference_sequence.id'))\n",
    "    position = Column(Integer, primary_key=True)\n",
    "    ref = Column(String(255), primary_key=True)\n",
    "    alt = Column(String(255), primary_key=True)\n",
    "    var_type = Column(String(255))\n",
    "    \n",
    "    samples = relationship('Sample', secondary=association_table, back_populates='variants')\n",
    "    sequence = relationship('ReferenceSequence', back_populates='variants')\n",
    "    \n",
    "    def __init__(self, sequence = None, position: int = -1, ref: str = None, alt: str = None,\n",
    "                 var_type: str = None):\n",
    "        self.sequence = sequence\n",
    "        self.position = position\n",
    "        self.ref = ref\n",
    "        self.alt = alt\n",
    "        self.var_type = var_type\n",
    "        \n",
    "        self.id = self.to_spdi()\n",
    "    \n",
    "    def to_spdi(self):\n",
    "        return f'{self.sequence.sequence_name}:{self.position}:{self.ref}:{self.alt}'\n",
    "    \n",
    "    def __repr__(self):\n",
    "        return (f'<VariationAllele(sequence_name={self.sequence.sequence_name}'\n",
    "                f', position={self.position}, ref={self.ref}, alt={self.alt}, var_type={self.var_type})>')\n",
    "\n",
    "class Reference(Base):\n",
    "    __tablename__ = 'reference'\n",
    "    id = Column(Integer, primary_key=True)\n",
    "    name = Column(String(255))\n",
    "    length = Column(Integer)\n",
    "    sequences = relationship('ReferenceSequence')\n",
    "    \n",
    "    def __repr__(self):\n",
    "        return f'<Reference(id={self.id}, name={self.name}, length={self.length})>'\n",
    "    \n",
    "    \n",
    "class SampleSequence(Base):\n",
    "    __tablename__ = 'sample_sequence'\n",
    "    sample_id = Column(Integer, ForeignKey('sample.id'), primary_key=True)\n",
    "    sequence_id = Column(Integer, ForeignKey('reference_sequence.id'), primary_key=True)\n",
    "    core_mask = Column(LargeBinary)\n",
    "    flag = Column(String(255))\n",
    "    \n",
    "    sequence = relationship('ReferenceSequence', back_populates='sample_sequences')\n",
    "    sample = relationship('Sample', back_populates='sample_sequences')\n",
    "    \n",
    "    def get_core_mask(self):\n",
    "        if self.core_mask is None:\n",
    "            raise Exception('core_mask is not set')\n",
    "        else:\n",
    "            barray = bitarray()\n",
    "            barray.frombytes(self.core_mask)\n",
    "            \n",
    "            # Since I'm decoding a bitarray from bytes, the bytes must always be a multiple of 8\n",
    "            # But the sequence length can be a non-multiple of 8\n",
    "            # So I have to remove (slice) the few additional elements from this array that got added\n",
    "            # When decoding from bytes\n",
    "            barray = barray[:self.sequence.sequence_length]\n",
    "            return CoreBitMask(existing_bitmask=barray)\n",
    "        \n",
    "    def set_core_mask(self, core_mask: CoreBitMask) -> None:\n",
    "        if core_mask is None:\n",
    "            raise Exception('Cannot set core_mask to None')\n",
    "        else:\n",
    "            self.core_mask = core_mask.get_bytes()\n",
    "    \n",
    "    def __repr__(self):\n",
    "        return f'<SampleSequence(sample_id={self.sample_id}, sequence_id={self.sequence_id}, flag={self.flag})>'\n",
    "    \n",
    "    \n",
    "class ReferenceSequence(Base):\n",
    "    __tablename__ = 'reference_sequence'\n",
    "    id = Column(Integer, primary_key=True)\n",
    "    reference_id = Column(Integer, ForeignKey('reference.id'))\n",
    "    sequence_name = Column(String(255))\n",
    "    sequence_length = Column(Integer)\n",
    "    \n",
    "    variants = relationship('VariationAllele', back_populates='sequence')\n",
    "    sample_sequences = relationship('SampleSequence', back_populates='sequence')\n",
    "    \n",
    "    def __repr__(self):\n",
    "        return (f'<ReferenceSequence(id={self.id}, sequence_name={self.sequence_name},'\n",
    "                f'sequence_length={self.sequence_length}, reference_id={self.reference_id})>')\n",
    "    \n",
    "    \n",
    "class Sample(Base):\n",
    "    __tablename__ = 'sample'\n",
    "    id = Column(Integer, primary_key=True)\n",
    "    name = Column(String(255))\n",
    "    \n",
    "    variants = relationship('VariationAllele', secondary=association_table, back_populates='samples')\n",
    "    sample_sequences = relationship('SampleSequence', back_populates='sample')\n",
    "    \n",
    "    def __repr__(self):\n",
    "        return f'<Sample(id={self.id}, name={self.name})>'"
   ]
  },
  {
   "cell_type": "markdown",
   "metadata": {},
   "source": [
    "# Create some data"
   ]
  },
  {
   "cell_type": "code",
   "execution_count": null,
   "metadata": {},
   "outputs": [],
   "source": [
    "from Bio import SeqIO\n",
    "\n",
    "ref_name = '2011C-3609.fasta'\n",
    "ref_length = 0\n",
    "ref_contigs = {}\n",
    "for record in SeqIO.parse(f\"reference/{ref_name}\", \"fasta\"):\n",
    "    ref_contigs[record.id] = ReferenceSequence(sequence_name=record.id, sequence_length=len(record.seq))\n",
    "    ref_length += len(record.seq)\n",
    "\n",
    "reference = Reference(name = ref_name, length = ref_length, sequences=list(ref_contigs.values()))\n",
    "ref_contigs"
   ]
  },
  {
   "cell_type": "code",
   "execution_count": null,
   "metadata": {},
   "outputs": [],
   "source": [
    "from typing import Dict, List\n",
    "import logging\n",
    "import pandas as pd\n",
    "import re\n",
    "\n",
    "logger = logging.getLogger('VariationService')\n",
    "logger.setLevel(logging.DEBUG)\n",
    "#logging.basicConfig(level=logging.DEBUG)\n",
    "\n",
    "class VariationService:\n",
    "    \n",
    "    def __init__(self, session):\n",
    "        self._session = session\n",
    "        \n",
    "    def _create_file_variants(self, var_df: pd.DataFrame, ref_contigs: Dict[str, ReferenceSequence]) -> Dict[str, List[VariationAllele]]:\n",
    "        variant_table = {}\n",
    "        file_variants = {}\n",
    "        sample_sequences = {}\n",
    "        for row in var_df.iterrows():\n",
    "            sample_name = re.sub('\\.filt\\.vcf$', '', row[1]['FILE'])\n",
    "\n",
    "            ref_contig = ref_contigs[row[1]['CHROM']]\n",
    "            variant = VariationAllele(sequence=ref_contig, position=row[1]['POS'],\n",
    "                                     ref=row[1]['REF'], alt=row[1]['ALT'], var_type=row[1]['TYPE'])\n",
    "            if variant.id not in variant_table:\n",
    "                variant_table[variant.id] = variant\n",
    "            else:    \n",
    "                variant = variant_table[variant.id]\n",
    "\n",
    "            if sample_name not in file_variants:\n",
    "                file_variants[sample_name] = []\n",
    "\n",
    "            file_variants[sample_name].append(variant)\n",
    "\n",
    "        return file_variants\n",
    "    \n",
    "    def insert_variants(self, var_df: pd.DataFrame, ref_contigs: Dict[str, ReferenceSequence],\n",
    "                       core_masks: Dict[str, Dict[str, CoreBitMask]]) -> None:\n",
    "        file_variants = self._create_file_variants(var_df, ref_contigs)\n",
    "        \n",
    "        for s in file_variants:\n",
    "            ref_objects = {ref_contigs[v.sequence.sequence_name] for v in file_variants[s]}\n",
    "            sample_core_masks = core_masks[s]\n",
    "            sample_sequences = []\n",
    "            for r in ref_objects:\n",
    "                sample_sequence = SampleSequence(sequence=r)\n",
    "                sample_sequence.set_core_mask(sample_core_masks[r.sequence_name])\n",
    "                sample_sequences.append(sample_sequence)\n",
    "            sample = Sample(name=s, variants=file_variants[s], sample_sequences=sample_sequences)\n",
    "            self._session.add(sample)\n",
    "            \n",
    "        self._session.commit()\n",
    "        \n",
    "    def pairwise_distance(self, samples: List[str], var_type = 'all', distance_type = 'jaccard') -> pd.DataFrame:\n",
    "        sample_objs = self._session.query(Sample).filter(Sample.name.in_(samples)).all()\n",
    "        \n",
    "        if var_type == 'all':\n",
    "            sample_variants = {s.name: {v.to_spdi() for v in s.variants} for s in sample_objs}\n",
    "        else:\n",
    "            sample_variants = {s.name: {v.to_spdi() for v in s.variants if v.var_type == var_type} for s in sample_objs}\n",
    "        \n",
    "        names = sample_variants.keys()\n",
    "        distances = []\n",
    "        for name1 in names:\n",
    "            row = []\n",
    "            for name2 in names:\n",
    "                if name1 == name2:\n",
    "                    row.append(0)\n",
    "                else:\n",
    "                    if distance_type == 'jaccard':\n",
    "                        logger.debug(f'variants1=[{sample_variants[name1]}]')\n",
    "                        logger.debug(f'variants2=[{sample_variants[name2]}]')\n",
    "                        intersection = sample_variants[name1].intersection(sample_variants[name2])\n",
    "                        union = sample_variants[name1].union(sample_variants[name2])\n",
    "                        \n",
    "#                         print(f'unique_variants1=[{sample_variants[name1] - sample_variants[name2]}]')\n",
    "#                         print(f'unique_variants2=[{sample_variants[name2] - sample_variants[name1]}]')\n",
    "                        \n",
    "                        row.append(1 - (len(intersection)/len(union)))\n",
    "                    else:\n",
    "                        raise Exception(f'Unsupported distance_type=[{distance_type}]')\n",
    "            distances.append(row)\n",
    "            \n",
    "        return pd.DataFrame(distances, columns=names, index=names)"
   ]
  },
  {
   "cell_type": "markdown",
   "metadata": {},
   "source": [
    "# Insert into database"
   ]
  },
  {
   "cell_type": "code",
   "execution_count": null,
   "metadata": {},
   "outputs": [],
   "source": [
    "from sqlalchemy import create_engine\n",
    "from sqlalchemy.orm import sessionmaker\n",
    "\n",
    "engine = create_engine('sqlite:///:memory:', echo=True)\n",
    "\n",
    "Session = sessionmaker(bind=engine)\n",
    "session = Session()\n",
    "session\n",
    "\n",
    "Base.metadata.create_all(engine)"
   ]
  },
  {
   "cell_type": "code",
   "execution_count": null,
   "metadata": {},
   "outputs": [],
   "source": [
    "session.add(reference)\n",
    "session.commit()"
   ]
  },
  {
   "cell_type": "code",
   "execution_count": null,
   "metadata": {},
   "outputs": [],
   "source": [
    "ref = session.query(Reference).filter_by(id = 1).first()\n",
    "ref_contigs = {c.sequence_name: c for c in ref.sequences}\n",
    "ref_contigs"
   ]
  },
  {
   "cell_type": "code",
   "execution_count": null,
   "metadata": {},
   "outputs": [],
   "source": [
    "dfs = df[(df['FILE'] == '2014C-3857.filt.vcf') | (df['FILE'] == '2014C-3600.filt.vcf')]\n",
    "dfs"
   ]
  },
  {
   "cell_type": "code",
   "execution_count": null,
   "metadata": {},
   "outputs": [],
   "source": [
    "variation_service = VariationService(session)\n",
    "\n",
    "variation_service.insert_variants(dfs, ref_contigs, core_masks)"
   ]
  },
  {
   "cell_type": "code",
   "execution_count": null,
   "metadata": {},
   "outputs": [],
   "source": [
    "s = session.query(Sample).first()\n",
    "s"
   ]
  },
  {
   "cell_type": "code",
   "execution_count": null,
   "metadata": {},
   "outputs": [],
   "source": [
    "s.sample_sequences[1].get_core_mask().core_proportion()"
   ]
  },
  {
   "cell_type": "code",
   "execution_count": null,
   "metadata": {},
   "outputs": [],
   "source": [
    "variation_service.pairwise_distance(['2014C-3857', '2014C-3600'], var_type='snp')\n",
    "#variation_service.pairwise_distance(sample_names, var_type='snp')"
   ]
  },
  {
   "cell_type": "code",
   "execution_count": null,
   "metadata": {},
   "outputs": [],
   "source": [
    "v = session.query(VariationAllele).filter_by(position = 16854).all()\n",
    "v"
   ]
  },
  {
   "cell_type": "code",
   "execution_count": null,
   "metadata": {},
   "outputs": [],
   "source": [
    "v[0].sequence"
   ]
  },
  {
   "cell_type": "code",
   "execution_count": null,
   "metadata": {},
   "outputs": [],
   "source": [
    "r = session.query(ReferenceSequence).filter_by(sequence_name = 'JASV01000003.1').first()\n",
    "r"
   ]
  },
  {
   "cell_type": "code",
   "execution_count": null,
   "metadata": {},
   "outputs": [],
   "source": [
    "r.variants"
   ]
  },
  {
   "cell_type": "code",
   "execution_count": null,
   "metadata": {},
   "outputs": [],
   "source": [
    "s = session.query(Sample).filter_by(name='2014C-3857').first()\n",
    "s"
   ]
  },
  {
   "cell_type": "code",
   "execution_count": null,
   "metadata": {},
   "outputs": [],
   "source": [
    "s.sample_sequences"
   ]
  },
  {
   "cell_type": "code",
   "execution_count": null,
   "metadata": {},
   "outputs": [],
   "source": [
    "s.variants[0].id"
   ]
  },
  {
   "cell_type": "code",
   "execution_count": null,
   "metadata": {},
   "outputs": [],
   "source": [
    "v = session.query(VariationAllele).filter_by(id='JASV01000001.1:16854:T:C').first()\n",
    "v.samples"
   ]
  },
  {
   "cell_type": "code",
   "execution_count": null,
   "metadata": {},
   "outputs": [],
   "source": [
    "ss = session.query(SampleSequence).first()\n",
    "ss"
   ]
  },
  {
   "cell_type": "code",
   "execution_count": null,
   "metadata": {},
   "outputs": [],
   "source": [
    "ss.get_core_mask().core_length()"
   ]
  },
  {
   "cell_type": "code",
   "execution_count": null,
   "metadata": {},
   "outputs": [],
   "source": [
    "ss.get_core_mask().core_proportion()"
   ]
  },
  {
   "cell_type": "code",
   "execution_count": null,
   "metadata": {},
   "outputs": [],
   "source": [
    "print(ss.sequence)\n",
    "print(ss.sample)"
   ]
  },
  {
   "cell_type": "code",
   "execution_count": null,
   "metadata": {},
   "outputs": [],
   "source": [
    "len(ss.get_core_mask())"
   ]
  },
  {
   "cell_type": "markdown",
   "metadata": {},
   "source": [
    "# References"
   ]
  },
  {
   "cell_type": "code",
   "execution_count": null,
   "metadata": {},
   "outputs": [],
   "source": [
    "from biocommons.seqrepo import SeqRepo\n",
    "import ga4gh.vrs.dataproxy as dataproxy\n",
    "\n",
    "sr = SeqRepo(\"data/references\")\n",
    "ref_proxy = dataproxy.SeqRepoDataProxy(sr)\n",
    "ref_proxy.get_sequence('NCBI:JASV01000002.1', 0, 10)"
   ]
  },
  {
   "cell_type": "markdown",
   "metadata": {},
   "source": [
    "# Construct alignment"
   ]
  },
  {
   "cell_type": "code",
   "execution_count": null,
   "metadata": {},
   "outputs": [],
   "source": [
    "reference = session.query(Reference).first()\n",
    "reference"
   ]
  },
  {
   "cell_type": "code",
   "execution_count": null,
   "metadata": {},
   "outputs": [],
   "source": [
    "sequence = reference.sequences[0]\n",
    "sequence.sequence_name"
   ]
  },
  {
   "cell_type": "code",
   "execution_count": null,
   "metadata": {},
   "outputs": [],
   "source": [
    "sample_sequences = session.query(SampleSequence).filter(SampleSequence.sequence_id == sequence.id).all()\n",
    "sample_sequences"
   ]
  },
  {
   "cell_type": "code",
   "execution_count": null,
   "metadata": {},
   "outputs": [],
   "source": [
    "sample_sequences[0].sample"
   ]
  },
  {
   "cell_type": "code",
   "execution_count": null,
   "metadata": {},
   "outputs": [],
   "source": [
    "session.query()"
   ]
  },
  {
   "cell_type": "code",
   "execution_count": null,
   "metadata": {},
   "outputs": [],
   "source": [
    "reference.sequences[1].variants"
   ]
  },
  {
   "cell_type": "code",
   "execution_count": null,
   "metadata": {},
   "outputs": [],
   "source": [
    "samples = [session.query(Sample).first()]\n",
    "samples"
   ]
  },
  {
   "cell_type": "code",
   "execution_count": null,
   "metadata": {},
   "outputs": [],
   "source": [
    "samples[0].variants[0].sequence"
   ]
  },
  {
   "cell_type": "code",
   "execution_count": null,
   "metadata": {},
   "outputs": [],
   "source": [
    "for sample in samples:\n",
    "    for variant in sample.variants:\n",
    "        "
   ]
  },
  {
   "cell_type": "code",
   "execution_count": null,
   "metadata": {},
   "outputs": [],
   "source": [
    "samples[0].variants"
   ]
  },
  {
   "cell_type": "code",
   "execution_count": null,
   "metadata": {},
   "outputs": [],
   "source": [
    "import Bio\n",
    "import pandas as pd\n",
    "import ga4gh.vrs.dataproxy as dataproxy\n",
    "import sqlalchemy\n",
    "\n",
    "class CoreAlignmentConstructor:\n",
    "    \n",
    "    def __init__(self, session: sqlalchemy.orm.session.Session, reference_data_proxy: dataproxy.SeqRepoDataProxy):\n",
    "        self._session = session\n",
    "        self._ref_proxy = reference_data_proxy\n",
    "        \n",
    "    def construct_alignment(self, reference_seq: ReferenceSequence, samples: List[Sample], include_reference: bool = True) -> Bio.Align.MultipleSeqAlignment:\n",
    "        file_seqs = {}\n",
    "        chrom_alignments = {}\n",
    "        all_files = set(variants_df['FILE'])\n",
    "        for chrom in set(variants_df['CHROM']):\n",
    "            seq = Bio.Seq.Seq(self._ref_proxy.get_sequence(f'NCBI:{chrom}'))\n",
    "            df_chrom = variants_df[variants_df['CHROM'] == chrom]\n",
    "            positions = list(set(df_chrom['POS']))\n",
    "            positions.sort()\n",
    "            for pos in positions:\n",
    "                ref = seq[pos-1:pos]\n",
    "\n",
    "                # if in core\n",
    "                if self._core_masks[chrom][pos]:\n",
    "                    df_pos = df_chrom[df_chrom['POS'] == pos]\n",
    "                    for file in all_files:\n",
    "                        if chrom not in file_seqs:\n",
    "                            file_seqs[chrom] = {}\n",
    "                        if file not in file_seqs[chrom]:\n",
    "                            file_seqs[chrom][file] = Bio.Seq.Seq(data='')\n",
    "\n",
    "                        if file in set(df_pos['FILE']):\n",
    "                            df_file = df_pos[df_pos['FILE'] == file]\n",
    "                            alt = str(df_file['ALT'].values[0])\n",
    "                            ref_file = str(df_file['REF'].values[0])\n",
    "\n",
    "                            if ref_file != ref:\n",
    "                                raise Exception(f'Error: reference from VCF [{ref_file}] != reference from genome [{ref}] for {chrom}:{pos}:{file}')\n",
    "\n",
    "                            file_seqs[chrom][file] += alt\n",
    "                        else:\n",
    "                            file_seqs[chrom][file] += ref\n",
    "\n",
    "                    if include_reference:\n",
    "                        # Add the reference sequence in\n",
    "                        if 'reference' not in file_seqs[chrom]:\n",
    "                            file_seqs[chrom]['reference'] = Bio.Seq.Seq(data='')\n",
    "\n",
    "                        file_seqs[chrom]['reference'] += ref\n",
    "\n",
    "        for chrom in file_seqs:\n",
    "            chrom_records = [Bio.SeqRecord.SeqRecord(file_seqs[chrom][file], id=file) for file in file_seqs[chrom]]\n",
    "            chrom_alignments[chrom] = Bio.Align.MultipleSeqAlignment(chrom_records)\n",
    "                \n",
    "        chroms = sorted(chrom_alignments.keys())\n",
    "        chr1 = chroms.pop()\n",
    "        core_snv_align = chrom_alignments[chr1]\n",
    "\n",
    "        for chrom in chroms:\n",
    "            core_snv_align += chrom_alignments[chrom]\n",
    "                \n",
    "        return core_snv_align\n",
    "        \n",
    "align_constructor = CoreAlignmentConstructor(session, ref_proxy)\n",
    "alignment = align_constructor.construct_alignment(df[df['TYPE'] == 'snp'])\n",
    "print(alignment)"
   ]
  },
  {
   "cell_type": "code",
   "execution_count": null,
   "metadata": {},
   "outputs": [],
   "source": []
  },
  {
   "cell_type": "code",
   "execution_count": null,
   "metadata": {},
   "outputs": [],
   "source": []
  },
  {
   "cell_type": "code",
   "execution_count": null,
   "metadata": {},
   "outputs": [],
   "source": []
  }
 ],
 "metadata": {
  "kernelspec": {
   "display_name": "Python 3",
   "language": "python",
   "name": "python3"
  },
  "language_info": {
   "codemirror_mode": {
    "name": "ipython",
    "version": 3
   },
   "file_extension": ".py",
   "mimetype": "text/x-python",
   "name": "python",
   "nbconvert_exporter": "python",
   "pygments_lexer": "ipython3",
   "version": "3.8.6"
  }
 },
 "nbformat": 4,
 "nbformat_minor": 4
}
