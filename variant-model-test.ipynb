{
 "cells": [
  {
   "cell_type": "markdown",
   "metadata": {},
   "source": [
    "# Variants"
   ]
  },
  {
   "cell_type": "code",
   "execution_count": 1,
   "metadata": {},
   "outputs": [
    {
     "data": {
      "text/html": [
       "<div>\n",
       "<style scoped>\n",
       "    .dataframe tbody tr th:only-of-type {\n",
       "        vertical-align: middle;\n",
       "    }\n",
       "\n",
       "    .dataframe tbody tr th {\n",
       "        vertical-align: top;\n",
       "    }\n",
       "\n",
       "    .dataframe thead th {\n",
       "        text-align: right;\n",
       "    }\n",
       "</style>\n",
       "<table border=\"1\" class=\"dataframe\">\n",
       "  <thead>\n",
       "    <tr style=\"text-align: right;\">\n",
       "      <th></th>\n",
       "      <th>FILE</th>\n",
       "      <th>CHROM</th>\n",
       "      <th>POS</th>\n",
       "      <th>REF</th>\n",
       "      <th>ALT</th>\n",
       "      <th>DP</th>\n",
       "      <th>QUAL</th>\n",
       "      <th>RO</th>\n",
       "      <th>AO</th>\n",
       "      <th>TYPE</th>\n",
       "    </tr>\n",
       "  </thead>\n",
       "  <tbody>\n",
       "    <tr>\n",
       "      <th>0</th>\n",
       "      <td>2014C-3857.filt.vcf</td>\n",
       "      <td>JASV01000001.1</td>\n",
       "      <td>16854</td>\n",
       "      <td>T</td>\n",
       "      <td>C</td>\n",
       "      <td>38</td>\n",
       "      <td>1175.580</td>\n",
       "      <td>0</td>\n",
       "      <td>38</td>\n",
       "      <td>snp</td>\n",
       "    </tr>\n",
       "    <tr>\n",
       "      <th>1</th>\n",
       "      <td>2014C-3857.filt.vcf</td>\n",
       "      <td>JASV01000001.1</td>\n",
       "      <td>16871</td>\n",
       "      <td>C</td>\n",
       "      <td>C</td>\n",
       "      <td>29</td>\n",
       "      <td>832.403</td>\n",
       "      <td>0</td>\n",
       "      <td>28</td>\n",
       "      <td>del</td>\n",
       "    </tr>\n",
       "    <tr>\n",
       "      <th>2</th>\n",
       "      <td>2014C-3857.filt.vcf</td>\n",
       "      <td>JASV01000001.1</td>\n",
       "      <td>16897</td>\n",
       "      <td>G</td>\n",
       "      <td>C</td>\n",
       "      <td>25</td>\n",
       "      <td>735.848</td>\n",
       "      <td>0</td>\n",
       "      <td>25</td>\n",
       "      <td>snp</td>\n",
       "    </tr>\n",
       "    <tr>\n",
       "      <th>3</th>\n",
       "      <td>2014C-3857.filt.vcf</td>\n",
       "      <td>JASV01000001.1</td>\n",
       "      <td>17327</td>\n",
       "      <td>T</td>\n",
       "      <td>TA</td>\n",
       "      <td>11</td>\n",
       "      <td>258.368</td>\n",
       "      <td>0</td>\n",
       "      <td>11</td>\n",
       "      <td>ins</td>\n",
       "    </tr>\n",
       "    <tr>\n",
       "      <th>4</th>\n",
       "      <td>2014C-3857.filt.vcf</td>\n",
       "      <td>JASV01000001.1</td>\n",
       "      <td>17335</td>\n",
       "      <td>G</td>\n",
       "      <td>G</td>\n",
       "      <td>13</td>\n",
       "      <td>292.065</td>\n",
       "      <td>0</td>\n",
       "      <td>13</td>\n",
       "      <td>del</td>\n",
       "    </tr>\n",
       "    <tr>\n",
       "      <th>...</th>\n",
       "      <td>...</td>\n",
       "      <td>...</td>\n",
       "      <td>...</td>\n",
       "      <td>...</td>\n",
       "      <td>...</td>\n",
       "      <td>...</td>\n",
       "      <td>...</td>\n",
       "      <td>...</td>\n",
       "      <td>...</td>\n",
       "      <td>...</td>\n",
       "    </tr>\n",
       "    <tr>\n",
       "      <th>125</th>\n",
       "      <td>2014C-3600.filt.vcf</td>\n",
       "      <td>JASV01000007.1</td>\n",
       "      <td>767386</td>\n",
       "      <td>A</td>\n",
       "      <td>G</td>\n",
       "      <td>87</td>\n",
       "      <td>2684.540</td>\n",
       "      <td>0</td>\n",
       "      <td>87</td>\n",
       "      <td>snp</td>\n",
       "    </tr>\n",
       "    <tr>\n",
       "      <th>126</th>\n",
       "      <td>2014C-3600.filt.vcf</td>\n",
       "      <td>JASV01000007.1</td>\n",
       "      <td>890046</td>\n",
       "      <td>T</td>\n",
       "      <td>C</td>\n",
       "      <td>96</td>\n",
       "      <td>3115.580</td>\n",
       "      <td>0</td>\n",
       "      <td>96</td>\n",
       "      <td>snp</td>\n",
       "    </tr>\n",
       "    <tr>\n",
       "      <th>127</th>\n",
       "      <td>2014C-3600.filt.vcf</td>\n",
       "      <td>JASV01000007.1</td>\n",
       "      <td>958303</td>\n",
       "      <td>T</td>\n",
       "      <td>G</td>\n",
       "      <td>93</td>\n",
       "      <td>3115.200</td>\n",
       "      <td>0</td>\n",
       "      <td>93</td>\n",
       "      <td>snp</td>\n",
       "    </tr>\n",
       "    <tr>\n",
       "      <th>128</th>\n",
       "      <td>2014C-3600.filt.vcf</td>\n",
       "      <td>JASV01000007.1</td>\n",
       "      <td>963356</td>\n",
       "      <td>A</td>\n",
       "      <td>G</td>\n",
       "      <td>23</td>\n",
       "      <td>692.768</td>\n",
       "      <td>0</td>\n",
       "      <td>23</td>\n",
       "      <td>snp</td>\n",
       "    </tr>\n",
       "    <tr>\n",
       "      <th>129</th>\n",
       "      <td>2014C-3600.filt.vcf</td>\n",
       "      <td>JASV01000007.1</td>\n",
       "      <td>1014501</td>\n",
       "      <td>A</td>\n",
       "      <td>G</td>\n",
       "      <td>148</td>\n",
       "      <td>4451.050</td>\n",
       "      <td>1</td>\n",
       "      <td>145</td>\n",
       "      <td>snp</td>\n",
       "    </tr>\n",
       "  </tbody>\n",
       "</table>\n",
       "<p>1353 rows × 10 columns</p>\n",
       "</div>"
      ],
      "text/plain": [
       "                    FILE           CHROM      POS REF ALT   DP      QUAL  RO  \\\n",
       "0    2014C-3857.filt.vcf  JASV01000001.1    16854   T   C   38  1175.580   0   \n",
       "1    2014C-3857.filt.vcf  JASV01000001.1    16871   C   C   29   832.403   0   \n",
       "2    2014C-3857.filt.vcf  JASV01000001.1    16897   G   C   25   735.848   0   \n",
       "3    2014C-3857.filt.vcf  JASV01000001.1    17327   T  TA   11   258.368   0   \n",
       "4    2014C-3857.filt.vcf  JASV01000001.1    17335   G   G   13   292.065   0   \n",
       "..                   ...             ...      ...  ..  ..  ...       ...  ..   \n",
       "125  2014C-3600.filt.vcf  JASV01000007.1   767386   A   G   87  2684.540   0   \n",
       "126  2014C-3600.filt.vcf  JASV01000007.1   890046   T   C   96  3115.580   0   \n",
       "127  2014C-3600.filt.vcf  JASV01000007.1   958303   T   G   93  3115.200   0   \n",
       "128  2014C-3600.filt.vcf  JASV01000007.1   963356   A   G   23   692.768   0   \n",
       "129  2014C-3600.filt.vcf  JASV01000007.1  1014501   A   G  148  4451.050   1   \n",
       "\n",
       "      AO TYPE  \n",
       "0     38  snp  \n",
       "1     28  del  \n",
       "2     25  snp  \n",
       "3     11  ins  \n",
       "4     13  del  \n",
       "..   ...  ...  \n",
       "125   87  snp  \n",
       "126   96  snp  \n",
       "127   93  snp  \n",
       "128   23  snp  \n",
       "129  145  snp  \n",
       "\n",
       "[1353 rows x 10 columns]"
      ]
     },
     "execution_count": 1,
     "metadata": {},
     "output_type": "execute_result"
    }
   ],
   "source": [
    "from typing import List\n",
    "import vcf\n",
    "import pandas as pd\n",
    "import re\n",
    "import os\n",
    "\n",
    "class VariantsReader:\n",
    "    \n",
    "    def __init__(self):\n",
    "        pass\n",
    "\n",
    "    def read_vcf(self, file: str) -> pd.DataFrame:\n",
    "        reader = vcf.Reader(open(file, 'r'))\n",
    "        df = pd.DataFrame([vars(r) for r in reader])\n",
    "        out = df.merge(pd.DataFrame(df.INFO.tolist()),\n",
    "                       left_index=True, right_index=True)\n",
    "        out = out[['CHROM', 'POS', 'REF', 'ALT', 'DP', 'QUAL', 'RO', 'AO', 'INFO']]\n",
    "        out['TYPE'] = out['INFO'].map(lambda x: x['TYPE'][0])\n",
    "        out = out.drop('INFO', axis='columns')\n",
    "        out['ALT'] = out['ALT'].map(lambda x: str(x[0]))\n",
    "        out['REF'] = out['REF'].map(lambda x: str(x[0]))\n",
    "        out['AO'] = out['AO'].map(lambda x: x[0])\n",
    "        cols = out.columns.tolist()\n",
    "        out['FILE'] = os.path.basename(file)\n",
    "        out = out.reindex(columns=['FILE'] + cols)\n",
    "        return out\n",
    "\n",
    "    def read_vcfs(self, files: List[str]) -> pd.DataFrame:\n",
    "        frames = [self.read_vcf(f) for f in files]\n",
    "        return pd.concat(frames)\n",
    "\n",
    "directory = 'data/snps-vcf'\n",
    "files = [os.path.join(directory, f) for f in os.listdir('data/snps-vcf')]\n",
    "files = [f for f in files if f.endswith('.vcf')]\n",
    "\n",
    "vr = VariantsReader()\n",
    "df = vr.read_vcfs(files)\n",
    "df"
   ]
  },
  {
   "cell_type": "markdown",
   "metadata": {},
   "source": [
    "# DB model"
   ]
  },
  {
   "cell_type": "code",
   "execution_count": 2,
   "metadata": {},
   "outputs": [],
   "source": [
    "from sqlalchemy.ext.declarative import declarative_base\n",
    "from sqlalchemy.orm import relationship\n",
    "\n",
    "Base = declarative_base()\n",
    "Base\n",
    "\n",
    "from sqlalchemy import Column, Integer, String, Sequence, BigInteger, ForeignKey, Table\n",
    "    \n",
    "association_table = Table('sample_variation_allele', Base.metadata,\n",
    "    Column('sample_id', Integer, ForeignKey('sample.id')),\n",
    "    Column('variantion_allele_id', String, ForeignKey('variation_allele.id')),\n",
    ")\n",
    "\n",
    "class VariationAllele(Base):\n",
    "    __tablename__ = 'variation_allele'\n",
    "    id = Column(String, primary_key=True)\n",
    "    sequence_name = Column(String, ForeignKey('reference_sequence.id'))\n",
    "    position = Column(Integer, primary_key=True)\n",
    "    ref = Column(String(255), primary_key=True)\n",
    "    alt = Column(String(255), primary_key=True)\n",
    "    var_type = Column(String(255))\n",
    "    \n",
    "    samples = relationship('Sample', secondary=association_table)\n",
    "    \n",
    "    def __init__(self, sequence_name: str, position: int, ref: str, alt: str, var_type: str):\n",
    "        self.sequence_name = sequence_name\n",
    "        self.position = position\n",
    "        self.ref = ref\n",
    "        self.alt = alt\n",
    "        self.var_type = var_type\n",
    "        \n",
    "        self.id = self.to_spdi()\n",
    "    \n",
    "    def to_spdi(self):\n",
    "        return f'{self.sequence_name}:{self.position}:{self.ref}:{self.alt}'\n",
    "    \n",
    "    def __repr__(self):\n",
    "        return (f'<VariationAllele(sequence_name={self.sequence_name}'\n",
    "                f', position={self.position}, ref={self.ref}, alt={self.alt}, var_type={self.var_type})>')\n",
    "\n",
    "class Reference(Base):\n",
    "    __tablename__ = 'reference'\n",
    "    id = Column(Integer, primary_key=True)\n",
    "    name = Column(String(255))\n",
    "    length = Column(Integer)\n",
    "    sequences = relationship('ReferenceSequence')\n",
    "    \n",
    "    def __repr__(self):\n",
    "        return f'<Reference(id={self.id}, name={self.name}, length={self.length})>'\n",
    "    \n",
    "    \n",
    "class ReferenceSequence(Base):\n",
    "    __tablename__ = 'reference_sequence'\n",
    "    id = Column(Integer, primary_key=True)\n",
    "    reference_id = Column(Integer, ForeignKey('reference.id'))\n",
    "    sequence_name = Column(String(255))\n",
    "#     variants = relationship('VariationAllele', back_populates='sequence_name')\n",
    "    \n",
    "    def __repr__(self):\n",
    "        return f'<ReferenceSequence(id={self.id}, sequence_name={self.sequence_name}, reference_id={self.reference_id})>'\n",
    "    \n",
    "class Sample(Base):\n",
    "    __tablename__ = 'sample'\n",
    "    id = Column(Integer, primary_key=True)\n",
    "    name = Column(String(255))\n",
    "    variants = relationship('VariationAllele', secondary=association_table)\n",
    "    \n",
    "    def __repr__(self):\n",
    "        return f'<Sample(id={self.id}, name={self.name})>'"
   ]
  },
  {
   "cell_type": "markdown",
   "metadata": {},
   "source": [
    "# Create some data"
   ]
  },
  {
   "cell_type": "code",
   "execution_count": 3,
   "metadata": {},
   "outputs": [
    {
     "data": {
      "text/plain": [
       "{'JASV01000001.1': <ReferenceSequence(id=None, sequence_name=JASV01000001.1, reference_id=None)>,\n",
       " 'JASV01000002.1': <ReferenceSequence(id=None, sequence_name=JASV01000002.1, reference_id=None)>,\n",
       " 'JASV01000003.1': <ReferenceSequence(id=None, sequence_name=JASV01000003.1, reference_id=None)>,\n",
       " 'JASV01000004.1': <ReferenceSequence(id=None, sequence_name=JASV01000004.1, reference_id=None)>,\n",
       " 'JASV01000005.1': <ReferenceSequence(id=None, sequence_name=JASV01000005.1, reference_id=None)>,\n",
       " 'JASV01000006.1': <ReferenceSequence(id=None, sequence_name=JASV01000006.1, reference_id=None)>,\n",
       " 'JASV01000007.1': <ReferenceSequence(id=None, sequence_name=JASV01000007.1, reference_id=None)>}"
      ]
     },
     "execution_count": 3,
     "metadata": {},
     "output_type": "execute_result"
    }
   ],
   "source": [
    "from Bio import SeqIO\n",
    "\n",
    "ref_name = '2011C-3609.fasta'\n",
    "ref_length = 0\n",
    "ref_contigs = {}\n",
    "for record in SeqIO.parse(f\"reference/{ref_name}\", \"fasta\"):\n",
    "    ref_contigs[record.id] = ReferenceSequence(sequence_name=record.id)\n",
    "    ref_length += len(record.seq)\n",
    "\n",
    "reference = Reference(name = ref_name, length = ref_length, sequences=list(ref_contigs.values()))\n",
    "ref_contigs"
   ]
  },
  {
   "cell_type": "markdown",
   "metadata": {},
   "source": [
    "# Insert into database"
   ]
  },
  {
   "cell_type": "code",
   "execution_count": 4,
   "metadata": {},
   "outputs": [
    {
     "name": "stdout",
     "output_type": "stream",
     "text": [
      "2020-12-22 02:13:16,631 INFO sqlalchemy.engine.base.Engine SELECT CAST('test plain returns' AS VARCHAR(60)) AS anon_1\n",
      "2020-12-22 02:13:16,632 INFO sqlalchemy.engine.base.Engine ()\n",
      "2020-12-22 02:13:16,633 INFO sqlalchemy.engine.base.Engine SELECT CAST('test unicode returns' AS VARCHAR(60)) AS anon_1\n",
      "2020-12-22 02:13:16,634 INFO sqlalchemy.engine.base.Engine ()\n",
      "2020-12-22 02:13:16,637 INFO sqlalchemy.engine.base.Engine PRAGMA main.table_info(\"sample_variation_allele\")\n",
      "2020-12-22 02:13:16,638 INFO sqlalchemy.engine.base.Engine ()\n",
      "2020-12-22 02:13:16,640 INFO sqlalchemy.engine.base.Engine PRAGMA temp.table_info(\"sample_variation_allele\")\n",
      "2020-12-22 02:13:16,642 INFO sqlalchemy.engine.base.Engine ()\n",
      "2020-12-22 02:13:16,644 INFO sqlalchemy.engine.base.Engine PRAGMA main.table_info(\"variation_allele\")\n",
      "2020-12-22 02:13:16,645 INFO sqlalchemy.engine.base.Engine ()\n",
      "2020-12-22 02:13:16,648 INFO sqlalchemy.engine.base.Engine PRAGMA temp.table_info(\"variation_allele\")\n",
      "2020-12-22 02:13:16,649 INFO sqlalchemy.engine.base.Engine ()\n",
      "2020-12-22 02:13:16,652 INFO sqlalchemy.engine.base.Engine PRAGMA main.table_info(\"reference\")\n",
      "2020-12-22 02:13:16,654 INFO sqlalchemy.engine.base.Engine ()\n",
      "2020-12-22 02:13:16,656 INFO sqlalchemy.engine.base.Engine PRAGMA temp.table_info(\"reference\")\n",
      "2020-12-22 02:13:16,657 INFO sqlalchemy.engine.base.Engine ()\n",
      "2020-12-22 02:13:16,660 INFO sqlalchemy.engine.base.Engine PRAGMA main.table_info(\"reference_sequence\")\n",
      "2020-12-22 02:13:16,662 INFO sqlalchemy.engine.base.Engine ()\n",
      "2020-12-22 02:13:16,663 INFO sqlalchemy.engine.base.Engine PRAGMA temp.table_info(\"reference_sequence\")\n",
      "2020-12-22 02:13:16,664 INFO sqlalchemy.engine.base.Engine ()\n",
      "2020-12-22 02:13:16,666 INFO sqlalchemy.engine.base.Engine PRAGMA main.table_info(\"sample\")\n",
      "2020-12-22 02:13:16,667 INFO sqlalchemy.engine.base.Engine ()\n",
      "2020-12-22 02:13:16,668 INFO sqlalchemy.engine.base.Engine PRAGMA temp.table_info(\"sample\")\n",
      "2020-12-22 02:13:16,670 INFO sqlalchemy.engine.base.Engine ()\n",
      "2020-12-22 02:13:16,675 INFO sqlalchemy.engine.base.Engine \n",
      "CREATE TABLE reference (\n",
      "\tid INTEGER NOT NULL, \n",
      "\tname VARCHAR(255), \n",
      "\tlength INTEGER, \n",
      "\tPRIMARY KEY (id)\n",
      ")\n",
      "\n",
      "\n",
      "2020-12-22 02:13:16,676 INFO sqlalchemy.engine.base.Engine ()\n",
      "2020-12-22 02:13:16,679 INFO sqlalchemy.engine.base.Engine COMMIT\n",
      "2020-12-22 02:13:16,681 INFO sqlalchemy.engine.base.Engine \n",
      "CREATE TABLE sample (\n",
      "\tid INTEGER NOT NULL, \n",
      "\tname VARCHAR(255), \n",
      "\tPRIMARY KEY (id)\n",
      ")\n",
      "\n",
      "\n",
      "2020-12-22 02:13:16,682 INFO sqlalchemy.engine.base.Engine ()\n",
      "2020-12-22 02:13:16,684 INFO sqlalchemy.engine.base.Engine COMMIT\n",
      "2020-12-22 02:13:16,687 INFO sqlalchemy.engine.base.Engine \n",
      "CREATE TABLE reference_sequence (\n",
      "\tid INTEGER NOT NULL, \n",
      "\treference_id INTEGER, \n",
      "\tsequence_name VARCHAR(255), \n",
      "\tPRIMARY KEY (id), \n",
      "\tFOREIGN KEY(reference_id) REFERENCES reference (id)\n",
      ")\n",
      "\n",
      "\n",
      "2020-12-22 02:13:16,689 INFO sqlalchemy.engine.base.Engine ()\n",
      "2020-12-22 02:13:16,692 INFO sqlalchemy.engine.base.Engine COMMIT\n",
      "2020-12-22 02:13:16,694 INFO sqlalchemy.engine.base.Engine \n",
      "CREATE TABLE variation_allele (\n",
      "\tid VARCHAR NOT NULL, \n",
      "\tsequence_name VARCHAR, \n",
      "\tposition INTEGER NOT NULL, \n",
      "\tref VARCHAR(255) NOT NULL, \n",
      "\talt VARCHAR(255) NOT NULL, \n",
      "\tvar_type VARCHAR(255), \n",
      "\tPRIMARY KEY (id, position, ref, alt), \n",
      "\tFOREIGN KEY(sequence_name) REFERENCES reference_sequence (id)\n",
      ")\n",
      "\n",
      "\n",
      "2020-12-22 02:13:16,695 INFO sqlalchemy.engine.base.Engine ()\n",
      "2020-12-22 02:13:16,697 INFO sqlalchemy.engine.base.Engine COMMIT\n",
      "2020-12-22 02:13:16,698 INFO sqlalchemy.engine.base.Engine \n",
      "CREATE TABLE sample_variation_allele (\n",
      "\tsample_id INTEGER, \n",
      "\tvariantion_allele_id VARCHAR, \n",
      "\tFOREIGN KEY(sample_id) REFERENCES sample (id), \n",
      "\tFOREIGN KEY(variantion_allele_id) REFERENCES variation_allele (id)\n",
      ")\n",
      "\n",
      "\n",
      "2020-12-22 02:13:16,698 INFO sqlalchemy.engine.base.Engine ()\n",
      "2020-12-22 02:13:16,700 INFO sqlalchemy.engine.base.Engine COMMIT\n"
     ]
    }
   ],
   "source": [
    "from sqlalchemy import create_engine\n",
    "from sqlalchemy.orm import sessionmaker\n",
    "\n",
    "engine = create_engine('sqlite:///:memory:', echo=True)\n",
    "\n",
    "Session = sessionmaker(bind=engine)\n",
    "session = Session()\n",
    "session\n",
    "\n",
    "Base.metadata.create_all(engine)"
   ]
  },
  {
   "cell_type": "code",
   "execution_count": 5,
   "metadata": {},
   "outputs": [
    {
     "name": "stdout",
     "output_type": "stream",
     "text": [
      "2020-12-22 02:13:17,214 INFO sqlalchemy.engine.base.Engine BEGIN (implicit)\n",
      "2020-12-22 02:13:17,216 INFO sqlalchemy.engine.base.Engine INSERT INTO reference (name, length) VALUES (?, ?)\n",
      "2020-12-22 02:13:17,219 INFO sqlalchemy.engine.base.Engine ('2011C-3609.fasta', 5412686)\n",
      "2020-12-22 02:13:17,224 INFO sqlalchemy.engine.base.Engine INSERT INTO reference_sequence (reference_id, sequence_name) VALUES (?, ?)\n",
      "2020-12-22 02:13:17,226 INFO sqlalchemy.engine.base.Engine (1, 'JASV01000001.1')\n",
      "2020-12-22 02:13:17,229 INFO sqlalchemy.engine.base.Engine INSERT INTO reference_sequence (reference_id, sequence_name) VALUES (?, ?)\n",
      "2020-12-22 02:13:17,232 INFO sqlalchemy.engine.base.Engine (1, 'JASV01000002.1')\n",
      "2020-12-22 02:13:17,234 INFO sqlalchemy.engine.base.Engine INSERT INTO reference_sequence (reference_id, sequence_name) VALUES (?, ?)\n",
      "2020-12-22 02:13:17,238 INFO sqlalchemy.engine.base.Engine (1, 'JASV01000003.1')\n",
      "2020-12-22 02:13:17,242 INFO sqlalchemy.engine.base.Engine INSERT INTO reference_sequence (reference_id, sequence_name) VALUES (?, ?)\n",
      "2020-12-22 02:13:17,244 INFO sqlalchemy.engine.base.Engine (1, 'JASV01000004.1')\n",
      "2020-12-22 02:13:17,252 INFO sqlalchemy.engine.base.Engine INSERT INTO reference_sequence (reference_id, sequence_name) VALUES (?, ?)\n",
      "2020-12-22 02:13:17,254 INFO sqlalchemy.engine.base.Engine (1, 'JASV01000005.1')\n",
      "2020-12-22 02:13:17,257 INFO sqlalchemy.engine.base.Engine INSERT INTO reference_sequence (reference_id, sequence_name) VALUES (?, ?)\n",
      "2020-12-22 02:13:17,259 INFO sqlalchemy.engine.base.Engine (1, 'JASV01000006.1')\n",
      "2020-12-22 02:13:17,263 INFO sqlalchemy.engine.base.Engine INSERT INTO reference_sequence (reference_id, sequence_name) VALUES (?, ?)\n",
      "2020-12-22 02:13:17,265 INFO sqlalchemy.engine.base.Engine (1, 'JASV01000007.1')\n",
      "2020-12-22 02:13:17,267 INFO sqlalchemy.engine.base.Engine COMMIT\n"
     ]
    }
   ],
   "source": [
    "session.add(reference)\n",
    "session.commit()"
   ]
  },
  {
   "cell_type": "code",
   "execution_count": 6,
   "metadata": {},
   "outputs": [
    {
     "name": "stdout",
     "output_type": "stream",
     "text": [
      "2020-12-22 02:13:17,751 INFO sqlalchemy.engine.base.Engine BEGIN (implicit)\n",
      "2020-12-22 02:13:17,756 INFO sqlalchemy.engine.base.Engine SELECT reference.id AS reference_id, reference.name AS reference_name, reference.length AS reference_length \n",
      "FROM reference \n",
      "WHERE reference.id = ?\n",
      " LIMIT ? OFFSET ?\n",
      "2020-12-22 02:13:17,759 INFO sqlalchemy.engine.base.Engine (1, 1, 0)\n",
      "2020-12-22 02:13:17,770 INFO sqlalchemy.engine.base.Engine SELECT reference_sequence.id AS reference_sequence_id, reference_sequence.reference_id AS reference_sequence_reference_id, reference_sequence.sequence_name AS reference_sequence_sequence_name \n",
      "FROM reference_sequence \n",
      "WHERE ? = reference_sequence.reference_id\n",
      "2020-12-22 02:13:17,773 INFO sqlalchemy.engine.base.Engine (1,)\n"
     ]
    },
    {
     "data": {
      "text/plain": [
       "{'JASV01000001.1': <ReferenceSequence(id=1, sequence_name=JASV01000001.1, reference_id=1)>,\n",
       " 'JASV01000002.1': <ReferenceSequence(id=2, sequence_name=JASV01000002.1, reference_id=1)>,\n",
       " 'JASV01000003.1': <ReferenceSequence(id=3, sequence_name=JASV01000003.1, reference_id=1)>,\n",
       " 'JASV01000004.1': <ReferenceSequence(id=4, sequence_name=JASV01000004.1, reference_id=1)>,\n",
       " 'JASV01000005.1': <ReferenceSequence(id=5, sequence_name=JASV01000005.1, reference_id=1)>,\n",
       " 'JASV01000006.1': <ReferenceSequence(id=6, sequence_name=JASV01000006.1, reference_id=1)>,\n",
       " 'JASV01000007.1': <ReferenceSequence(id=7, sequence_name=JASV01000007.1, reference_id=1)>}"
      ]
     },
     "execution_count": 6,
     "metadata": {},
     "output_type": "execute_result"
    }
   ],
   "source": [
    "ref = session.query(Reference).filter_by(id = 1).first()\n",
    "ref_contigs = {c.sequence_name: c for c in ref.sequences}\n",
    "ref_contigs"
   ]
  },
  {
   "cell_type": "code",
   "execution_count": 7,
   "metadata": {},
   "outputs": [
    {
     "data": {
      "text/plain": [
       "dict_keys(['2014C-3857', '2014C-3655', '2014C-3598', '2014C-3840', '2014C-3599', '2014C-3907', '2014C-3656', '2014C-3850', '2014C-3600'])"
      ]
     },
     "execution_count": 7,
     "metadata": {},
     "output_type": "execute_result"
    }
   ],
   "source": [
    "import re\n",
    "\n",
    "df2 = df.copy()\n",
    "variant_table = {}\n",
    "file_variants = {}\n",
    "for row in df2.iterrows():\n",
    "    sample_name = re.sub('\\.filt\\.vcf$', '', row[1]['FILE'])\n",
    "    \n",
    "    variant = VariationAllele(sequence_name=row[1]['CHROM'], position=row[1]['POS'],\n",
    "                             ref=row[1]['REF'], alt=row[1]['ALT'], var_type=row[1]['TYPE'])\n",
    "    if variant.id not in variant_table:\n",
    "        variant_table[variant.id] = variant\n",
    "    else:    \n",
    "        variant = variant_table[variant.id]\n",
    "        \n",
    "    if sample_name not in file_variants:\n",
    "        file_variants[sample_name] = []\n",
    "        \n",
    "    file_variants[sample_name].append(variant)\n",
    "    \n",
    "file_variants.keys()"
   ]
  },
  {
   "cell_type": "code",
   "execution_count": 8,
   "metadata": {},
   "outputs": [
    {
     "name": "stdout",
     "output_type": "stream",
     "text": [
      "2020-12-22 02:13:18,802 INFO sqlalchemy.engine.base.Engine INSERT INTO variation_allele (id, sequence_name, position, ref, alt, var_type) VALUES (?, ?, ?, ?, ?, ?)\n",
      "2020-12-22 02:13:18,804 INFO sqlalchemy.engine.base.Engine (('JASV01000001.1:16854:T:C', 'JASV01000001.1', 16854, 'T', 'C', 'snp'), ('JASV01000001.1:16871:C:C', 'JASV01000001.1', 16871, 'C', 'C', 'del'), ('JASV01000001.1:16897:G:C', 'JASV01000001.1', 16897, 'G', 'C', 'snp'), ('JASV01000001.1:17327:T:TA', 'JASV01000001.1', 17327, 'T', 'TA', 'ins'), ('JASV01000001.1:17335:G:G', 'JASV01000001.1', 17335, 'G', 'G', 'del'), ('JASV01000001.1:17347:C:C', 'JASV01000001.1', 17347, 'C', 'C', 'del'), ('JASV01000001.1:17360:T:A', 'JASV01000001.1', 17360, 'T', 'A', 'snp'), ('JASV01000001.1:17468:T:C', 'JASV01000001.1', 17468, 'T', 'C', 'snp')  ... displaying 10 of 601 total bound parameter sets ...  ('JASV01000007.1:13994:C:A', 'JASV01000007.1', 13994, 'C', 'A', 'snp'), ('JASV01000007.1:963356:A:G', 'JASV01000007.1', 963356, 'A', 'G', 'snp'))\n",
      "2020-12-22 02:13:18,815 INFO sqlalchemy.engine.base.Engine INSERT INTO sample (name) VALUES (?)\n",
      "2020-12-22 02:13:18,817 INFO sqlalchemy.engine.base.Engine ('2014C-3857',)\n",
      "2020-12-22 02:13:18,818 INFO sqlalchemy.engine.base.Engine INSERT INTO sample (name) VALUES (?)\n",
      "2020-12-22 02:13:18,820 INFO sqlalchemy.engine.base.Engine ('2014C-3655',)\n",
      "2020-12-22 02:13:18,823 INFO sqlalchemy.engine.base.Engine INSERT INTO sample (name) VALUES (?)\n",
      "2020-12-22 02:13:18,824 INFO sqlalchemy.engine.base.Engine ('2014C-3598',)\n",
      "2020-12-22 02:13:18,826 INFO sqlalchemy.engine.base.Engine INSERT INTO sample (name) VALUES (?)\n",
      "2020-12-22 02:13:18,828 INFO sqlalchemy.engine.base.Engine ('2014C-3840',)\n",
      "2020-12-22 02:13:18,832 INFO sqlalchemy.engine.base.Engine INSERT INTO sample (name) VALUES (?)\n",
      "2020-12-22 02:13:18,833 INFO sqlalchemy.engine.base.Engine ('2014C-3599',)\n",
      "2020-12-22 02:13:18,834 INFO sqlalchemy.engine.base.Engine INSERT INTO sample (name) VALUES (?)\n",
      "2020-12-22 02:13:18,835 INFO sqlalchemy.engine.base.Engine ('2014C-3907',)\n",
      "2020-12-22 02:13:18,840 INFO sqlalchemy.engine.base.Engine INSERT INTO sample (name) VALUES (?)\n",
      "2020-12-22 02:13:18,841 INFO sqlalchemy.engine.base.Engine ('2014C-3656',)\n",
      "2020-12-22 02:13:18,843 INFO sqlalchemy.engine.base.Engine INSERT INTO sample (name) VALUES (?)\n",
      "2020-12-22 02:13:18,846 INFO sqlalchemy.engine.base.Engine ('2014C-3850',)\n",
      "2020-12-22 02:13:18,848 INFO sqlalchemy.engine.base.Engine INSERT INTO sample (name) VALUES (?)\n",
      "2020-12-22 02:13:18,849 INFO sqlalchemy.engine.base.Engine ('2014C-3600',)\n",
      "2020-12-22 02:13:18,863 INFO sqlalchemy.engine.base.Engine INSERT INTO sample_variation_allele (sample_id, variantion_allele_id) VALUES (?, ?)\n",
      "2020-12-22 02:13:18,863 INFO sqlalchemy.engine.base.Engine ((7, 'JASV01000001.1:16854:T:C'), (7, 'JASV01000001.1:16871:C:C'), (7, 'JASV01000001.1:16897:G:C'), (7, 'JASV01000001.1:17085:A:G'), (7, 'JASV01000001.1:17137:C:C'), (7, 'JASV01000001.1:17335:G:G'), (7, 'JASV01000001.1:17347:C:C'), (7, 'JASV01000001.1:17360:T:A')  ... displaying 10 of 1353 total bound parameter sets ...  (9, 'JASV01000007.1:963356:A:G'), (9, 'JASV01000007.1:1014501:A:G'))\n",
      "2020-12-22 02:13:18,873 INFO sqlalchemy.engine.base.Engine COMMIT\n"
     ]
    }
   ],
   "source": [
    "for s in file_variants:\n",
    "    sample = Sample(name=s, variants=file_variants[s])\n",
    "    session.add(sample)\n",
    "session.commit()"
   ]
  },
  {
   "cell_type": "code",
   "execution_count": 9,
   "metadata": {},
   "outputs": [
    {
     "name": "stdout",
     "output_type": "stream",
     "text": [
      "2020-12-22 02:13:19,248 INFO sqlalchemy.engine.base.Engine BEGIN (implicit)\n",
      "2020-12-22 02:13:19,253 INFO sqlalchemy.engine.base.Engine SELECT variation_allele.id AS variation_allele_id, variation_allele.sequence_name AS variation_allele_sequence_name, variation_allele.position AS variation_allele_position, variation_allele.ref AS variation_allele_ref, variation_allele.alt AS variation_allele_alt, variation_allele.var_type AS variation_allele_var_type \n",
      "FROM variation_allele \n",
      "WHERE variation_allele.position = ?\n",
      "2020-12-22 02:13:19,257 INFO sqlalchemy.engine.base.Engine (16854,)\n"
     ]
    },
    {
     "data": {
      "text/plain": [
       "[<VariationAllele(sequence_name=JASV01000001.1, position=16854, ref=T, alt=C, var_type=snp)>]"
      ]
     },
     "execution_count": 9,
     "metadata": {},
     "output_type": "execute_result"
    }
   ],
   "source": [
    "v = session.query(VariationAllele).filter_by(position = 16854).all()\n",
    "v"
   ]
  },
  {
   "cell_type": "code",
   "execution_count": 10,
   "metadata": {},
   "outputs": [
    {
     "name": "stdout",
     "output_type": "stream",
     "text": [
      "2020-12-22 02:13:19,795 INFO sqlalchemy.engine.base.Engine SELECT reference_sequence.id AS reference_sequence_id, reference_sequence.reference_id AS reference_sequence_reference_id, reference_sequence.sequence_name AS reference_sequence_sequence_name \n",
      "FROM reference_sequence \n",
      "WHERE reference_sequence.sequence_name = ?\n",
      " LIMIT ? OFFSET ?\n",
      "2020-12-22 02:13:19,801 INFO sqlalchemy.engine.base.Engine ('JASV01000004.1', 1, 0)\n"
     ]
    },
    {
     "data": {
      "text/plain": [
       "<ReferenceSequence(id=4, sequence_name=JASV01000004.1, reference_id=1)>"
      ]
     },
     "execution_count": 10,
     "metadata": {},
     "output_type": "execute_result"
    }
   ],
   "source": [
    "r = session.query(ReferenceSequence).filter_by(sequence_name = 'JASV01000004.1').first()\n",
    "r"
   ]
  },
  {
   "cell_type": "code",
   "execution_count": 11,
   "metadata": {},
   "outputs": [
    {
     "name": "stdout",
     "output_type": "stream",
     "text": [
      "2020-12-22 02:13:20,385 INFO sqlalchemy.engine.base.Engine SELECT sample.id AS sample_id, sample.name AS sample_name \n",
      "FROM sample \n",
      "WHERE sample.name = ?\n",
      " LIMIT ? OFFSET ?\n",
      "2020-12-22 02:13:20,388 INFO sqlalchemy.engine.base.Engine ('2014C-3857', 1, 0)\n"
     ]
    },
    {
     "data": {
      "text/plain": [
       "<Sample(id=1, name=2014C-3857)>"
      ]
     },
     "execution_count": 11,
     "metadata": {},
     "output_type": "execute_result"
    }
   ],
   "source": [
    "s = session.query(Sample).filter_by(name = '2014C-3857').first()\n",
    "s"
   ]
  },
  {
   "cell_type": "code",
   "execution_count": 12,
   "metadata": {},
   "outputs": [
    {
     "name": "stdout",
     "output_type": "stream",
     "text": [
      "2020-12-22 02:13:20,997 INFO sqlalchemy.engine.base.Engine SELECT variation_allele.id AS variation_allele_id, variation_allele.sequence_name AS variation_allele_sequence_name, variation_allele.position AS variation_allele_position, variation_allele.ref AS variation_allele_ref, variation_allele.alt AS variation_allele_alt, variation_allele.var_type AS variation_allele_var_type \n",
      "FROM variation_allele, sample_variation_allele \n",
      "WHERE ? = sample_variation_allele.sample_id AND variation_allele.id = sample_variation_allele.variantion_allele_id\n",
      "2020-12-22 02:13:20,999 INFO sqlalchemy.engine.base.Engine (1,)\n"
     ]
    },
    {
     "data": {
      "text/plain": [
       "'JASV01000001.1:16854:T:C'"
      ]
     },
     "execution_count": 12,
     "metadata": {},
     "output_type": "execute_result"
    }
   ],
   "source": [
    "s.variants[0].id"
   ]
  },
  {
   "cell_type": "code",
   "execution_count": 13,
   "metadata": {},
   "outputs": [
    {
     "name": "stdout",
     "output_type": "stream",
     "text": [
      "2020-12-22 02:13:21,615 INFO sqlalchemy.engine.base.Engine SELECT variation_allele.id AS variation_allele_id, variation_allele.sequence_name AS variation_allele_sequence_name, variation_allele.position AS variation_allele_position, variation_allele.ref AS variation_allele_ref, variation_allele.alt AS variation_allele_alt, variation_allele.var_type AS variation_allele_var_type \n",
      "FROM variation_allele \n",
      "WHERE variation_allele.id = ?\n",
      " LIMIT ? OFFSET ?\n",
      "2020-12-22 02:13:21,616 INFO sqlalchemy.engine.base.Engine ('JASV01000001.1:16854:T:C', 1, 0)\n",
      "2020-12-22 02:13:21,628 INFO sqlalchemy.engine.base.Engine SELECT sample.id AS sample_id, sample.name AS sample_name \n",
      "FROM sample, sample_variation_allele \n",
      "WHERE ? = sample_variation_allele.variantion_allele_id AND sample.id = sample_variation_allele.sample_id\n",
      "2020-12-22 02:13:21,630 INFO sqlalchemy.engine.base.Engine ('JASV01000001.1:16854:T:C',)\n"
     ]
    },
    {
     "data": {
      "text/plain": [
       "[<Sample(id=7, name=2014C-3656)>,\n",
       " <Sample(id=3, name=2014C-3598)>,\n",
       " <Sample(id=4, name=2014C-3840)>,\n",
       " <Sample(id=6, name=2014C-3907)>,\n",
       " <Sample(id=5, name=2014C-3599)>,\n",
       " <Sample(id=8, name=2014C-3850)>,\n",
       " <Sample(id=2, name=2014C-3655)>,\n",
       " <Sample(id=1, name=2014C-3857)>,\n",
       " <Sample(id=9, name=2014C-3600)>]"
      ]
     },
     "execution_count": 13,
     "metadata": {},
     "output_type": "execute_result"
    }
   ],
   "source": [
    "v = session.query(VariationAllele).filter_by(id='JASV01000001.1:16854:T:C').first()\n",
    "v.samples"
   ]
  },
  {
   "cell_type": "code",
   "execution_count": null,
   "metadata": {},
   "outputs": [],
   "source": []
  },
  {
   "cell_type": "code",
   "execution_count": null,
   "metadata": {},
   "outputs": [],
   "source": []
  }
 ],
 "metadata": {
  "kernelspec": {
   "display_name": "Python 3",
   "language": "python",
   "name": "python3"
  },
  "language_info": {
   "codemirror_mode": {
    "name": "ipython",
    "version": 3
   },
   "file_extension": ".py",
   "mimetype": "text/x-python",
   "name": "python",
   "nbconvert_exporter": "python",
   "pygments_lexer": "ipython3",
   "version": "3.8.6"
  }
 },
 "nbformat": 4,
 "nbformat_minor": 4
}
