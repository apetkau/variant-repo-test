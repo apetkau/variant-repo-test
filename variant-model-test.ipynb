{
 "cells": [
  {
   "cell_type": "markdown",
   "metadata": {},
   "source": [
    "# Variants"
   ]
  },
  {
   "cell_type": "code",
   "execution_count": 1,
   "metadata": {},
   "outputs": [
    {
     "data": {
      "text/plain": [
       "0.5714285714285714"
      ]
     },
     "execution_count": 1,
     "metadata": {},
     "output_type": "execute_result"
    }
   ],
   "source": [
    "from bitarray import bitarray\n",
    "import Bio.Seq\n",
    "\n",
    "class CoreBitMask:\n",
    "    \n",
    "    def __init__(self, sequence: Bio.Seq.Seq = None, existing_bitmask: bitarray = None):\n",
    "        if existing_bitmask is not None and sequence is not None:\n",
    "            raise Exception(f'Cannot set both existing_bitmask={existing_bitmask} and sequence={sequence}')\n",
    "            \n",
    "        if existing_bitmask:\n",
    "            self._core_bitmask = existing_bitmask\n",
    "        elif sequence:\n",
    "            self._core_bitmask = bitarray(len(sequence))\n",
    "            self._core_bitmask.setall(True)\n",
    "            self._add_sequence(sequence)\n",
    "        else:\n",
    "            raise Exception('If no existing_bitmask set then sequence must be defined')\n",
    "            \n",
    "    def _add_sequence(self, sequence: Bio.Seq.Seq) -> float:\n",
    "        for idx, char in enumerate(sequence):\n",
    "            if char.upper() == 'N' or char == '-':\n",
    "                self._core_bitmask[idx] = False\n",
    "                \n",
    "    def get_bytes(self):\n",
    "        return self._core_bitmask.tobytes()\n",
    "    \n",
    "    def core_length(self) -> int:\n",
    "        return self._core_bitmask.count()\n",
    "    \n",
    "    def core_proportion(self) -> float:\n",
    "        return self.core_length()/len(self)\n",
    "    \n",
    "    def __len__(self) -> int:\n",
    "        return len(self._core_bitmask)\n",
    "    \n",
    "    def __getitem__(self, index: int) -> bool:\n",
    "        return self._core_bitmask[index]\n",
    "    \n",
    "s = Bio.Seq.Seq('ATCG-NN')\n",
    "mask = CoreBitMask(sequence=s)\n",
    "mask.core_proportion()"
   ]
  },
  {
   "cell_type": "code",
   "execution_count": 2,
   "metadata": {},
   "outputs": [
    {
     "name": "stdout",
     "output_type": "stream",
     "text": [
      "2014C-3598:JASV01000007.1 -> 0.943984037246425\n",
      "2014C-3598:JASV01000001.1 -> 0.910258525430492\n",
      "2014C-3598:JASV01000003.1 -> 0.8528861168287316\n",
      "2014C-3598:JASV01000002.1 -> 0.1842982722036981\n",
      "2014C-3598:JASV01000005.1 -> 0.6508188706917624\n",
      "2014C-3598:JASV01000004.1 -> 0.9328083846737099\n",
      "2014C-3598:JASV01000006.1 -> 0.9060560786080742\n",
      "2014C-3907:JASV01000005.1 -> 0.6121160270512507\n",
      "2014C-3907:JASV01000003.1 -> 0.8220553268507346\n",
      "2014C-3907:JASV01000004.1 -> 0.9416741429963557\n",
      "2014C-3907:JASV01000007.1 -> 0.946977053541736\n",
      "2014C-3907:JASV01000006.1 -> 0.9025521537379151\n",
      "2014C-3907:JASV01000001.1 -> 0.9108589889192424\n",
      "2014C-3907:JASV01000002.1 -> 0.13913307062746286\n",
      "2014C-3656:JASV01000003.1 -> 0.8393294414081908\n",
      "2014C-3656:JASV01000001.1 -> 0.9175676816354094\n",
      "2014C-3656:JASV01000005.1 -> 0.6313044895298623\n",
      "2014C-3656:JASV01000006.1 -> 0.910575805724856\n",
      "2014C-3656:JASV01000007.1 -> 0.9484089505439688\n",
      "2014C-3656:JASV01000004.1 -> 0.9405430272876749\n",
      "2014C-3656:JASV01000002.1 -> 0.20006062443164596\n",
      "2014C-3655:JASV01000006.1 -> 0.90203239500083\n",
      "2014C-3655:JASV01000003.1 -> 0.8290909574845624\n",
      "2014C-3655:JASV01000001.1 -> 0.9095218545688941\n",
      "2014C-3655:JASV01000005.1 -> 0.6072883565550395\n",
      "2014C-3655:JASV01000002.1 -> 0.1442861473173689\n",
      "2014C-3655:JASV01000004.1 -> 0.9354569386346792\n",
      "2014C-3655:JASV01000007.1 -> 0.9450881277020285\n",
      "2014C-3599:JASV01000006.1 -> 0.9099433996569197\n",
      "2014C-3599:JASV01000005.1 -> 0.6618389961704555\n",
      "2014C-3599:JASV01000003.1 -> 0.8537378451274044\n",
      "2014C-3599:JASV01000004.1 -> 0.9393231130978087\n",
      "2014C-3599:JASV01000007.1 -> 0.9523492802508433\n",
      "2014C-3599:JASV01000002.1 -> 0.18066080630494089\n",
      "2014C-3599:JASV01000001.1 -> 0.916305365419442\n",
      "2014C-3857:JASV01000002.1 -> 0.14383146408002426\n",
      "2014C-3857:JASV01000001.1 -> 0.9144099726817889\n",
      "2014C-3857:JASV01000006.1 -> 0.9075283989849883\n",
      "2014C-3857:JASV01000005.1 -> 0.6347470056220973\n",
      "2014C-3857:JASV01000004.1 -> 0.9388545454664607\n",
      "2014C-3857:JASV01000007.1 -> 0.9505202147370422\n",
      "2014C-3857:JASV01000003.1 -> 0.8356652352899425\n",
      "2014C-3600:JASV01000001.1 -> 0.9250437398324074\n",
      "2014C-3600:JASV01000003.1 -> 0.8631955781105827\n",
      "2014C-3600:JASV01000005.1 -> 0.6761794182351504\n",
      "2014C-3600:JASV01000004.1 -> 0.9458958390538997\n",
      "2014C-3600:JASV01000006.1 -> 0.9183959020086798\n",
      "2014C-3600:JASV01000002.1 -> 0.19536223097908456\n",
      "2014C-3600:JASV01000007.1 -> 0.958379970544919\n",
      "2014C-3850:JASV01000004.1 -> 0.9396452123856515\n",
      "2014C-3850:JASV01000006.1 -> 0.9085244385419878\n",
      "2014C-3850:JASV01000005.1 -> 0.6305915424101687\n",
      "2014C-3850:JASV01000002.1 -> 0.13140345559260383\n",
      "2014C-3850:JASV01000007.1 -> 0.9517354743693287\n",
      "2014C-3850:JASV01000003.1 -> 0.837537263113067\n",
      "2014C-3850:JASV01000001.1 -> 0.9154766107001443\n",
      "2014C-3840:JASV01000005.1 -> 0.6291045384176648\n",
      "2014C-3840:JASV01000003.1 -> 0.8354478671303854\n",
      "2014C-3840:JASV01000001.1 -> 0.913970655944013\n",
      "2014C-3840:JASV01000007.1 -> 0.9498332462349756\n",
      "2014C-3840:JASV01000004.1 -> 0.9403421657785727\n",
      "2014C-3840:JASV01000002.1 -> 0.1679296756592907\n",
      "2014C-3840:JASV01000006.1 -> 0.9079177239705615\n"
     ]
    },
    {
     "data": {
      "text/html": [
       "<div>\n",
       "<style scoped>\n",
       "    .dataframe tbody tr th:only-of-type {\n",
       "        vertical-align: middle;\n",
       "    }\n",
       "\n",
       "    .dataframe tbody tr th {\n",
       "        vertical-align: top;\n",
       "    }\n",
       "\n",
       "    .dataframe thead th {\n",
       "        text-align: right;\n",
       "    }\n",
       "</style>\n",
       "<table border=\"1\" class=\"dataframe\">\n",
       "  <thead>\n",
       "    <tr style=\"text-align: right;\">\n",
       "      <th></th>\n",
       "      <th>FILE</th>\n",
       "      <th>CHROM</th>\n",
       "      <th>POS</th>\n",
       "      <th>REF</th>\n",
       "      <th>ALT</th>\n",
       "      <th>DP</th>\n",
       "      <th>QUAL</th>\n",
       "      <th>RO</th>\n",
       "      <th>AO</th>\n",
       "      <th>TYPE</th>\n",
       "    </tr>\n",
       "  </thead>\n",
       "  <tbody>\n",
       "    <tr>\n",
       "      <th>0</th>\n",
       "      <td>2014C-3857.filt.vcf</td>\n",
       "      <td>JASV01000001.1</td>\n",
       "      <td>16854</td>\n",
       "      <td>T</td>\n",
       "      <td>C</td>\n",
       "      <td>38</td>\n",
       "      <td>1175.580</td>\n",
       "      <td>0</td>\n",
       "      <td>38</td>\n",
       "      <td>snp</td>\n",
       "    </tr>\n",
       "    <tr>\n",
       "      <th>1</th>\n",
       "      <td>2014C-3857.filt.vcf</td>\n",
       "      <td>JASV01000001.1</td>\n",
       "      <td>16871</td>\n",
       "      <td>C</td>\n",
       "      <td>C</td>\n",
       "      <td>29</td>\n",
       "      <td>832.403</td>\n",
       "      <td>0</td>\n",
       "      <td>28</td>\n",
       "      <td>del</td>\n",
       "    </tr>\n",
       "    <tr>\n",
       "      <th>2</th>\n",
       "      <td>2014C-3857.filt.vcf</td>\n",
       "      <td>JASV01000001.1</td>\n",
       "      <td>16897</td>\n",
       "      <td>G</td>\n",
       "      <td>C</td>\n",
       "      <td>25</td>\n",
       "      <td>735.848</td>\n",
       "      <td>0</td>\n",
       "      <td>25</td>\n",
       "      <td>snp</td>\n",
       "    </tr>\n",
       "    <tr>\n",
       "      <th>3</th>\n",
       "      <td>2014C-3857.filt.vcf</td>\n",
       "      <td>JASV01000001.1</td>\n",
       "      <td>17327</td>\n",
       "      <td>T</td>\n",
       "      <td>TA</td>\n",
       "      <td>11</td>\n",
       "      <td>258.368</td>\n",
       "      <td>0</td>\n",
       "      <td>11</td>\n",
       "      <td>ins</td>\n",
       "    </tr>\n",
       "    <tr>\n",
       "      <th>4</th>\n",
       "      <td>2014C-3857.filt.vcf</td>\n",
       "      <td>JASV01000001.1</td>\n",
       "      <td>17335</td>\n",
       "      <td>G</td>\n",
       "      <td>G</td>\n",
       "      <td>13</td>\n",
       "      <td>292.065</td>\n",
       "      <td>0</td>\n",
       "      <td>13</td>\n",
       "      <td>del</td>\n",
       "    </tr>\n",
       "    <tr>\n",
       "      <th>...</th>\n",
       "      <td>...</td>\n",
       "      <td>...</td>\n",
       "      <td>...</td>\n",
       "      <td>...</td>\n",
       "      <td>...</td>\n",
       "      <td>...</td>\n",
       "      <td>...</td>\n",
       "      <td>...</td>\n",
       "      <td>...</td>\n",
       "      <td>...</td>\n",
       "    </tr>\n",
       "    <tr>\n",
       "      <th>125</th>\n",
       "      <td>2014C-3600.filt.vcf</td>\n",
       "      <td>JASV01000007.1</td>\n",
       "      <td>767386</td>\n",
       "      <td>A</td>\n",
       "      <td>G</td>\n",
       "      <td>87</td>\n",
       "      <td>2684.540</td>\n",
       "      <td>0</td>\n",
       "      <td>87</td>\n",
       "      <td>snp</td>\n",
       "    </tr>\n",
       "    <tr>\n",
       "      <th>126</th>\n",
       "      <td>2014C-3600.filt.vcf</td>\n",
       "      <td>JASV01000007.1</td>\n",
       "      <td>890046</td>\n",
       "      <td>T</td>\n",
       "      <td>C</td>\n",
       "      <td>96</td>\n",
       "      <td>3115.580</td>\n",
       "      <td>0</td>\n",
       "      <td>96</td>\n",
       "      <td>snp</td>\n",
       "    </tr>\n",
       "    <tr>\n",
       "      <th>127</th>\n",
       "      <td>2014C-3600.filt.vcf</td>\n",
       "      <td>JASV01000007.1</td>\n",
       "      <td>958303</td>\n",
       "      <td>T</td>\n",
       "      <td>G</td>\n",
       "      <td>93</td>\n",
       "      <td>3115.200</td>\n",
       "      <td>0</td>\n",
       "      <td>93</td>\n",
       "      <td>snp</td>\n",
       "    </tr>\n",
       "    <tr>\n",
       "      <th>128</th>\n",
       "      <td>2014C-3600.filt.vcf</td>\n",
       "      <td>JASV01000007.1</td>\n",
       "      <td>963356</td>\n",
       "      <td>A</td>\n",
       "      <td>G</td>\n",
       "      <td>23</td>\n",
       "      <td>692.768</td>\n",
       "      <td>0</td>\n",
       "      <td>23</td>\n",
       "      <td>snp</td>\n",
       "    </tr>\n",
       "    <tr>\n",
       "      <th>129</th>\n",
       "      <td>2014C-3600.filt.vcf</td>\n",
       "      <td>JASV01000007.1</td>\n",
       "      <td>1014501</td>\n",
       "      <td>A</td>\n",
       "      <td>G</td>\n",
       "      <td>148</td>\n",
       "      <td>4451.050</td>\n",
       "      <td>1</td>\n",
       "      <td>145</td>\n",
       "      <td>snp</td>\n",
       "    </tr>\n",
       "  </tbody>\n",
       "</table>\n",
       "<p>1353 rows × 10 columns</p>\n",
       "</div>"
      ],
      "text/plain": [
       "                    FILE           CHROM      POS REF ALT   DP      QUAL  RO  \\\n",
       "0    2014C-3857.filt.vcf  JASV01000001.1    16854   T   C   38  1175.580   0   \n",
       "1    2014C-3857.filt.vcf  JASV01000001.1    16871   C   C   29   832.403   0   \n",
       "2    2014C-3857.filt.vcf  JASV01000001.1    16897   G   C   25   735.848   0   \n",
       "3    2014C-3857.filt.vcf  JASV01000001.1    17327   T  TA   11   258.368   0   \n",
       "4    2014C-3857.filt.vcf  JASV01000001.1    17335   G   G   13   292.065   0   \n",
       "..                   ...             ...      ...  ..  ..  ...       ...  ..   \n",
       "125  2014C-3600.filt.vcf  JASV01000007.1   767386   A   G   87  2684.540   0   \n",
       "126  2014C-3600.filt.vcf  JASV01000007.1   890046   T   C   96  3115.580   0   \n",
       "127  2014C-3600.filt.vcf  JASV01000007.1   958303   T   G   93  3115.200   0   \n",
       "128  2014C-3600.filt.vcf  JASV01000007.1   963356   A   G   23   692.768   0   \n",
       "129  2014C-3600.filt.vcf  JASV01000007.1  1014501   A   G  148  4451.050   1   \n",
       "\n",
       "      AO TYPE  \n",
       "0     38  snp  \n",
       "1     28  del  \n",
       "2     25  snp  \n",
       "3     11  ins  \n",
       "4     13  del  \n",
       "..   ...  ...  \n",
       "125   87  snp  \n",
       "126   96  snp  \n",
       "127   93  snp  \n",
       "128   23  snp  \n",
       "129  145  snp  \n",
       "\n",
       "[1353 rows x 10 columns]"
      ]
     },
     "execution_count": 2,
     "metadata": {},
     "output_type": "execute_result"
    }
   ],
   "source": [
    "from typing import List, Dict\n",
    "import vcf\n",
    "import Bio.Seq\n",
    "from Bio import SeqIO\n",
    "import pandas as pd\n",
    "import re\n",
    "import os\n",
    "\n",
    "class VariantsReader:\n",
    "    \n",
    "    def __init__(self):\n",
    "        pass\n",
    "\n",
    "    def read_vcf(self, file: str) -> pd.DataFrame:\n",
    "        reader = vcf.Reader(open(file, 'r'))\n",
    "        df = pd.DataFrame([vars(r) for r in reader])\n",
    "        out = df.merge(pd.DataFrame(df.INFO.tolist()),\n",
    "                       left_index=True, right_index=True)\n",
    "        out = out[['CHROM', 'POS', 'REF', 'ALT', 'DP', 'QUAL', 'RO', 'AO', 'INFO']]\n",
    "        out['TYPE'] = out['INFO'].map(lambda x: x['TYPE'][0])\n",
    "        out = out.drop('INFO', axis='columns')\n",
    "        out['ALT'] = out['ALT'].map(lambda x: str(x[0]))\n",
    "        out['REF'] = out['REF'].map(lambda x: str(x[0]))\n",
    "        out['AO'] = out['AO'].map(lambda x: x[0])\n",
    "        cols = out.columns.tolist()\n",
    "        out['FILE'] = os.path.basename(file)\n",
    "        out = out.reindex(columns=['FILE'] + cols)\n",
    "        return out\n",
    "\n",
    "    def read_vcfs(self, files: List[str]) -> pd.DataFrame:\n",
    "        frames = [self.read_vcf(f) for f in files]\n",
    "        return pd.concat(frames)\n",
    "    \n",
    "    def read_core_masks(self, bit_mask_files_dir: str) -> Dict[str, Dict[str, CoreBitMask]]:\n",
    "        files = [os.path.join(bit_mask_files_dir, f) for f in os.listdir(bit_mask_files_dir) if f.endswith('.fa')]\n",
    "        core_masks = {}\n",
    "        for file in files:\n",
    "            name = re.sub('\\.aligned\\.fa$', '', os.path.basename(file))\n",
    "            core_masks[name] = {}\n",
    "            for record in SeqIO.parse(file, 'fasta'):\n",
    "                if record.id not in core_masks[name]:\n",
    "                    core_masks[name][record.id] = CoreBitMask(sequence=record.seq)\n",
    "                    print(f'{name}:{record.id} -> {core_masks[name][record.id].core_proportion()}')\n",
    "                    \n",
    "        return core_masks\n",
    "\n",
    "directory = 'data/snps-vcf'\n",
    "files = [os.path.join(directory, f) for f in os.listdir('data/snps-vcf')]\n",
    "files = [f for f in files if f.endswith('.vcf')]\n",
    "\n",
    "vr = VariantsReader()\n",
    "core_masks = vr.read_core_masks('data/snps-aligned')\n",
    "df = vr.read_vcfs(files)\n",
    "df"
   ]
  },
  {
   "cell_type": "code",
   "execution_count": 3,
   "metadata": {},
   "outputs": [
    {
     "data": {
      "text/plain": [
       "['2014C-3907',\n",
       " '2014C-3840',\n",
       " '2014C-3656',\n",
       " '2014C-3655',\n",
       " '2014C-3857',\n",
       " '2014C-3600',\n",
       " '2014C-3850',\n",
       " '2014C-3599',\n",
       " '2014C-3598']"
      ]
     },
     "execution_count": 3,
     "metadata": {},
     "output_type": "execute_result"
    }
   ],
   "source": [
    "import re\n",
    "\n",
    "sample_names = df.FILE.value_counts().index.tolist()\n",
    "sample_names = [re.sub('\\.filt\\.vcf$', '', n) for n in sample_names]\n",
    "sample_names"
   ]
  },
  {
   "cell_type": "markdown",
   "metadata": {},
   "source": [
    "# DB model"
   ]
  },
  {
   "cell_type": "code",
   "execution_count": 4,
   "metadata": {},
   "outputs": [],
   "source": [
    "from typing import List, Any\n",
    "\n",
    "from sqlalchemy.ext.declarative import declarative_base\n",
    "from sqlalchemy.orm import relationship\n",
    "\n",
    "from bitarray import bitarray\n",
    "\n",
    "Base = declarative_base()\n",
    "Base\n",
    "\n",
    "from sqlalchemy import Column, Integer, String, Sequence, BigInteger, ForeignKey, Table, LargeBinary\n",
    "    \n",
    "association_table = Table('sample_variation_allele', Base.metadata,\n",
    "    Column('sample_id', Integer, ForeignKey('sample.id')),\n",
    "    Column('variantion_allele_id', String, ForeignKey('variation_allele.id')),\n",
    ")\n",
    "\n",
    "class VariationAllele(Base):\n",
    "    __tablename__ = 'variation_allele'\n",
    "    id = Column(String, primary_key=True)\n",
    "    sequence_id = Column(String, ForeignKey('reference_sequence.id'))\n",
    "    position = Column(Integer, primary_key=True)\n",
    "    ref = Column(String(255), primary_key=True)\n",
    "    alt = Column(String(255), primary_key=True)\n",
    "    var_type = Column(String(255))\n",
    "    \n",
    "    samples = relationship('Sample', secondary=association_table, back_populates='variants')\n",
    "    sequence = relationship('ReferenceSequence', back_populates='variants')\n",
    "    \n",
    "    def __init__(self, sequence = None, position: int = -1, ref: str = None, alt: str = None,\n",
    "                 var_type: str = None):\n",
    "        self.sequence = sequence\n",
    "        self.position = position\n",
    "        self.ref = ref\n",
    "        self.alt = alt\n",
    "        self.var_type = var_type\n",
    "        \n",
    "        self.id = self.to_spdi()\n",
    "    \n",
    "    def to_spdi(self):\n",
    "        return VariationAllele.spdi(sequence_name=self.sequence.sequence_name,\n",
    "                                   position=self.position,\n",
    "                                   ref=self.ref,\n",
    "                                   alt=self.alt)\n",
    "            \n",
    "    @classmethod\n",
    "    def spdi(cls, sequence_name: str, position: int, ref: str, alt: str) -> str:\n",
    "        return f'{sequence_name}:{position}:{ref}:{alt}'\n",
    "    \n",
    "    def __repr__(self):\n",
    "        return (f'<VariationAllele(sequence_name={self.sequence.sequence_name}'\n",
    "                f', position={self.position}, ref={self.ref}, alt={self.alt}, var_type={self.var_type})>')\n",
    "\n",
    "class Reference(Base):\n",
    "    __tablename__ = 'reference'\n",
    "    id = Column(Integer, primary_key=True)\n",
    "    name = Column(String(255))\n",
    "    length = Column(Integer)\n",
    "    sequences = relationship('ReferenceSequence')\n",
    "    \n",
    "    def __repr__(self):\n",
    "        return f'<Reference(id={self.id}, name={self.name}, length={self.length})>'\n",
    "    \n",
    "    \n",
    "class SampleSequence(Base):\n",
    "    __tablename__ = 'sample_sequence'\n",
    "    sample_id = Column(Integer, ForeignKey('sample.id'), primary_key=True)\n",
    "    sequence_id = Column(Integer, ForeignKey('reference_sequence.id'), primary_key=True)\n",
    "    core_mask = Column(LargeBinary)\n",
    "    flag = Column(String(255))\n",
    "    \n",
    "    sequence = relationship('ReferenceSequence', back_populates='sample_sequences')\n",
    "    sample = relationship('Sample', back_populates='sample_sequences')\n",
    "    \n",
    "    def get_core_mask(self):\n",
    "        if self.core_mask is None:\n",
    "            raise Exception('core_mask is not set')\n",
    "        else:\n",
    "            barray = bitarray()\n",
    "            barray.frombytes(self.core_mask)\n",
    "            \n",
    "            # Since I'm decoding a bitarray from bytes, the bytes must always be a multiple of 8\n",
    "            # But the sequence length can be a non-multiple of 8\n",
    "            # So I have to remove (slice) the few additional elements from this array that got added\n",
    "            # When decoding from bytes\n",
    "            barray = barray[:self.sequence.sequence_length]\n",
    "            return CoreBitMask(existing_bitmask=barray)\n",
    "        \n",
    "    def set_core_mask(self, core_mask: CoreBitMask) -> None:\n",
    "        if core_mask is None:\n",
    "            raise Exception('Cannot set core_mask to None')\n",
    "        else:\n",
    "            self.core_mask = core_mask.get_bytes()\n",
    "    \n",
    "    def __repr__(self):\n",
    "        return f'<SampleSequence(sample_id={self.sample_id}, sequence_id={self.sequence_id}, flag={self.flag})>'\n",
    "    \n",
    "    \n",
    "class ReferenceSequence(Base):\n",
    "    __tablename__ = 'reference_sequence'\n",
    "    id = Column(Integer, primary_key=True)\n",
    "    reference_id = Column(Integer, ForeignKey('reference.id'))\n",
    "    sequence_name = Column(String(255))\n",
    "    sequence_length = Column(Integer)\n",
    "    \n",
    "    variants = relationship('VariationAllele', back_populates='sequence')\n",
    "    sample_sequences = relationship('SampleSequence', back_populates='sequence')\n",
    "    \n",
    "    def __repr__(self):\n",
    "        return (f'<ReferenceSequence(id={self.id}, sequence_name={self.sequence_name},'\n",
    "                f'sequence_length={self.sequence_length}, reference_id={self.reference_id})>')\n",
    "    \n",
    "    \n",
    "class Sample(Base):\n",
    "    __tablename__ = 'sample'\n",
    "    id = Column(Integer, primary_key=True)\n",
    "    name = Column(String(255))\n",
    "    \n",
    "    variants = relationship('VariationAllele', secondary=association_table, back_populates='samples')\n",
    "    sample_sequences = relationship('SampleSequence', back_populates='sample')\n",
    "    \n",
    "    def __repr__(self):\n",
    "        return f'<Sample(id={self.id}, name={self.name})>'"
   ]
  },
  {
   "cell_type": "markdown",
   "metadata": {},
   "source": [
    "# Create some data"
   ]
  },
  {
   "cell_type": "code",
   "execution_count": 5,
   "metadata": {},
   "outputs": [
    {
     "data": {
      "text/plain": [
       "{'JASV01000001.1': <ReferenceSequence(id=None, sequence_name=JASV01000001.1,sequence_length=521264, reference_id=None)>,\n",
       " 'JASV01000002.1': <ReferenceSequence(id=None, sequence_name=JASV01000002.1,sequence_length=6598, reference_id=None)>,\n",
       " 'JASV01000003.1': <ReferenceSequence(id=None, sequence_name=JASV01000003.1,sequence_length=225424, reference_id=None)>,\n",
       " 'JASV01000004.1': <ReferenceSequence(id=None, sequence_name=JASV01000004.1,sequence_length=3051854, reference_id=None)>,\n",
       " 'JASV01000005.1': <ReferenceSequence(id=None, sequence_name=JASV01000005.1,sequence_length=49092, reference_id=None)>,\n",
       " 'JASV01000006.1': <ReferenceSequence(id=None, sequence_name=JASV01000006.1,sequence_length=506004, reference_id=None)>,\n",
       " 'JASV01000007.1': <ReferenceSequence(id=None, sequence_name=JASV01000007.1,sequence_length=1052450, reference_id=None)>}"
      ]
     },
     "execution_count": 5,
     "metadata": {},
     "output_type": "execute_result"
    }
   ],
   "source": [
    "from Bio import SeqIO\n",
    "\n",
    "ref_name = '2011C-3609.fasta'\n",
    "ref_length = 0\n",
    "ref_contigs = {}\n",
    "for record in SeqIO.parse(f\"reference/{ref_name}\", \"fasta\"):\n",
    "    ref_contigs[record.id] = ReferenceSequence(sequence_name=record.id, sequence_length=len(record.seq))\n",
    "    ref_length += len(record.seq)\n",
    "\n",
    "reference = Reference(name = ref_name, length = ref_length, sequences=list(ref_contigs.values()))\n",
    "ref_contigs"
   ]
  },
  {
   "cell_type": "code",
   "execution_count": 6,
   "metadata": {},
   "outputs": [],
   "source": [
    "from typing import Dict, List\n",
    "import logging\n",
    "import pandas as pd\n",
    "import re\n",
    "\n",
    "logger = logging.getLogger('VariationService')\n",
    "logger.setLevel(logging.DEBUG)\n",
    "\n",
    "class VariationService:\n",
    "    \n",
    "    def __init__(self, session):\n",
    "        self._session = session\n",
    "        \n",
    "    def _create_file_variants(self, var_df: pd.DataFrame, ref_contigs: Dict[str, ReferenceSequence]) -> Dict[str, List[VariationAllele]]:\n",
    "        variant_table = {}\n",
    "        file_variants = {}\n",
    "        sample_sequences = {}\n",
    "        for row in var_df.iterrows():\n",
    "            sample_name = re.sub('\\.filt\\.vcf$', '', row[1]['FILE'])\n",
    "\n",
    "            ref_contig = ref_contigs[row[1]['CHROM']]\n",
    "            variant_id = VariationAllele.spdi(sequence_name=ref_contig.sequence_name,\n",
    "                                               position=row[1]['POS'],\n",
    "                                               ref=row[1]['REF'],\n",
    "                                               alt=row[1]['ALT']\n",
    "                                              )\n",
    "\n",
    "            if variant_id not in variant_table:\n",
    "                variant = VariationAllele(sequence=ref_contig, position=row[1]['POS'],\n",
    "                         ref=row[1]['REF'], alt=row[1]['ALT'], var_type=row[1]['TYPE'])\n",
    "                variant_table[variant.id] = variant\n",
    "            else:    \n",
    "                variant = variant_table[variant_id]\n",
    "\n",
    "            if sample_name not in file_variants:\n",
    "                file_variants[sample_name] = []\n",
    "\n",
    "            file_variants[sample_name].append(variant)\n",
    "\n",
    "        return file_variants\n",
    "    \n",
    "    def insert_variants(self, var_df: pd.DataFrame, ref_contigs: Dict[str, ReferenceSequence],\n",
    "                       core_masks: Dict[str, Dict[str, CoreBitMask]]) -> None:\n",
    "        file_variants = self._create_file_variants(var_df, ref_contigs)\n",
    "        \n",
    "        for s in file_variants:\n",
    "            ref_objects = {ref_contigs[v.sequence.sequence_name] for v in file_variants[s]}\n",
    "            sample_core_masks = core_masks[s]\n",
    "            sample_sequences = []\n",
    "            for r in ref_objects:\n",
    "                sample_sequence = SampleSequence(sequence=r)\n",
    "                sample_sequence.set_core_mask(sample_core_masks[r.sequence_name])\n",
    "                sample_sequences.append(sample_sequence)\n",
    "            sample = Sample(name=s, variants=file_variants[s], sample_sequences=sample_sequences)\n",
    "            self._session.add(sample)\n",
    "            \n",
    "        self._session.commit()\n",
    "        \n",
    "    def pairwise_distance(self, samples: List[str], var_type = 'all', distance_type = 'jaccard') -> pd.DataFrame:\n",
    "        sample_objs = self._session.query(Sample).filter(Sample.name.in_(samples)).all()\n",
    "        \n",
    "        if var_type == 'all':\n",
    "            sample_variants = {s.name: {v.to_spdi() for v in s.variants} for s in sample_objs}\n",
    "        else:\n",
    "            sample_variants = {s.name: {v.to_spdi() for v in s.variants if v.var_type == var_type} for s in sample_objs}\n",
    "        \n",
    "        names = sample_variants.keys()\n",
    "        distances = []\n",
    "        for name1 in names:\n",
    "            row = []\n",
    "            for name2 in names:\n",
    "                if name1 == name2:\n",
    "                    row.append(0)\n",
    "                else:\n",
    "                    if distance_type == 'jaccard':\n",
    "                        logger.debug(f'variants1=[{sample_variants[name1]}]')\n",
    "                        logger.debug(f'variants2=[{sample_variants[name2]}]')\n",
    "                        intersection = sample_variants[name1].intersection(sample_variants[name2])\n",
    "                        union = sample_variants[name1].union(sample_variants[name2])\n",
    "                        \n",
    "                        row.append(1 - (len(intersection)/len(union)))\n",
    "                    else:\n",
    "                        raise Exception(f'Unsupported distance_type=[{distance_type}]')\n",
    "            distances.append(row)\n",
    "            \n",
    "        return pd.DataFrame(distances, columns=names, index=names)"
   ]
  },
  {
   "cell_type": "markdown",
   "metadata": {},
   "source": [
    "# Insert into database"
   ]
  },
  {
   "cell_type": "code",
   "execution_count": 7,
   "metadata": {},
   "outputs": [
    {
     "name": "stdout",
     "output_type": "stream",
     "text": [
      "2021-01-12 10:28:19,960 INFO sqlalchemy.engine.base.Engine SELECT CAST('test plain returns' AS VARCHAR(60)) AS anon_1\n",
      "2021-01-12 10:28:19,961 INFO sqlalchemy.engine.base.Engine ()\n",
      "2021-01-12 10:28:19,962 INFO sqlalchemy.engine.base.Engine SELECT CAST('test unicode returns' AS VARCHAR(60)) AS anon_1\n",
      "2021-01-12 10:28:19,963 INFO sqlalchemy.engine.base.Engine ()\n",
      "2021-01-12 10:28:19,965 INFO sqlalchemy.engine.base.Engine PRAGMA main.table_info(\"sample_variation_allele\")\n",
      "2021-01-12 10:28:19,965 INFO sqlalchemy.engine.base.Engine ()\n",
      "2021-01-12 10:28:19,966 INFO sqlalchemy.engine.base.Engine PRAGMA temp.table_info(\"sample_variation_allele\")\n",
      "2021-01-12 10:28:19,967 INFO sqlalchemy.engine.base.Engine ()\n",
      "2021-01-12 10:28:19,967 INFO sqlalchemy.engine.base.Engine PRAGMA main.table_info(\"variation_allele\")\n",
      "2021-01-12 10:28:19,968 INFO sqlalchemy.engine.base.Engine ()\n",
      "2021-01-12 10:28:19,968 INFO sqlalchemy.engine.base.Engine PRAGMA temp.table_info(\"variation_allele\")\n",
      "2021-01-12 10:28:19,969 INFO sqlalchemy.engine.base.Engine ()\n",
      "2021-01-12 10:28:19,971 INFO sqlalchemy.engine.base.Engine PRAGMA main.table_info(\"reference\")\n",
      "2021-01-12 10:28:19,971 INFO sqlalchemy.engine.base.Engine ()\n",
      "2021-01-12 10:28:19,972 INFO sqlalchemy.engine.base.Engine PRAGMA temp.table_info(\"reference\")\n",
      "2021-01-12 10:28:19,973 INFO sqlalchemy.engine.base.Engine ()\n",
      "2021-01-12 10:28:19,973 INFO sqlalchemy.engine.base.Engine PRAGMA main.table_info(\"sample_sequence\")\n",
      "2021-01-12 10:28:19,974 INFO sqlalchemy.engine.base.Engine ()\n",
      "2021-01-12 10:28:19,976 INFO sqlalchemy.engine.base.Engine PRAGMA temp.table_info(\"sample_sequence\")\n",
      "2021-01-12 10:28:19,976 INFO sqlalchemy.engine.base.Engine ()\n",
      "2021-01-12 10:28:19,978 INFO sqlalchemy.engine.base.Engine PRAGMA main.table_info(\"reference_sequence\")\n",
      "2021-01-12 10:28:19,978 INFO sqlalchemy.engine.base.Engine ()\n",
      "2021-01-12 10:28:19,979 INFO sqlalchemy.engine.base.Engine PRAGMA temp.table_info(\"reference_sequence\")\n",
      "2021-01-12 10:28:19,979 INFO sqlalchemy.engine.base.Engine ()\n",
      "2021-01-12 10:28:19,980 INFO sqlalchemy.engine.base.Engine PRAGMA main.table_info(\"sample\")\n",
      "2021-01-12 10:28:19,980 INFO sqlalchemy.engine.base.Engine ()\n",
      "2021-01-12 10:28:19,982 INFO sqlalchemy.engine.base.Engine PRAGMA temp.table_info(\"sample\")\n",
      "2021-01-12 10:28:19,983 INFO sqlalchemy.engine.base.Engine ()\n",
      "2021-01-12 10:28:19,985 INFO sqlalchemy.engine.base.Engine \n",
      "CREATE TABLE reference (\n",
      "\tid INTEGER NOT NULL, \n",
      "\tname VARCHAR(255), \n",
      "\tlength INTEGER, \n",
      "\tPRIMARY KEY (id)\n",
      ")\n",
      "\n",
      "\n",
      "2021-01-12 10:28:19,986 INFO sqlalchemy.engine.base.Engine ()\n",
      "2021-01-12 10:28:19,988 INFO sqlalchemy.engine.base.Engine COMMIT\n",
      "2021-01-12 10:28:19,989 INFO sqlalchemy.engine.base.Engine \n",
      "CREATE TABLE sample (\n",
      "\tid INTEGER NOT NULL, \n",
      "\tname VARCHAR(255), \n",
      "\tPRIMARY KEY (id)\n",
      ")\n",
      "\n",
      "\n",
      "2021-01-12 10:28:19,990 INFO sqlalchemy.engine.base.Engine ()\n",
      "2021-01-12 10:28:19,991 INFO sqlalchemy.engine.base.Engine COMMIT\n",
      "2021-01-12 10:28:19,992 INFO sqlalchemy.engine.base.Engine \n",
      "CREATE TABLE reference_sequence (\n",
      "\tid INTEGER NOT NULL, \n",
      "\treference_id INTEGER, \n",
      "\tsequence_name VARCHAR(255), \n",
      "\tsequence_length INTEGER, \n",
      "\tPRIMARY KEY (id), \n",
      "\tFOREIGN KEY(reference_id) REFERENCES reference (id)\n",
      ")\n",
      "\n",
      "\n",
      "2021-01-12 10:28:19,993 INFO sqlalchemy.engine.base.Engine ()\n",
      "2021-01-12 10:28:19,994 INFO sqlalchemy.engine.base.Engine COMMIT\n",
      "2021-01-12 10:28:19,995 INFO sqlalchemy.engine.base.Engine \n",
      "CREATE TABLE variation_allele (\n",
      "\tid VARCHAR NOT NULL, \n",
      "\tsequence_id VARCHAR, \n",
      "\tposition INTEGER NOT NULL, \n",
      "\tref VARCHAR(255) NOT NULL, \n",
      "\talt VARCHAR(255) NOT NULL, \n",
      "\tvar_type VARCHAR(255), \n",
      "\tPRIMARY KEY (id, position, ref, alt), \n",
      "\tFOREIGN KEY(sequence_id) REFERENCES reference_sequence (id)\n",
      ")\n",
      "\n",
      "\n",
      "2021-01-12 10:28:19,996 INFO sqlalchemy.engine.base.Engine ()\n",
      "2021-01-12 10:28:19,997 INFO sqlalchemy.engine.base.Engine COMMIT\n",
      "2021-01-12 10:28:19,998 INFO sqlalchemy.engine.base.Engine \n",
      "CREATE TABLE sample_sequence (\n",
      "\tsample_id INTEGER NOT NULL, \n",
      "\tsequence_id INTEGER NOT NULL, \n",
      "\tcore_mask BLOB, \n",
      "\tflag VARCHAR(255), \n",
      "\tPRIMARY KEY (sample_id, sequence_id), \n",
      "\tFOREIGN KEY(sample_id) REFERENCES sample (id), \n",
      "\tFOREIGN KEY(sequence_id) REFERENCES reference_sequence (id)\n",
      ")\n",
      "\n",
      "\n",
      "2021-01-12 10:28:20,000 INFO sqlalchemy.engine.base.Engine ()\n",
      "2021-01-12 10:28:20,001 INFO sqlalchemy.engine.base.Engine COMMIT\n",
      "2021-01-12 10:28:20,002 INFO sqlalchemy.engine.base.Engine \n",
      "CREATE TABLE sample_variation_allele (\n",
      "\tsample_id INTEGER, \n",
      "\tvariantion_allele_id VARCHAR, \n",
      "\tFOREIGN KEY(sample_id) REFERENCES sample (id), \n",
      "\tFOREIGN KEY(variantion_allele_id) REFERENCES variation_allele (id)\n",
      ")\n",
      "\n",
      "\n",
      "2021-01-12 10:28:20,004 INFO sqlalchemy.engine.base.Engine ()\n",
      "2021-01-12 10:28:20,005 INFO sqlalchemy.engine.base.Engine COMMIT\n"
     ]
    }
   ],
   "source": [
    "from sqlalchemy import create_engine\n",
    "from sqlalchemy.orm import sessionmaker\n",
    "\n",
    "engine = create_engine('sqlite:///:memory:', echo=True)\n",
    "\n",
    "Session = sessionmaker(bind=engine)\n",
    "session = Session()\n",
    "session\n",
    "\n",
    "Base.metadata.create_all(engine)"
   ]
  },
  {
   "cell_type": "code",
   "execution_count": 8,
   "metadata": {},
   "outputs": [
    {
     "name": "stdout",
     "output_type": "stream",
     "text": [
      "2021-01-12 10:28:20,012 INFO sqlalchemy.engine.base.Engine BEGIN (implicit)\n",
      "2021-01-12 10:28:20,013 INFO sqlalchemy.engine.base.Engine INSERT INTO reference (name, length) VALUES (?, ?)\n",
      "2021-01-12 10:28:20,014 INFO sqlalchemy.engine.base.Engine ('2011C-3609.fasta', 5412686)\n",
      "2021-01-12 10:28:20,017 INFO sqlalchemy.engine.base.Engine INSERT INTO reference_sequence (reference_id, sequence_name, sequence_length) VALUES (?, ?, ?)\n",
      "2021-01-12 10:28:20,018 INFO sqlalchemy.engine.base.Engine (1, 'JASV01000001.1', 521264)\n",
      "2021-01-12 10:28:20,020 INFO sqlalchemy.engine.base.Engine INSERT INTO reference_sequence (reference_id, sequence_name, sequence_length) VALUES (?, ?, ?)\n",
      "2021-01-12 10:28:20,021 INFO sqlalchemy.engine.base.Engine (1, 'JASV01000002.1', 6598)\n",
      "2021-01-12 10:28:20,022 INFO sqlalchemy.engine.base.Engine INSERT INTO reference_sequence (reference_id, sequence_name, sequence_length) VALUES (?, ?, ?)\n",
      "2021-01-12 10:28:20,023 INFO sqlalchemy.engine.base.Engine (1, 'JASV01000003.1', 225424)\n",
      "2021-01-12 10:28:20,024 INFO sqlalchemy.engine.base.Engine INSERT INTO reference_sequence (reference_id, sequence_name, sequence_length) VALUES (?, ?, ?)\n",
      "2021-01-12 10:28:20,025 INFO sqlalchemy.engine.base.Engine (1, 'JASV01000004.1', 3051854)\n",
      "2021-01-12 10:28:20,025 INFO sqlalchemy.engine.base.Engine INSERT INTO reference_sequence (reference_id, sequence_name, sequence_length) VALUES (?, ?, ?)\n",
      "2021-01-12 10:28:20,026 INFO sqlalchemy.engine.base.Engine (1, 'JASV01000005.1', 49092)\n",
      "2021-01-12 10:28:20,027 INFO sqlalchemy.engine.base.Engine INSERT INTO reference_sequence (reference_id, sequence_name, sequence_length) VALUES (?, ?, ?)\n",
      "2021-01-12 10:28:20,028 INFO sqlalchemy.engine.base.Engine (1, 'JASV01000006.1', 506004)\n",
      "2021-01-12 10:28:20,029 INFO sqlalchemy.engine.base.Engine INSERT INTO reference_sequence (reference_id, sequence_name, sequence_length) VALUES (?, ?, ?)\n",
      "2021-01-12 10:28:20,029 INFO sqlalchemy.engine.base.Engine (1, 'JASV01000007.1', 1052450)\n",
      "2021-01-12 10:28:20,031 INFO sqlalchemy.engine.base.Engine COMMIT\n"
     ]
    }
   ],
   "source": [
    "session.add(reference)\n",
    "session.commit()"
   ]
  },
  {
   "cell_type": "code",
   "execution_count": 9,
   "metadata": {},
   "outputs": [
    {
     "name": "stdout",
     "output_type": "stream",
     "text": [
      "2021-01-12 10:28:20,041 INFO sqlalchemy.engine.base.Engine BEGIN (implicit)\n",
      "2021-01-12 10:28:20,043 INFO sqlalchemy.engine.base.Engine SELECT reference.id AS reference_id, reference.name AS reference_name, reference.length AS reference_length \n",
      "FROM reference \n",
      "WHERE reference.id = ?\n",
      " LIMIT ? OFFSET ?\n",
      "2021-01-12 10:28:20,044 INFO sqlalchemy.engine.base.Engine (1, 1, 0)\n",
      "2021-01-12 10:28:20,048 INFO sqlalchemy.engine.base.Engine SELECT reference_sequence.id AS reference_sequence_id, reference_sequence.reference_id AS reference_sequence_reference_id, reference_sequence.sequence_name AS reference_sequence_sequence_name, reference_sequence.sequence_length AS reference_sequence_sequence_length \n",
      "FROM reference_sequence \n",
      "WHERE ? = reference_sequence.reference_id\n",
      "2021-01-12 10:28:20,049 INFO sqlalchemy.engine.base.Engine (1,)\n"
     ]
    },
    {
     "data": {
      "text/plain": [
       "{'JASV01000001.1': <ReferenceSequence(id=1, sequence_name=JASV01000001.1,sequence_length=521264, reference_id=1)>,\n",
       " 'JASV01000002.1': <ReferenceSequence(id=2, sequence_name=JASV01000002.1,sequence_length=6598, reference_id=1)>,\n",
       " 'JASV01000003.1': <ReferenceSequence(id=3, sequence_name=JASV01000003.1,sequence_length=225424, reference_id=1)>,\n",
       " 'JASV01000004.1': <ReferenceSequence(id=4, sequence_name=JASV01000004.1,sequence_length=3051854, reference_id=1)>,\n",
       " 'JASV01000005.1': <ReferenceSequence(id=5, sequence_name=JASV01000005.1,sequence_length=49092, reference_id=1)>,\n",
       " 'JASV01000006.1': <ReferenceSequence(id=6, sequence_name=JASV01000006.1,sequence_length=506004, reference_id=1)>,\n",
       " 'JASV01000007.1': <ReferenceSequence(id=7, sequence_name=JASV01000007.1,sequence_length=1052450, reference_id=1)>}"
      ]
     },
     "execution_count": 9,
     "metadata": {},
     "output_type": "execute_result"
    }
   ],
   "source": [
    "ref = session.query(Reference).filter_by(id = 1).first()\n",
    "ref_contigs = {c.sequence_name: c for c in ref.sequences}\n",
    "ref_contigs"
   ]
  },
  {
   "cell_type": "code",
   "execution_count": 10,
   "metadata": {},
   "outputs": [
    {
     "name": "stdout",
     "output_type": "stream",
     "text": [
      "2021-01-12 10:28:20,254 INFO sqlalchemy.engine.base.Engine INSERT INTO sample (name) VALUES (?)\n",
      "2021-01-12 10:28:20,255 INFO sqlalchemy.engine.base.Engine ('2014C-3857',)\n",
      "2021-01-12 10:28:20,257 INFO sqlalchemy.engine.base.Engine INSERT INTO sample (name) VALUES (?)\n",
      "2021-01-12 10:28:20,257 INFO sqlalchemy.engine.base.Engine ('2014C-3655',)\n",
      "2021-01-12 10:28:20,259 INFO sqlalchemy.engine.base.Engine INSERT INTO sample (name) VALUES (?)\n",
      "2021-01-12 10:28:20,260 INFO sqlalchemy.engine.base.Engine ('2014C-3598',)\n",
      "2021-01-12 10:28:20,261 INFO sqlalchemy.engine.base.Engine INSERT INTO sample (name) VALUES (?)\n",
      "2021-01-12 10:28:20,262 INFO sqlalchemy.engine.base.Engine ('2014C-3840',)\n",
      "2021-01-12 10:28:20,263 INFO sqlalchemy.engine.base.Engine INSERT INTO sample (name) VALUES (?)\n",
      "2021-01-12 10:28:20,263 INFO sqlalchemy.engine.base.Engine ('2014C-3599',)\n",
      "2021-01-12 10:28:20,264 INFO sqlalchemy.engine.base.Engine INSERT INTO sample (name) VALUES (?)\n",
      "2021-01-12 10:28:20,265 INFO sqlalchemy.engine.base.Engine ('2014C-3907',)\n",
      "2021-01-12 10:28:20,267 INFO sqlalchemy.engine.base.Engine INSERT INTO sample (name) VALUES (?)\n",
      "2021-01-12 10:28:20,268 INFO sqlalchemy.engine.base.Engine ('2014C-3656',)\n",
      "2021-01-12 10:28:20,269 INFO sqlalchemy.engine.base.Engine INSERT INTO sample (name) VALUES (?)\n",
      "2021-01-12 10:28:20,270 INFO sqlalchemy.engine.base.Engine ('2014C-3850',)\n",
      "2021-01-12 10:28:20,272 INFO sqlalchemy.engine.base.Engine INSERT INTO sample (name) VALUES (?)\n",
      "2021-01-12 10:28:20,273 INFO sqlalchemy.engine.base.Engine ('2014C-3600',)\n",
      "2021-01-12 10:28:20,291 INFO sqlalchemy.engine.base.Engine INSERT INTO variation_allele (id, sequence_id, position, ref, alt, var_type) VALUES (?, ?, ?, ?, ?, ?)\n",
      "2021-01-12 10:28:20,292 INFO sqlalchemy.engine.base.Engine (('JASV01000001.1:16854:T:C', 1, 16854, 'T', 'C', 'snp'), ('JASV01000001.1:16871:C:C', 1, 16871, 'C', 'C', 'del'), ('JASV01000001.1:16897:G:C', 1, 16897, 'G', 'C', 'snp'), ('JASV01000001.1:17327:T:TA', 1, 17327, 'T', 'TA', 'ins'), ('JASV01000001.1:17335:G:G', 1, 17335, 'G', 'G', 'del'), ('JASV01000001.1:17347:C:C', 1, 17347, 'C', 'C', 'del'), ('JASV01000001.1:17360:T:A', 1, 17360, 'T', 'A', 'snp'), ('JASV01000001.1:17468:T:C', 1, 17468, 'T', 'C', 'snp')  ... displaying 10 of 601 total bound parameter sets ...  ('JASV01000007.1:13994:C:A', 7, 13994, 'C', 'A', 'snp'), ('JASV01000007.1:963356:A:G', 7, 963356, 'A', 'G', 'snp'))\n",
      "2021-01-12 10:28:20,341 INFO sqlalchemy.engine.base.Engine INSERT INTO sample_variation_allele (sample_id, variantion_allele_id) VALUES (?, ?)\n",
      "2021-01-12 10:28:20,342 INFO sqlalchemy.engine.base.Engine ((8, 'JASV01000003.1:130955:T:A'), (6, 'JASV01000004.1:2567016:A:G'), (6, 'JASV01000004.1:2567073:T:C'), (8, 'JASV01000004.1:122990:G:A'), (6, 'JASV01000004.1:2567187:T:G'), (8, 'JASV01000004.1:255131:C:T'), (6, 'JASV01000004.1:2567253:A:G'), (8, 'JASV01000004.1:328321:G:T')  ... displaying 10 of 1353 total bound parameter sets ...  (6, 'JASV01000004.1:2563988:C:A'), (6, 'JASV01000004.1:2566944:A:G'))\n",
      "2021-01-12 10:28:20,345 INFO sqlalchemy.engine.base.Engine INSERT INTO sample_sequence (sample_id, sequence_id, core_mask, flag) VALUES (?, ?, ?, ?)\n",
      "2021-01-12 10:28:20,346 INFO sqlalchemy.engine.base.Engine ((1, 5, <memory at 0x7f8d755d1280>, None), (1, 4, <memory at 0x7f8d7560de80>, None), (1, 3, <memory at 0x7f8d75416340>, None), (1, 1, <memory at 0x7f8d75416400>, None), (1, 7, <memory at 0x7f8d75416040>, None), (1, 6, <memory at 0x7f8d75416100>, None), (2, 5, <memory at 0x7f8d75416580>, None), (2, 4, <memory at 0x7f8d75416280>, None)  ... displaying 10 of 55 total bound parameter sets ...  (9, 7, <memory at 0x7f8d751cc940>, None), (9, 6, <memory at 0x7f8d751cca00>, None))\n",
      "2021-01-12 10:28:20,355 INFO sqlalchemy.engine.base.Engine COMMIT\n"
     ]
    }
   ],
   "source": [
    "variation_service = VariationService(session)\n",
    "\n",
    "variation_service.insert_variants(df, ref_contigs, core_masks)"
   ]
  },
  {
   "cell_type": "code",
   "execution_count": 11,
   "metadata": {},
   "outputs": [
    {
     "name": "stdout",
     "output_type": "stream",
     "text": [
      "2021-01-12 10:28:20,364 INFO sqlalchemy.engine.base.Engine BEGIN (implicit)\n",
      "2021-01-12 10:28:20,366 INFO sqlalchemy.engine.base.Engine SELECT sample.id AS sample_id, sample.name AS sample_name \n",
      "FROM sample\n",
      " LIMIT ? OFFSET ?\n",
      "2021-01-12 10:28:20,367 INFO sqlalchemy.engine.base.Engine (1, 0)\n"
     ]
    },
    {
     "data": {
      "text/plain": [
       "<Sample(id=1, name=2014C-3857)>"
      ]
     },
     "execution_count": 11,
     "metadata": {},
     "output_type": "execute_result"
    }
   ],
   "source": [
    "s = session.query(Sample).first()\n",
    "s"
   ]
  },
  {
   "cell_type": "code",
   "execution_count": 12,
   "metadata": {},
   "outputs": [
    {
     "name": "stdout",
     "output_type": "stream",
     "text": [
      "2021-01-12 10:29:04,945 INFO sqlalchemy.engine.base.Engine SELECT sample_sequence.sample_id AS sample_sequence_sample_id, sample_sequence.sequence_id AS sample_sequence_sequence_id, sample_sequence.core_mask AS sample_sequence_core_mask, sample_sequence.flag AS sample_sequence_flag \n",
      "FROM sample_sequence \n",
      "WHERE ? = sample_sequence.sample_id\n",
      "2021-01-12 10:29:04,948 INFO sqlalchemy.engine.base.Engine (1,)\n",
      "2021-01-12 10:29:04,957 INFO sqlalchemy.engine.base.Engine SELECT reference_sequence.id AS reference_sequence_id, reference_sequence.reference_id AS reference_sequence_reference_id, reference_sequence.sequence_name AS reference_sequence_sequence_name, reference_sequence.sequence_length AS reference_sequence_sequence_length \n",
      "FROM reference_sequence \n",
      "WHERE reference_sequence.id = ?\n",
      "2021-01-12 10:29:04,959 INFO sqlalchemy.engine.base.Engine (3,)\n"
     ]
    },
    {
     "data": {
      "text/plain": [
       "0.8356652352899425"
      ]
     },
     "execution_count": 12,
     "metadata": {},
     "output_type": "execute_result"
    }
   ],
   "source": [
    "s.sample_sequences[1].get_core_mask().core_proportion()"
   ]
  },
  {
   "cell_type": "code",
   "execution_count": 31,
   "metadata": {},
   "outputs": [],
   "source": [
    "#variation_service.pairwise_distance(['2014C-3857', '2014C-3600'], var_type='snp')\n",
    "#variation_service.pairwise_distance(sample_names, var_type='snp')"
   ]
  },
  {
   "cell_type": "code",
   "execution_count": 14,
   "metadata": {},
   "outputs": [
    {
     "name": "stdout",
     "output_type": "stream",
     "text": [
      "2021-01-12 10:30:02,724 INFO sqlalchemy.engine.base.Engine SELECT variation_allele.id AS variation_allele_id, variation_allele.sequence_id AS variation_allele_sequence_id, variation_allele.position AS variation_allele_position, variation_allele.ref AS variation_allele_ref, variation_allele.alt AS variation_allele_alt, variation_allele.var_type AS variation_allele_var_type \n",
      "FROM variation_allele \n",
      "WHERE variation_allele.position = ?\n",
      "2021-01-12 10:30:02,725 INFO sqlalchemy.engine.base.Engine (16854,)\n"
     ]
    },
    {
     "data": {
      "text/plain": [
       "[<VariationAllele(sequence_name=JASV01000001.1, position=16854, ref=T, alt=C, var_type=snp)>]"
      ]
     },
     "execution_count": 14,
     "metadata": {},
     "output_type": "execute_result"
    }
   ],
   "source": [
    "v = session.query(VariationAllele).filter_by(position = 16854).all()\n",
    "v"
   ]
  },
  {
   "cell_type": "code",
   "execution_count": 15,
   "metadata": {},
   "outputs": [
    {
     "data": {
      "text/plain": [
       "<ReferenceSequence(id=1, sequence_name=JASV01000001.1,sequence_length=521264, reference_id=1)>"
      ]
     },
     "execution_count": 15,
     "metadata": {},
     "output_type": "execute_result"
    }
   ],
   "source": [
    "v[0].sequence"
   ]
  },
  {
   "cell_type": "code",
   "execution_count": 16,
   "metadata": {},
   "outputs": [
    {
     "name": "stdout",
     "output_type": "stream",
     "text": [
      "2021-01-12 10:30:13,261 INFO sqlalchemy.engine.base.Engine SELECT reference_sequence.id AS reference_sequence_id, reference_sequence.reference_id AS reference_sequence_reference_id, reference_sequence.sequence_name AS reference_sequence_sequence_name, reference_sequence.sequence_length AS reference_sequence_sequence_length \n",
      "FROM reference_sequence \n",
      "WHERE reference_sequence.sequence_name = ?\n",
      " LIMIT ? OFFSET ?\n",
      "2021-01-12 10:30:13,267 INFO sqlalchemy.engine.base.Engine ('JASV01000003.1', 1, 0)\n"
     ]
    },
    {
     "data": {
      "text/plain": [
       "<ReferenceSequence(id=3, sequence_name=JASV01000003.1,sequence_length=225424, reference_id=1)>"
      ]
     },
     "execution_count": 16,
     "metadata": {},
     "output_type": "execute_result"
    }
   ],
   "source": [
    "r = session.query(ReferenceSequence).filter_by(sequence_name = 'JASV01000003.1').first()\n",
    "r"
   ]
  },
  {
   "cell_type": "code",
   "execution_count": 17,
   "metadata": {},
   "outputs": [
    {
     "name": "stdout",
     "output_type": "stream",
     "text": [
      "2021-01-12 10:30:23,599 INFO sqlalchemy.engine.base.Engine SELECT variation_allele.id AS variation_allele_id, variation_allele.sequence_id AS variation_allele_sequence_id, variation_allele.position AS variation_allele_position, variation_allele.ref AS variation_allele_ref, variation_allele.alt AS variation_allele_alt, variation_allele.var_type AS variation_allele_var_type \n",
      "FROM variation_allele \n",
      "WHERE ? = variation_allele.sequence_id\n",
      "2021-01-12 10:30:23,602 INFO sqlalchemy.engine.base.Engine (3,)\n",
      "2021-01-12 10:30:23,608 INFO sqlalchemy.engine.base.Engine SELECT reference_sequence.id AS reference_sequence_id, reference_sequence.reference_id AS reference_sequence_reference_id, reference_sequence.sequence_name AS reference_sequence_sequence_name, reference_sequence.sequence_length AS reference_sequence_sequence_length \n",
      "FROM reference_sequence \n",
      "WHERE reference_sequence.id = ?\n",
      "2021-01-12 10:30:23,610 INFO sqlalchemy.engine.base.Engine ('3',)\n",
      "2021-01-12 10:30:23,611 INFO sqlalchemy.engine.base.Engine SELECT reference_sequence.id AS reference_sequence_id, reference_sequence.reference_id AS reference_sequence_reference_id, reference_sequence.sequence_name AS reference_sequence_sequence_name, reference_sequence.sequence_length AS reference_sequence_sequence_length \n",
      "FROM reference_sequence \n",
      "WHERE reference_sequence.id = ?\n",
      "2021-01-12 10:30:23,613 INFO sqlalchemy.engine.base.Engine ('3',)\n",
      "2021-01-12 10:30:23,616 INFO sqlalchemy.engine.base.Engine SELECT reference_sequence.id AS reference_sequence_id, reference_sequence.reference_id AS reference_sequence_reference_id, reference_sequence.sequence_name AS reference_sequence_sequence_name, reference_sequence.sequence_length AS reference_sequence_sequence_length \n",
      "FROM reference_sequence \n",
      "WHERE reference_sequence.id = ?\n",
      "2021-01-12 10:30:23,617 INFO sqlalchemy.engine.base.Engine ('3',)\n",
      "2021-01-12 10:30:23,619 INFO sqlalchemy.engine.base.Engine SELECT reference_sequence.id AS reference_sequence_id, reference_sequence.reference_id AS reference_sequence_reference_id, reference_sequence.sequence_name AS reference_sequence_sequence_name, reference_sequence.sequence_length AS reference_sequence_sequence_length \n",
      "FROM reference_sequence \n",
      "WHERE reference_sequence.id = ?\n",
      "2021-01-12 10:30:23,621 INFO sqlalchemy.engine.base.Engine ('3',)\n",
      "2021-01-12 10:30:23,622 INFO sqlalchemy.engine.base.Engine SELECT reference_sequence.id AS reference_sequence_id, reference_sequence.reference_id AS reference_sequence_reference_id, reference_sequence.sequence_name AS reference_sequence_sequence_name, reference_sequence.sequence_length AS reference_sequence_sequence_length \n",
      "FROM reference_sequence \n",
      "WHERE reference_sequence.id = ?\n",
      "2021-01-12 10:30:23,624 INFO sqlalchemy.engine.base.Engine ('3',)\n",
      "2021-01-12 10:30:23,625 INFO sqlalchemy.engine.base.Engine SELECT reference_sequence.id AS reference_sequence_id, reference_sequence.reference_id AS reference_sequence_reference_id, reference_sequence.sequence_name AS reference_sequence_sequence_name, reference_sequence.sequence_length AS reference_sequence_sequence_length \n",
      "FROM reference_sequence \n",
      "WHERE reference_sequence.id = ?\n",
      "2021-01-12 10:30:23,626 INFO sqlalchemy.engine.base.Engine ('3',)\n",
      "2021-01-12 10:30:23,627 INFO sqlalchemy.engine.base.Engine SELECT reference_sequence.id AS reference_sequence_id, reference_sequence.reference_id AS reference_sequence_reference_id, reference_sequence.sequence_name AS reference_sequence_sequence_name, reference_sequence.sequence_length AS reference_sequence_sequence_length \n",
      "FROM reference_sequence \n",
      "WHERE reference_sequence.id = ?\n",
      "2021-01-12 10:30:23,628 INFO sqlalchemy.engine.base.Engine ('3',)\n",
      "2021-01-12 10:30:23,629 INFO sqlalchemy.engine.base.Engine SELECT reference_sequence.id AS reference_sequence_id, reference_sequence.reference_id AS reference_sequence_reference_id, reference_sequence.sequence_name AS reference_sequence_sequence_name, reference_sequence.sequence_length AS reference_sequence_sequence_length \n",
      "FROM reference_sequence \n",
      "WHERE reference_sequence.id = ?\n",
      "2021-01-12 10:30:23,630 INFO sqlalchemy.engine.base.Engine ('3',)\n",
      "2021-01-12 10:30:23,631 INFO sqlalchemy.engine.base.Engine SELECT reference_sequence.id AS reference_sequence_id, reference_sequence.reference_id AS reference_sequence_reference_id, reference_sequence.sequence_name AS reference_sequence_sequence_name, reference_sequence.sequence_length AS reference_sequence_sequence_length \n",
      "FROM reference_sequence \n",
      "WHERE reference_sequence.id = ?\n",
      "2021-01-12 10:30:23,632 INFO sqlalchemy.engine.base.Engine ('3',)\n",
      "2021-01-12 10:30:23,633 INFO sqlalchemy.engine.base.Engine SELECT reference_sequence.id AS reference_sequence_id, reference_sequence.reference_id AS reference_sequence_reference_id, reference_sequence.sequence_name AS reference_sequence_sequence_name, reference_sequence.sequence_length AS reference_sequence_sequence_length \n",
      "FROM reference_sequence \n",
      "WHERE reference_sequence.id = ?\n",
      "2021-01-12 10:30:23,634 INFO sqlalchemy.engine.base.Engine ('3',)\n",
      "2021-01-12 10:30:23,635 INFO sqlalchemy.engine.base.Engine SELECT reference_sequence.id AS reference_sequence_id, reference_sequence.reference_id AS reference_sequence_reference_id, reference_sequence.sequence_name AS reference_sequence_sequence_name, reference_sequence.sequence_length AS reference_sequence_sequence_length \n",
      "FROM reference_sequence \n",
      "WHERE reference_sequence.id = ?\n",
      "2021-01-12 10:30:23,635 INFO sqlalchemy.engine.base.Engine ('3',)\n",
      "2021-01-12 10:30:23,637 INFO sqlalchemy.engine.base.Engine SELECT reference_sequence.id AS reference_sequence_id, reference_sequence.reference_id AS reference_sequence_reference_id, reference_sequence.sequence_name AS reference_sequence_sequence_name, reference_sequence.sequence_length AS reference_sequence_sequence_length \n",
      "FROM reference_sequence \n",
      "WHERE reference_sequence.id = ?\n",
      "2021-01-12 10:30:23,638 INFO sqlalchemy.engine.base.Engine ('3',)\n",
      "2021-01-12 10:30:23,640 INFO sqlalchemy.engine.base.Engine SELECT reference_sequence.id AS reference_sequence_id, reference_sequence.reference_id AS reference_sequence_reference_id, reference_sequence.sequence_name AS reference_sequence_sequence_name, reference_sequence.sequence_length AS reference_sequence_sequence_length \n",
      "FROM reference_sequence \n",
      "WHERE reference_sequence.id = ?\n",
      "2021-01-12 10:30:23,641 INFO sqlalchemy.engine.base.Engine ('3',)\n",
      "2021-01-12 10:30:23,642 INFO sqlalchemy.engine.base.Engine SELECT reference_sequence.id AS reference_sequence_id, reference_sequence.reference_id AS reference_sequence_reference_id, reference_sequence.sequence_name AS reference_sequence_sequence_name, reference_sequence.sequence_length AS reference_sequence_sequence_length \n",
      "FROM reference_sequence \n",
      "WHERE reference_sequence.id = ?\n",
      "2021-01-12 10:30:23,643 INFO sqlalchemy.engine.base.Engine ('3',)\n",
      "2021-01-12 10:30:23,644 INFO sqlalchemy.engine.base.Engine SELECT reference_sequence.id AS reference_sequence_id, reference_sequence.reference_id AS reference_sequence_reference_id, reference_sequence.sequence_name AS reference_sequence_sequence_name, reference_sequence.sequence_length AS reference_sequence_sequence_length \n",
      "FROM reference_sequence \n",
      "WHERE reference_sequence.id = ?\n",
      "2021-01-12 10:30:23,646 INFO sqlalchemy.engine.base.Engine ('3',)\n",
      "2021-01-12 10:30:23,647 INFO sqlalchemy.engine.base.Engine SELECT reference_sequence.id AS reference_sequence_id, reference_sequence.reference_id AS reference_sequence_reference_id, reference_sequence.sequence_name AS reference_sequence_sequence_name, reference_sequence.sequence_length AS reference_sequence_sequence_length \n",
      "FROM reference_sequence \n",
      "WHERE reference_sequence.id = ?\n",
      "2021-01-12 10:30:23,648 INFO sqlalchemy.engine.base.Engine ('3',)\n",
      "2021-01-12 10:30:23,649 INFO sqlalchemy.engine.base.Engine SELECT reference_sequence.id AS reference_sequence_id, reference_sequence.reference_id AS reference_sequence_reference_id, reference_sequence.sequence_name AS reference_sequence_sequence_name, reference_sequence.sequence_length AS reference_sequence_sequence_length \n",
      "FROM reference_sequence \n",
      "WHERE reference_sequence.id = ?\n",
      "2021-01-12 10:30:23,650 INFO sqlalchemy.engine.base.Engine ('3',)\n",
      "2021-01-12 10:30:23,651 INFO sqlalchemy.engine.base.Engine SELECT reference_sequence.id AS reference_sequence_id, reference_sequence.reference_id AS reference_sequence_reference_id, reference_sequence.sequence_name AS reference_sequence_sequence_name, reference_sequence.sequence_length AS reference_sequence_sequence_length \n",
      "FROM reference_sequence \n",
      "WHERE reference_sequence.id = ?\n",
      "2021-01-12 10:30:23,652 INFO sqlalchemy.engine.base.Engine ('3',)\n",
      "2021-01-12 10:30:23,654 INFO sqlalchemy.engine.base.Engine SELECT reference_sequence.id AS reference_sequence_id, reference_sequence.reference_id AS reference_sequence_reference_id, reference_sequence.sequence_name AS reference_sequence_sequence_name, reference_sequence.sequence_length AS reference_sequence_sequence_length \n",
      "FROM reference_sequence \n",
      "WHERE reference_sequence.id = ?\n",
      "2021-01-12 10:30:23,655 INFO sqlalchemy.engine.base.Engine ('3',)\n",
      "2021-01-12 10:30:23,656 INFO sqlalchemy.engine.base.Engine SELECT reference_sequence.id AS reference_sequence_id, reference_sequence.reference_id AS reference_sequence_reference_id, reference_sequence.sequence_name AS reference_sequence_sequence_name, reference_sequence.sequence_length AS reference_sequence_sequence_length \n",
      "FROM reference_sequence \n",
      "WHERE reference_sequence.id = ?\n",
      "2021-01-12 10:30:23,658 INFO sqlalchemy.engine.base.Engine ('3',)\n",
      "2021-01-12 10:30:23,660 INFO sqlalchemy.engine.base.Engine SELECT reference_sequence.id AS reference_sequence_id, reference_sequence.reference_id AS reference_sequence_reference_id, reference_sequence.sequence_name AS reference_sequence_sequence_name, reference_sequence.sequence_length AS reference_sequence_sequence_length \n",
      "FROM reference_sequence \n",
      "WHERE reference_sequence.id = ?\n",
      "2021-01-12 10:30:23,661 INFO sqlalchemy.engine.base.Engine ('3',)\n",
      "2021-01-12 10:30:23,662 INFO sqlalchemy.engine.base.Engine SELECT reference_sequence.id AS reference_sequence_id, reference_sequence.reference_id AS reference_sequence_reference_id, reference_sequence.sequence_name AS reference_sequence_sequence_name, reference_sequence.sequence_length AS reference_sequence_sequence_length \n",
      "FROM reference_sequence \n",
      "WHERE reference_sequence.id = ?\n",
      "2021-01-12 10:30:23,663 INFO sqlalchemy.engine.base.Engine ('3',)\n",
      "2021-01-12 10:30:23,664 INFO sqlalchemy.engine.base.Engine SELECT reference_sequence.id AS reference_sequence_id, reference_sequence.reference_id AS reference_sequence_reference_id, reference_sequence.sequence_name AS reference_sequence_sequence_name, reference_sequence.sequence_length AS reference_sequence_sequence_length \n",
      "FROM reference_sequence \n",
      "WHERE reference_sequence.id = ?\n",
      "2021-01-12 10:30:23,666 INFO sqlalchemy.engine.base.Engine ('3',)\n"
     ]
    },
    {
     "data": {
      "text/plain": [
       "[<VariationAllele(sequence_name=JASV01000003.1, position=5707, ref=C, alt=T, var_type=snp)>,\n",
       " <VariationAllele(sequence_name=JASV01000003.1, position=45994, ref=G, alt=A, var_type=snp)>,\n",
       " <VariationAllele(sequence_name=JASV01000003.1, position=61267, ref=C, alt=G, var_type=snp)>,\n",
       " <VariationAllele(sequence_name=JASV01000003.1, position=195762, ref=G, alt=A, var_type=snp)>,\n",
       " <VariationAllele(sequence_name=JASV01000003.1, position=58901, ref=G, alt=G, var_type=del)>,\n",
       " <VariationAllele(sequence_name=JASV01000003.1, position=128740, ref=T, alt=A, var_type=snp)>,\n",
       " <VariationAllele(sequence_name=JASV01000003.1, position=153954, ref=G, alt=A, var_type=snp)>,\n",
       " <VariationAllele(sequence_name=JASV01000003.1, position=221906, ref=G, alt=A, var_type=snp)>,\n",
       " <VariationAllele(sequence_name=JASV01000003.1, position=31056, ref=T, alt=T, var_type=del)>,\n",
       " <VariationAllele(sequence_name=JASV01000003.1, position=56439, ref=G, alt=A, var_type=snp)>,\n",
       " <VariationAllele(sequence_name=JASV01000003.1, position=90915, ref=G, alt=A, var_type=snp)>,\n",
       " <VariationAllele(sequence_name=JASV01000003.1, position=95742, ref=G, alt=A, var_type=snp)>,\n",
       " <VariationAllele(sequence_name=JASV01000003.1, position=145995, ref=T, alt=A, var_type=snp)>,\n",
       " <VariationAllele(sequence_name=JASV01000003.1, position=167383, ref=T, alt=A, var_type=snp)>,\n",
       " <VariationAllele(sequence_name=JASV01000003.1, position=16201, ref=G, alt=T, var_type=snp)>,\n",
       " <VariationAllele(sequence_name=JASV01000003.1, position=83283, ref=A, alt=G, var_type=snp)>,\n",
       " <VariationAllele(sequence_name=JASV01000003.1, position=148435, ref=C, alt=T, var_type=snp)>,\n",
       " <VariationAllele(sequence_name=JASV01000003.1, position=7365, ref=G, alt=A, var_type=snp)>,\n",
       " <VariationAllele(sequence_name=JASV01000003.1, position=58489, ref=C, alt=CA, var_type=ins)>,\n",
       " <VariationAllele(sequence_name=JASV01000003.1, position=112947, ref=A, alt=C, var_type=snp)>,\n",
       " <VariationAllele(sequence_name=JASV01000003.1, position=128570, ref=A, alt=G, var_type=snp)>,\n",
       " <VariationAllele(sequence_name=JASV01000003.1, position=203919, ref=C, alt=T, var_type=snp)>,\n",
       " <VariationAllele(sequence_name=JASV01000003.1, position=213803, ref=T, alt=C, var_type=snp)>,\n",
       " <VariationAllele(sequence_name=JASV01000003.1, position=22380, ref=G, alt=A, var_type=snp)>,\n",
       " <VariationAllele(sequence_name=JASV01000003.1, position=32838, ref=G, alt=A, var_type=snp)>,\n",
       " <VariationAllele(sequence_name=JASV01000003.1, position=123890, ref=G, alt=A, var_type=snp)>,\n",
       " <VariationAllele(sequence_name=JASV01000003.1, position=130955, ref=T, alt=A, var_type=snp)>]"
      ]
     },
     "execution_count": 17,
     "metadata": {},
     "output_type": "execute_result"
    }
   ],
   "source": [
    "r.variants"
   ]
  },
  {
   "cell_type": "code",
   "execution_count": 18,
   "metadata": {},
   "outputs": [
    {
     "name": "stdout",
     "output_type": "stream",
     "text": [
      "2021-01-12 10:30:39,410 INFO sqlalchemy.engine.base.Engine SELECT sample.id AS sample_id, sample.name AS sample_name \n",
      "FROM sample \n",
      "WHERE sample.name = ?\n",
      " LIMIT ? OFFSET ?\n",
      "2021-01-12 10:30:39,413 INFO sqlalchemy.engine.base.Engine ('2014C-3857', 1, 0)\n"
     ]
    },
    {
     "data": {
      "text/plain": [
       "<Sample(id=1, name=2014C-3857)>"
      ]
     },
     "execution_count": 18,
     "metadata": {},
     "output_type": "execute_result"
    }
   ],
   "source": [
    "s = session.query(Sample).filter_by(name='2014C-3857').first()\n",
    "s"
   ]
  },
  {
   "cell_type": "code",
   "execution_count": 19,
   "metadata": {},
   "outputs": [
    {
     "data": {
      "text/plain": [
       "[<SampleSequence(sample_id=1, sequence_id=1, flag=None)>,\n",
       " <SampleSequence(sample_id=1, sequence_id=3, flag=None)>,\n",
       " <SampleSequence(sample_id=1, sequence_id=4, flag=None)>,\n",
       " <SampleSequence(sample_id=1, sequence_id=5, flag=None)>,\n",
       " <SampleSequence(sample_id=1, sequence_id=6, flag=None)>,\n",
       " <SampleSequence(sample_id=1, sequence_id=7, flag=None)>]"
      ]
     },
     "execution_count": 19,
     "metadata": {},
     "output_type": "execute_result"
    }
   ],
   "source": [
    "s.sample_sequences"
   ]
  },
  {
   "cell_type": "code",
   "execution_count": 20,
   "metadata": {},
   "outputs": [
    {
     "data": {
      "text/plain": [
       "'JASV01000001.1:16871:C:C'"
      ]
     },
     "execution_count": 20,
     "metadata": {},
     "output_type": "execute_result"
    }
   ],
   "source": [
    "s.variants[0].id"
   ]
  },
  {
   "cell_type": "code",
   "execution_count": 21,
   "metadata": {},
   "outputs": [
    {
     "name": "stdout",
     "output_type": "stream",
     "text": [
      "2021-01-12 10:30:47,085 INFO sqlalchemy.engine.base.Engine SELECT variation_allele.id AS variation_allele_id, variation_allele.sequence_id AS variation_allele_sequence_id, variation_allele.position AS variation_allele_position, variation_allele.ref AS variation_allele_ref, variation_allele.alt AS variation_allele_alt, variation_allele.var_type AS variation_allele_var_type \n",
      "FROM variation_allele \n",
      "WHERE variation_allele.id = ?\n",
      " LIMIT ? OFFSET ?\n",
      "2021-01-12 10:30:47,086 INFO sqlalchemy.engine.base.Engine ('JASV01000001.1:16854:T:C', 1, 0)\n",
      "2021-01-12 10:30:47,088 INFO sqlalchemy.engine.base.Engine SELECT sample.id AS sample_id, sample.name AS sample_name \n",
      "FROM sample, sample_variation_allele \n",
      "WHERE ? = sample_variation_allele.variantion_allele_id AND sample.id = sample_variation_allele.sample_id\n",
      "2021-01-12 10:30:47,092 INFO sqlalchemy.engine.base.Engine ('JASV01000001.1:16854:T:C',)\n"
     ]
    },
    {
     "data": {
      "text/plain": [
       "[<Sample(id=1, name=2014C-3857)>,\n",
       " <Sample(id=2, name=2014C-3655)>,\n",
       " <Sample(id=3, name=2014C-3598)>,\n",
       " <Sample(id=4, name=2014C-3840)>,\n",
       " <Sample(id=5, name=2014C-3599)>,\n",
       " <Sample(id=6, name=2014C-3907)>,\n",
       " <Sample(id=7, name=2014C-3656)>,\n",
       " <Sample(id=8, name=2014C-3850)>,\n",
       " <Sample(id=9, name=2014C-3600)>]"
      ]
     },
     "execution_count": 21,
     "metadata": {},
     "output_type": "execute_result"
    }
   ],
   "source": [
    "v = session.query(VariationAllele).filter_by(id='JASV01000001.1:16854:T:C').first()\n",
    "v.samples"
   ]
  },
  {
   "cell_type": "code",
   "execution_count": 22,
   "metadata": {},
   "outputs": [
    {
     "name": "stdout",
     "output_type": "stream",
     "text": [
      "2021-01-12 10:30:49,722 INFO sqlalchemy.engine.base.Engine SELECT sample_sequence.sample_id AS sample_sequence_sample_id, sample_sequence.sequence_id AS sample_sequence_sequence_id, sample_sequence.core_mask AS sample_sequence_core_mask, sample_sequence.flag AS sample_sequence_flag \n",
      "FROM sample_sequence\n",
      " LIMIT ? OFFSET ?\n",
      "2021-01-12 10:30:49,728 INFO sqlalchemy.engine.base.Engine (1, 0)\n"
     ]
    },
    {
     "data": {
      "text/plain": [
       "<SampleSequence(sample_id=1, sequence_id=5, flag=None)>"
      ]
     },
     "execution_count": 22,
     "metadata": {},
     "output_type": "execute_result"
    }
   ],
   "source": [
    "ss = session.query(SampleSequence).first()\n",
    "ss"
   ]
  },
  {
   "cell_type": "code",
   "execution_count": 23,
   "metadata": {},
   "outputs": [
    {
     "data": {
      "text/plain": [
       "31161"
      ]
     },
     "execution_count": 23,
     "metadata": {},
     "output_type": "execute_result"
    }
   ],
   "source": [
    "ss.get_core_mask().core_length()"
   ]
  },
  {
   "cell_type": "code",
   "execution_count": 24,
   "metadata": {},
   "outputs": [
    {
     "data": {
      "text/plain": [
       "0.6347470056220973"
      ]
     },
     "execution_count": 24,
     "metadata": {},
     "output_type": "execute_result"
    }
   ],
   "source": [
    "ss.get_core_mask().core_proportion()"
   ]
  },
  {
   "cell_type": "code",
   "execution_count": 25,
   "metadata": {},
   "outputs": [
    {
     "name": "stdout",
     "output_type": "stream",
     "text": [
      "<ReferenceSequence(id=5, sequence_name=JASV01000005.1,sequence_length=49092, reference_id=1)>\n",
      "<Sample(id=1, name=2014C-3857)>\n"
     ]
    }
   ],
   "source": [
    "print(ss.sequence)\n",
    "print(ss.sample)"
   ]
  },
  {
   "cell_type": "code",
   "execution_count": 26,
   "metadata": {},
   "outputs": [
    {
     "data": {
      "text/plain": [
       "49092"
      ]
     },
     "execution_count": 26,
     "metadata": {},
     "output_type": "execute_result"
    }
   ],
   "source": [
    "len(ss.get_core_mask())"
   ]
  },
  {
   "cell_type": "markdown",
   "metadata": {},
   "source": [
    "# References"
   ]
  },
  {
   "cell_type": "code",
   "execution_count": 27,
   "metadata": {},
   "outputs": [
    {
     "data": {
      "text/plain": [
       "'GTTTTACTGA'"
      ]
     },
     "execution_count": 27,
     "metadata": {},
     "output_type": "execute_result"
    }
   ],
   "source": [
    "from biocommons.seqrepo import SeqRepo\n",
    "import ga4gh.vrs.dataproxy as dataproxy\n",
    "\n",
    "sr = SeqRepo(\"data/references\")\n",
    "ref_proxy = dataproxy.SeqRepoDataProxy(sr)\n",
    "ref_proxy.get_sequence('NCBI:JASV01000002.1', 0, 10)"
   ]
  },
  {
   "cell_type": "markdown",
   "metadata": {},
   "source": [
    "# Construct alignment"
   ]
  },
  {
   "cell_type": "code",
   "execution_count": 28,
   "metadata": {},
   "outputs": [
    {
     "name": "stdout",
     "output_type": "stream",
     "text": [
      "2021-01-12 10:31:08,814 INFO sqlalchemy.engine.base.Engine SELECT reference.id AS reference_id, reference.name AS reference_name, reference.length AS reference_length \n",
      "FROM reference\n",
      " LIMIT ? OFFSET ?\n",
      "2021-01-12 10:31:08,817 INFO sqlalchemy.engine.base.Engine (1, 0)\n"
     ]
    },
    {
     "data": {
      "text/plain": [
       "<Reference(id=1, name=2011C-3609.fasta, length=5412686)>"
      ]
     },
     "execution_count": 28,
     "metadata": {},
     "output_type": "execute_result"
    }
   ],
   "source": [
    "reference = session.query(Reference).first()\n",
    "reference"
   ]
  },
  {
   "cell_type": "code",
   "execution_count": 29,
   "metadata": {},
   "outputs": [
    {
     "name": "stdout",
     "output_type": "stream",
     "text": [
      "2021-01-12 10:31:09,815 INFO sqlalchemy.engine.base.Engine SELECT reference_sequence.id AS reference_sequence_id, reference_sequence.reference_id AS reference_sequence_reference_id, reference_sequence.sequence_name AS reference_sequence_sequence_name, reference_sequence.sequence_length AS reference_sequence_sequence_length \n",
      "FROM reference_sequence \n",
      "WHERE ? = reference_sequence.reference_id\n",
      "2021-01-12 10:31:09,817 INFO sqlalchemy.engine.base.Engine (1,)\n"
     ]
    },
    {
     "data": {
      "text/plain": [
       "'JASV01000001.1'"
      ]
     },
     "execution_count": 29,
     "metadata": {},
     "output_type": "execute_result"
    }
   ],
   "source": [
    "sequence = reference.sequences[0]\n",
    "sequence.sequence_name"
   ]
  },
  {
   "cell_type": "code",
   "execution_count": 30,
   "metadata": {},
   "outputs": [
    {
     "name": "stdout",
     "output_type": "stream",
     "text": [
      "2021-01-12 10:31:12,062 INFO sqlalchemy.engine.base.Engine SELECT sample_sequence.sample_id AS sample_sequence_sample_id, sample_sequence.sequence_id AS sample_sequence_sequence_id, sample_sequence.core_mask AS sample_sequence_core_mask, sample_sequence.flag AS sample_sequence_flag \n",
      "FROM sample_sequence \n",
      "WHERE sample_sequence.sequence_id = ?\n",
      "2021-01-12 10:31:12,063 INFO sqlalchemy.engine.base.Engine (1,)\n"
     ]
    },
    {
     "data": {
      "text/plain": [
       "[<SampleSequence(sample_id=1, sequence_id=1, flag=None)>,\n",
       " <SampleSequence(sample_id=2, sequence_id=1, flag=None)>,\n",
       " <SampleSequence(sample_id=3, sequence_id=1, flag=None)>,\n",
       " <SampleSequence(sample_id=4, sequence_id=1, flag=None)>,\n",
       " <SampleSequence(sample_id=5, sequence_id=1, flag=None)>,\n",
       " <SampleSequence(sample_id=6, sequence_id=1, flag=None)>,\n",
       " <SampleSequence(sample_id=7, sequence_id=1, flag=None)>,\n",
       " <SampleSequence(sample_id=8, sequence_id=1, flag=None)>,\n",
       " <SampleSequence(sample_id=9, sequence_id=1, flag=None)>]"
      ]
     },
     "execution_count": 30,
     "metadata": {},
     "output_type": "execute_result"
    }
   ],
   "source": [
    "sample_sequences = session.query(SampleSequence).filter(SampleSequence.sequence_id == sequence.id).all()\n",
    "sample_sequences"
   ]
  },
  {
   "cell_type": "code",
   "execution_count": null,
   "metadata": {},
   "outputs": [],
   "source": [
    "sample_sequences[0].sample"
   ]
  },
  {
   "cell_type": "code",
   "execution_count": null,
   "metadata": {},
   "outputs": [],
   "source": [
    "session.query()"
   ]
  },
  {
   "cell_type": "code",
   "execution_count": null,
   "metadata": {},
   "outputs": [],
   "source": [
    "reference.sequences[1].variants"
   ]
  },
  {
   "cell_type": "code",
   "execution_count": null,
   "metadata": {},
   "outputs": [],
   "source": [
    "samples = [session.query(Sample).first()]\n",
    "samples"
   ]
  },
  {
   "cell_type": "code",
   "execution_count": null,
   "metadata": {},
   "outputs": [],
   "source": [
    "samples[0].variants[0].sequence"
   ]
  },
  {
   "cell_type": "code",
   "execution_count": null,
   "metadata": {},
   "outputs": [],
   "source": [
    "for sample in samples:\n",
    "    for variant in sample.variants:\n",
    "        "
   ]
  },
  {
   "cell_type": "code",
   "execution_count": null,
   "metadata": {},
   "outputs": [],
   "source": [
    "samples[0].variants"
   ]
  },
  {
   "cell_type": "code",
   "execution_count": null,
   "metadata": {},
   "outputs": [],
   "source": [
    "import Bio\n",
    "import pandas as pd\n",
    "import ga4gh.vrs.dataproxy as dataproxy\n",
    "import sqlalchemy\n",
    "\n",
    "class CoreAlignmentConstructor:\n",
    "    \n",
    "    def __init__(self, session: sqlalchemy.orm.session.Session, reference_data_proxy: dataproxy.SeqRepoDataProxy):\n",
    "        self._session = session\n",
    "        self._ref_proxy = reference_data_proxy\n",
    "        \n",
    "    def construct_alignment(self, reference_seq: ReferenceSequence, samples: List[Sample], include_reference: bool = True) -> Bio.Align.MultipleSeqAlignment:\n",
    "        file_seqs = {}\n",
    "        chrom_alignments = {}\n",
    "        all_files = set(variants_df['FILE'])\n",
    "        for chrom in set(variants_df['CHROM']):\n",
    "            seq = Bio.Seq.Seq(self._ref_proxy.get_sequence(f'NCBI:{chrom}'))\n",
    "            df_chrom = variants_df[variants_df['CHROM'] == chrom]\n",
    "            positions = list(set(df_chrom['POS']))\n",
    "            positions.sort()\n",
    "            for pos in positions:\n",
    "                ref = seq[pos-1:pos]\n",
    "\n",
    "                # if in core\n",
    "                if self._core_masks[chrom][pos]:\n",
    "                    df_pos = df_chrom[df_chrom['POS'] == pos]\n",
    "                    for file in all_files:\n",
    "                        if chrom not in file_seqs:\n",
    "                            file_seqs[chrom] = {}\n",
    "                        if file not in file_seqs[chrom]:\n",
    "                            file_seqs[chrom][file] = Bio.Seq.Seq(data='')\n",
    "\n",
    "                        if file in set(df_pos['FILE']):\n",
    "                            df_file = df_pos[df_pos['FILE'] == file]\n",
    "                            alt = str(df_file['ALT'].values[0])\n",
    "                            ref_file = str(df_file['REF'].values[0])\n",
    "\n",
    "                            if ref_file != ref:\n",
    "                                raise Exception(f'Error: reference from VCF [{ref_file}] != reference from genome [{ref}] for {chrom}:{pos}:{file}')\n",
    "\n",
    "                            file_seqs[chrom][file] += alt\n",
    "                        else:\n",
    "                            file_seqs[chrom][file] += ref\n",
    "\n",
    "                    if include_reference:\n",
    "                        # Add the reference sequence in\n",
    "                        if 'reference' not in file_seqs[chrom]:\n",
    "                            file_seqs[chrom]['reference'] = Bio.Seq.Seq(data='')\n",
    "\n",
    "                        file_seqs[chrom]['reference'] += ref\n",
    "\n",
    "        for chrom in file_seqs:\n",
    "            chrom_records = [Bio.SeqRecord.SeqRecord(file_seqs[chrom][file], id=file) for file in file_seqs[chrom]]\n",
    "            chrom_alignments[chrom] = Bio.Align.MultipleSeqAlignment(chrom_records)\n",
    "                \n",
    "        chroms = sorted(chrom_alignments.keys())\n",
    "        chr1 = chroms.pop()\n",
    "        core_snv_align = chrom_alignments[chr1]\n",
    "\n",
    "        for chrom in chroms:\n",
    "            core_snv_align += chrom_alignments[chrom]\n",
    "                \n",
    "        return core_snv_align\n",
    "        \n",
    "align_constructor = CoreAlignmentConstructor(session, ref_proxy)\n",
    "alignment = align_constructor.construct_alignment(df[df['TYPE'] == 'snp'])\n",
    "print(alignment)"
   ]
  },
  {
   "cell_type": "code",
   "execution_count": null,
   "metadata": {},
   "outputs": [],
   "source": []
  },
  {
   "cell_type": "code",
   "execution_count": null,
   "metadata": {},
   "outputs": [],
   "source": []
  },
  {
   "cell_type": "code",
   "execution_count": null,
   "metadata": {},
   "outputs": [],
   "source": []
  }
 ],
 "metadata": {
  "kernelspec": {
   "display_name": "Python 3",
   "language": "python",
   "name": "python3"
  },
  "language_info": {
   "codemirror_mode": {
    "name": "ipython",
    "version": 3
   },
   "file_extension": ".py",
   "mimetype": "text/x-python",
   "name": "python",
   "nbconvert_exporter": "python",
   "pygments_lexer": "ipython3",
   "version": "3.8.6"
  }
 },
 "nbformat": 4,
 "nbformat_minor": 4
}
