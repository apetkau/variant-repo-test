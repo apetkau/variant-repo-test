{
 "cells": [
  {
   "cell_type": "markdown",
   "metadata": {},
   "source": [
    "# ga4gh variant API test\n",
    "\n",
    "This contains some tests of the Python ga4gh variant API <https://github.com/ga4gh/vrs-python>. To run this notebook please install the following packages:\n",
    "\n",
    "```bash\n",
    "python -m pip install ga4gh.vrs[extras] seqrepo\n",
    "```\n",
    "\n",
    "You will need to setup [seqrepo](https://github.com/biocommons/biocommons.seqrepo) with the reference genome [NC_045512.2](https://www.ncbi.nlm.nih.gov/nuccore/NC_045512.2/). To do this, please download the fasta file and run the following:\n",
    "\n",
    "```bash\n",
    "seqrepo --root-directory data init -i references\n",
    "seqrepo --root-directory data load -i references -n NCBI reference/NC_045512.2.fasta\n",
    "```\n",
    "\n",
    "Now, when you reference the seqrepo repository, you can reference as:\n",
    "\n",
    "```python\n",
    "SeqRepo(\"data/references\")\n",
    "```\n",
    "\n",
    "Much of the testing here is drawn from the examples in <https://github.com/ga4gh/vrs-python>."
   ]
  },
  {
   "cell_type": "code",
   "execution_count": 31,
   "metadata": {},
   "outputs": [
    {
     "name": "stdout",
     "output_type": "stream",
     "text": [
      "0.6.0rc0\n"
     ]
    }
   ],
   "source": [
    "from ga4gh.vrs import __version__, models, normalize\n",
    "\n",
    "print(__version__)"
   ]
  },
  {
   "cell_type": "code",
   "execution_count": 2,
   "metadata": {},
   "outputs": [
    {
     "data": {
      "text/plain": [
       "{'location': {'interval': {'end': 10, 'start': 10, 'type': 'SimpleInterval'},\n",
       "  'sequence_id': 'refseq:NC_045512.2',\n",
       "  'type': 'SequenceLocation'},\n",
       " 'state': {'sequence': 'ATC', 'type': 'SequenceState'},\n",
       " 'type': 'Allele'}"
      ]
     },
     "execution_count": 2,
     "metadata": {},
     "output_type": "execute_result"
    }
   ],
   "source": [
    "location = models.SequenceLocation(\n",
    "    sequence_id=\"refseq:NC_045512.2\",\n",
    "    interval=models.SimpleInterval(start=10, end=10))\n",
    "allele = models.Allele(location=location,\n",
    "                       state=models.SequenceState(sequence=\"ATC\"))\n",
    "allele.as_dict()"
   ]
  },
  {
   "cell_type": "markdown",
   "metadata": {},
   "source": [
    "## Reference\n",
    "\n",
    "Dealing with the reference genome."
   ]
  },
  {
   "cell_type": "code",
   "execution_count": 3,
   "metadata": {},
   "outputs": [
    {
     "data": {
      "text/plain": [
       "<ga4gh.vrs.dataproxy.SeqRepoDataProxy at 0x7fb309be7d60>"
      ]
     },
     "execution_count": 3,
     "metadata": {},
     "output_type": "execute_result"
    }
   ],
   "source": [
    "from biocommons.seqrepo import SeqRepo\n",
    "import ga4gh.vrs.dataproxy as dataproxy\n",
    "\n",
    "sr = SeqRepo(\"data/references\")\n",
    "dp = dataproxy.SeqRepoDataProxy(sr)\n",
    "dp"
   ]
  },
  {
   "cell_type": "code",
   "execution_count": 4,
   "metadata": {},
   "outputs": [
    {
     "data": {
      "text/plain": [
       "['MD5:105c82802b67521950854a851fc6eefd',\n",
       " 'NCBI:NC_045512.2',\n",
       " 'refseq:NC_045512.2',\n",
       " 'SEGUID:TGmvT2vKTXx8/+dSNEdefxwTreY',\n",
       " 'SHA1:4c69af4f6bca4d7c7cffe75234475e7f1c13ade6',\n",
       " 'VMC:GS_SyGVJg_YRedxvsjpqNdUgyyqx7lUfu_D',\n",
       " 'sha512t24u:SyGVJg_YRedxvsjpqNdUgyyqx7lUfu_D',\n",
       " 'ga4gh:SQ.SyGVJg_YRedxvsjpqNdUgyyqx7lUfu_D']"
      ]
     },
     "execution_count": 4,
     "metadata": {},
     "output_type": "execute_result"
    }
   ],
   "source": [
    "sr.translate_identifier('NC_045512.2')"
   ]
  },
  {
   "cell_type": "code",
   "execution_count": 5,
   "metadata": {},
   "outputs": [
    {
     "data": {
      "text/plain": [
       "'TATACCTTCC'"
      ]
     },
     "execution_count": 5,
     "metadata": {},
     "output_type": "execute_result"
    }
   ],
   "source": [
    "dp.get_sequence('NCBI:NC_045512.2', start=10, end=20)"
   ]
  },
  {
   "cell_type": "code",
   "execution_count": 6,
   "metadata": {},
   "outputs": [
    {
     "data": {
      "text/plain": [
       "<Allele _id=None location=<SequenceLocation _id=None interval=<SimpleInterval end=<Literal<int> 10> start=<Literal<int> 10> type=<Literal<str> SimpleInterval>> sequence_id=<Literal<str> refseq:NC_045512.2> type=<Literal<str> SequenceLocation>> state=<SequenceState sequence=<Literal<str> ATC> type=<Literal<str> SequenceState>> type=<Literal<str> Allele>>"
      ]
     },
     "execution_count": 6,
     "metadata": {},
     "output_type": "execute_result"
    }
   ],
   "source": [
    "n = normalize(allele, dp)\n",
    "n"
   ]
  },
  {
   "cell_type": "markdown",
   "metadata": {},
   "source": [
    "# Hashing\n",
    "\n",
    "Used to produce unique identifiers for each variant."
   ]
  },
  {
   "cell_type": "code",
   "execution_count": 7,
   "metadata": {},
   "outputs": [
    {
     "data": {
      "text/plain": [
       "'aKF498dAxcJAqme6QYQ7EZ07-fiw8Kw2'"
      ]
     },
     "execution_count": 7,
     "metadata": {},
     "output_type": "execute_result"
    }
   ],
   "source": [
    "from ga4gh.core import sha512t24u\n",
    "\n",
    "sha512t24u(b\"ACGT\")"
   ]
  },
  {
   "cell_type": "code",
   "execution_count": 13,
   "metadata": {},
   "outputs": [
    {
     "data": {
      "text/plain": [
       "'ga4gh:VA.tmFduBOOW5xeKfZUEwLybg88W490taiZ'"
      ]
     },
     "execution_count": 13,
     "metadata": {},
     "output_type": "execute_result"
    }
   ],
   "source": [
    "from ga4gh.core import ga4gh_identify\n",
    "\n",
    "location = models.SequenceLocation(\n",
    "    sequence_id=\"refseq:NC_045512.2\",\n",
    "    interval=models.SimpleInterval(start=11, end=12))\n",
    "allele2 = models.Allele(location=location,\n",
    "                       state=models.SequenceState(sequence=\"G\"))\n",
    "\n",
    "ga4gh_identify(allele2)"
   ]
  },
  {
   "cell_type": "markdown",
   "metadata": {},
   "source": [
    "# Variation Set"
   ]
  },
  {
   "cell_type": "code",
   "execution_count": 18,
   "metadata": {},
   "outputs": [
    {
     "name": "stdout",
     "output_type": "stream",
     "text": [
      "{\n",
      "  \"members\": [\n",
      "    {\n",
      "      \"location\": {\n",
      "        \"interval\": {\n",
      "          \"end\": 11,\n",
      "          \"start\": 10,\n",
      "          \"type\": \"SimpleInterval\"\n",
      "        },\n",
      "        \"sequence_id\": \"refseq:NC_045512.2\",\n",
      "        \"type\": \"SequenceLocation\"\n",
      "      },\n",
      "      \"state\": {\n",
      "        \"sequence\": \"A\",\n",
      "        \"type\": \"SequenceState\"\n",
      "      },\n",
      "      \"type\": \"Allele\"\n",
      "    },\n",
      "    {\n",
      "      \"location\": {\n",
      "        \"interval\": {\n",
      "          \"end\": 21,\n",
      "          \"start\": 20,\n",
      "          \"type\": \"SimpleInterval\"\n",
      "        },\n",
      "        \"sequence_id\": \"refseq:NC_045512.2\",\n",
      "        \"type\": \"SequenceLocation\"\n",
      "      },\n",
      "      \"state\": {\n",
      "        \"sequence\": \"T\",\n",
      "        \"type\": \"SequenceState\"\n",
      "      },\n",
      "      \"type\": \"Allele\"\n",
      "    }\n",
      "  ],\n",
      "  \"type\": \"VariationSet\"\n",
      "}\n"
     ]
    }
   ],
   "source": [
    "import json\n",
    "def ppo(o):\n",
    "    \"\"\"pretty print object as json\"\"\"\n",
    "    print(json.dumps(o.as_dict(), indent=2))\n",
    "\n",
    "a1 = models.Allele(location=models.SequenceLocation(\n",
    "                        sequence_id=\"refseq:NC_045512.2\",\n",
    "                        interval=models.SimpleInterval(start=10, end=11)\n",
    "                      ),\n",
    "                   state=models.SequenceState(sequence=\"A\"),\n",
    ")\n",
    "\n",
    "a2 = models.Allele(location=models.SequenceLocation(\n",
    "                        sequence_id=\"refseq:NC_045512.2\",\n",
    "                        interval=models.SimpleInterval(start=20, end=21)\n",
    "                      ),\n",
    "                   state=models.SequenceState(sequence=\"T\"),\n",
    ")\n",
    "\n",
    "\n",
    "vs = models.VariationSet(members=[a1,a2])\n",
    "ppo(vs)"
   ]
  },
  {
   "cell_type": "code",
   "execution_count": 22,
   "metadata": {},
   "outputs": [
    {
     "data": {
      "text/plain": [
       "{'members': ['ga4gh:VA.rqHqpdFHmoZuAb5ENO0li9oN8NPTvfj6',\n",
       "  'ga4gh:VA.x0nUy9gmIIQ9RARvi5rt6UpbdkBpkJf5'],\n",
       " 'type': 'VariationSet'}"
      ]
     },
     "execution_count": 22,
     "metadata": {},
     "output_type": "execute_result"
    }
   ],
   "source": [
    "vs_referenced = models.VariationSet(members=[ga4gh_identify(a) for a in [a1,a2]])\n",
    "vs_referenced.as_dict()"
   ]
  },
  {
   "cell_type": "code",
   "execution_count": 27,
   "metadata": {},
   "outputs": [
    {
     "name": "stdout",
     "output_type": "stream",
     "text": [
      "ga4gh:VS.Hfdd7bqexeBvX8QF_HyRYXzF1jePhnDu\n",
      "ga4gh:VS.Hfdd7bqexeBvX8QF_HyRYXzF1jePhnDu\n"
     ]
    }
   ],
   "source": [
    "print(ga4gh_identify(vs_referenced))\n",
    "print(ga4gh_identify(vs))"
   ]
  },
  {
   "cell_type": "markdown",
   "metadata": {},
   "source": [
    "# Haplotypes"
   ]
  },
  {
   "cell_type": "code",
   "execution_count": 39,
   "metadata": {},
   "outputs": [
    {
     "name": "stdout",
     "output_type": "stream",
     "text": [
      "{\n",
      "  \"members\": [\n",
      "    {\n",
      "      \"location\": {\n",
      "        \"interval\": {\n",
      "          \"end\": 11,\n",
      "          \"start\": 10,\n",
      "          \"type\": \"SimpleInterval\"\n",
      "        },\n",
      "        \"sequence_id\": \"refseq:NC_045512.2\",\n",
      "        \"type\": \"SequenceLocation\"\n",
      "      },\n",
      "      \"state\": {\n",
      "        \"sequence\": \"A\",\n",
      "        \"type\": \"SequenceState\"\n",
      "      },\n",
      "      \"type\": \"Allele\"\n",
      "    },\n",
      "    {\n",
      "      \"location\": {\n",
      "        \"interval\": {\n",
      "          \"end\": 21,\n",
      "          \"start\": 20,\n",
      "          \"type\": \"SimpleInterval\"\n",
      "        },\n",
      "        \"sequence_id\": \"refseq:NC_045512.2\",\n",
      "        \"type\": \"SequenceLocation\"\n",
      "      },\n",
      "      \"state\": {\n",
      "        \"sequence\": \"T\",\n",
      "        \"type\": \"SequenceState\"\n",
      "      },\n",
      "      \"type\": \"Allele\"\n",
      "    }\n",
      "  ],\n",
      "  \"type\": \"Haplotype\"\n",
      "}\n"
     ]
    }
   ],
   "source": [
    "ht = models.Haplotype(members=[a1, a2])\n",
    "ppo(ht)"
   ]
  },
  {
   "cell_type": "code",
   "execution_count": 40,
   "metadata": {},
   "outputs": [
    {
     "data": {
      "text/plain": [
       "'ga4gh:VH.b7udRSiJbDJEwViJta97xqyutOusWvti'"
      ]
     },
     "execution_count": 40,
     "metadata": {},
     "output_type": "execute_result"
    }
   ],
   "source": [
    "ga4gh_identify(ht)"
   ]
  },
  {
   "cell_type": "markdown",
   "metadata": {},
   "source": [
    "# Variant translation"
   ]
  },
  {
   "cell_type": "code",
   "execution_count": 43,
   "metadata": {},
   "outputs": [
    {
     "data": {
      "text/plain": [
       "<ga4gh.vrs.extras.translator.Translator at 0x7fb2f19398b0>"
      ]
     },
     "execution_count": 43,
     "metadata": {},
     "output_type": "execute_result"
    }
   ],
   "source": [
    "from ga4gh.vrs.extras.translator import Translator\n",
    "\n",
    "tlr = Translator(data_proxy=dp,\n",
    "                 translate_sequence_identifiers=True,\n",
    "                 normalize=True,\n",
    "                 identify=True)\n",
    "tlr"
   ]
  },
  {
   "cell_type": "code",
   "execution_count": 66,
   "metadata": {},
   "outputs": [
    {
     "name": "stdout",
     "output_type": "stream",
     "text": [
      "ga4gh:VA.Ejez0NZaxrvPYgpDDEhi7GkrZTi5DdWE\n",
      "ga4gh:VA.rqHqpdFHmoZuAb5ENO0li9oN8NPTvfj6\n"
     ]
    },
    {
     "data": {
      "text/plain": [
       "<Allele _id=<Literal<str> ga4gh:VA.Ejez0NZaxrvPYgpDDEhi7GkrZTi5DdWE> location=<SequenceLocation _id=None interval=<SimpleInterval end=<Literal<int> 21> start=<Literal<int> 10> type=<Literal<str> SimpleInterval>> sequence_id=<Literal<str> ga4gh:SQ.SyGVJg_YRedxvsjpqNdUgyyqx7lUfu_D> type=<Literal<str> SequenceLocation>> state=<SequenceState sequence=<Literal<str> A> type=<Literal<str> SequenceState>> type=<Literal<str> Allele>>"
      ]
     },
     "execution_count": 66,
     "metadata": {},
     "output_type": "execute_result"
    }
   ],
   "source": [
    "a = tlr.translate_from(\"NC_045512.2:10:11:A\")\n",
    "print(ga4gh_identify(a))\n",
    "print(ga4gh_identify(a1))\n",
    "a"
   ]
  },
  {
   "cell_type": "markdown",
   "metadata": {},
   "source": [
    "# Feature-based locations"
   ]
  },
  {
   "cell_type": "code",
   "execution_count": 34,
   "metadata": {},
   "outputs": [],
   "source": [
    "#gl1 = models.GeneLocation(gene=\"ncbigene:672\")\n",
    "#gl1.as_dict()"
   ]
  },
  {
   "cell_type": "code",
   "execution_count": null,
   "metadata": {},
   "outputs": [],
   "source": []
  }
 ],
 "metadata": {
  "kernelspec": {
   "display_name": "Python 3",
   "language": "python",
   "name": "python3"
  },
  "language_info": {
   "codemirror_mode": {
    "name": "ipython",
    "version": 3
   },
   "file_extension": ".py",
   "mimetype": "text/x-python",
   "name": "python",
   "nbconvert_exporter": "python",
   "pygments_lexer": "ipython3",
   "version": "3.8.6"
  }
 },
 "nbformat": 4,
 "nbformat_minor": 4
}
