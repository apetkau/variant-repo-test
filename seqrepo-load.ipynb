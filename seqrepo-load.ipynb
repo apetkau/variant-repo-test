{
 "cells": [
  {
   "cell_type": "markdown",
   "metadata": {},
   "source": [
    "# Loading data into **seqrepo**"
   ]
  },
  {
   "cell_type": "code",
   "execution_count": 2,
   "metadata": {},
   "outputs": [],
   "source": [
    "!seqrepo --root-directory data init -i references"
   ]
  },
  {
   "cell_type": "code",
   "execution_count": 3,
   "metadata": {},
   "outputs": [
    {
     "name": "stdout",
     "output_type": "stream",
     "text": [
      "NC_045512.2.fasta:   0%|                                | 0/1 [00:00<?, ?file/s]\n",
      "0 seqs [00:00, ? seqs/s]\u001b[A\n",
      "sequences: 0/1 added/seen; aliases: 0 added: : 0 seqs [00:00, ? seqs/s]\u001b[A\n",
      "NC_045512.2.fasta: 100%|███████████████████████| 1/1 [00:00<00:00, 110.70file/s]\n"
     ]
    }
   ],
   "source": [
    "!seqrepo --root-directory data load -i references -n NCBI reference/NC_045512.2.fasta"
   ]
  },
  {
   "cell_type": "code",
   "execution_count": 5,
   "metadata": {},
   "outputs": [
    {
     "name": "stdout",
     "output_type": "stream",
     "text": [
      "WARNING:biocommons.seqrepo.seqaliasdb.seqaliasdb:translate_ncbi_namespace is obsolete; translation is now automatic; this flag will be removed\n",
      ">NCBI:NC_045512.2 refseq:NC_045512.2\n",
      "ATTAAAGGTTTATACCTTCCCAGGTAACAAACCAACCAACTTTCGATCTCTTGTAGATCTGTTCTCTAAACGAACTTTAAAATCTGTGTGGCTGTCACTC\n",
      "GGCTGCATGCTTAGTGCACTCACGCAGTATAATTAATAACTAATTACTGTCGTTGACAGGACACGAGTAACTCGTCTATCTTCTGCAGGCTGCTTACGGT\n",
      "TTCGTCCGTGTTGCAGCCGATCATCAGCACATCTAGGTTTCGTCCGGGTGTGACCGAAAGGTAAGATGGAGAGCCTTGTCCCTGGTTTCAACGAGAAAAC\n",
      "ACACGTCCAACTCAGTTTGCCTGTTTTACAGGTTCGCGACGTGCTCGTACGTGGCTTTGGAGACTCCGTGGAGGAGGTCTTATCAGAGGCACGTCAACAT\n",
      "CTTAAAGATGGCACTTGTGGCTTAGTAGAAGTTGAAAAAGGCGTTTTGCCTCAACTTGAACAGCCCTATGTGTTCATCAAACGTTCGGATGCTCGAACTG\n",
      "CACCTCATGGTCATGTTATGGTTGAGCTGGTAGCAGAACTCGAAGGCATTCAGTACGGTCGTAGTGGTGAGACACTTGGTGTCCTTGTCCCTCATGTGGG\n",
      "CGAAATACCAGTGGCTTACCGCAAGGTTCTTCTTCGTAAGAACGGTAATAAAGGAGCTGGTGGCCATAGTTACGGCGCCGATCTAAAGTCATTTGACTTA\n",
      "GGCGACGAGCTTGGCACTGATCCTTATGAAGATTTTCAAGAAAACTGGAACACTAAACATAGCAGTGGTGTTACCCGTGAACTCATGCGTGAGCTTAACG\n",
      "GAGGGGCATACACTCGCTATGTCGATAACAACTTCTGTGGCCCTGATGGCTACCCTCTTGAGTGCATTAAAGACCTTCTAGCACGTGCTGGTAAAGCTTC\n"
     ]
    }
   ],
   "source": [
    "!seqrepo --root-directory data export -i references NC_045512.2 | head"
   ]
  },
  {
   "cell_type": "markdown",
   "metadata": {},
   "source": [
    "# Python API"
   ]
  },
  {
   "cell_type": "code",
   "execution_count": 10,
   "metadata": {},
   "outputs": [
    {
     "data": {
      "text/plain": [
       "'ATTAAAGGTTT'"
      ]
     },
     "execution_count": 10,
     "metadata": {},
     "output_type": "execute_result"
    }
   ],
   "source": [
    "from biocommons.seqrepo import SeqRepo\n",
    "\n",
    "sr = SeqRepo(\"data/references\")\n",
    "sr[\"NC_045512.2\"][:11]"
   ]
  },
  {
   "cell_type": "code",
   "execution_count": 30,
   "metadata": {},
   "outputs": [
    {
     "data": {
      "text/plain": [
       "SequenceProxy(seq_id=SyGVJg_YRedxvsjpqNdUgyyqx7lUfu_D, len=29903)"
      ]
     },
     "execution_count": 30,
     "metadata": {},
     "output_type": "execute_result"
    }
   ],
   "source": [
    "sr[\"NC_045512.2\"]"
   ]
  },
  {
   "cell_type": "code",
   "execution_count": 31,
   "metadata": {},
   "outputs": [
    {
     "data": {
      "text/plain": [
       "['MD5:105c82802b67521950854a851fc6eefd',\n",
       " 'NCBI:NC_045512.2',\n",
       " 'refseq:NC_045512.2',\n",
       " 'SEGUID:TGmvT2vKTXx8/+dSNEdefxwTreY',\n",
       " 'SHA1:4c69af4f6bca4d7c7cffe75234475e7f1c13ade6',\n",
       " 'VMC:GS_SyGVJg_YRedxvsjpqNdUgyyqx7lUfu_D',\n",
       " 'sha512t24u:SyGVJg_YRedxvsjpqNdUgyyqx7lUfu_D',\n",
       " 'ga4gh:SQ.SyGVJg_YRedxvsjpqNdUgyyqx7lUfu_D']"
      ]
     },
     "execution_count": 31,
     "metadata": {},
     "output_type": "execute_result"
    }
   ],
   "source": [
    "sr.translate_identifier('NC_045512.2')"
   ]
  },
  {
   "cell_type": "code",
   "execution_count": 36,
   "metadata": {},
   "outputs": [
    {
     "data": {
      "text/plain": [
       "{'n_sequences': 1,\n",
       " 'tot_length': 29903,\n",
       " 'min_ts': '2020-12-07 01:54:59',\n",
       " 'max_ts': '2020-12-07 01:54:59',\n",
       " 'n_files': 1}"
      ]
     },
     "execution_count": 36,
     "metadata": {},
     "output_type": "execute_result"
    }
   ],
   "source": [
    "sr.sequences.stats()"
   ]
  }
 ],
 "metadata": {
  "kernelspec": {
   "display_name": "Python 3",
   "language": "python",
   "name": "python3"
  },
  "language_info": {
   "codemirror_mode": {
    "name": "ipython",
    "version": 3
   },
   "file_extension": ".py",
   "mimetype": "text/x-python",
   "name": "python",
   "nbconvert_exporter": "python",
   "pygments_lexer": "ipython3",
   "version": "3.8.0"
  }
 },
 "nbformat": 4,
 "nbformat_minor": 4
}
